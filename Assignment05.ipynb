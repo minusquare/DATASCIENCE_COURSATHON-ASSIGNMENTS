{
 "cells": [
  {
   "cell_type": "markdown",
   "id": "8e0a11c2",
   "metadata": {},
   "source": [
    "# 1. What does an empty dictionary's code look like?"
   ]
  },
  {
   "cell_type": "code",
   "execution_count": null,
   "id": "ba2ed4db",
   "metadata": {},
   "outputs": [],
   "source": [
    "# ANS: 1 \n",
    "# THE CODE LOOKS LIKE {}\n",
    "# Let the name of dictionary be dict1; then an empty dictionary can be created by 2 methods\n",
    "# FIRST METHOD:\n",
    "# dict1 = {}\n",
    "# SECOND METHOD\n",
    "# dict1= dict()"
   ]
  },
  {
   "cell_type": "markdown",
   "id": "16c69932",
   "metadata": {},
   "source": [
    "# 2. What is the value of a dictionary value with the key 'foo' and the value 42?"
   ]
  },
  {
   "cell_type": "code",
   "execution_count": 12,
   "id": "c2d9cc46",
   "metadata": {
    "ExecuteTime": {
     "end_time": "2022-02-22T09:37:50.781757Z",
     "start_time": "2022-02-22T09:37:50.754766Z"
    }
   },
   "outputs": [
    {
     "name": "stdout",
     "output_type": "stream",
     "text": [
      "42\n",
      "dict_values([42])\n"
     ]
    }
   ],
   "source": [
    "# ANS2:\n",
    "# The value is 42 and if name of dictionary is dict then it can be accessed \n",
    "# by dict['foo']\n",
    "dict={'foo': 42}\n",
    "print(dict['foo'])\n",
    "print(dict.values())"
   ]
  },
  {
   "cell_type": "markdown",
   "id": "24a78eb5",
   "metadata": {},
   "source": [
    "# 3. What is the most significant distinction between a dictionary and a list?"
   ]
  },
  {
   "cell_type": "code",
   "execution_count": null,
   "id": "8f7aab2d",
   "metadata": {},
   "outputs": [],
   "source": [
    "# ANS: 3\n",
    "# A list is an ordered collection of solo elements while dictionary is \n",
    "# un-ordered collection of elements which are not solo but in key:value form\n",
    "#\n",
    "# 'Ordered' means that a List maintains the order of elements. In other words,\n",
    "# the first element you add remains at index 0. The second element you add \n",
    "# remains at index 1. And so forth.If you remove an element, the rest of the \n",
    "# elements remain in the same order, although the elements after the removed \n",
    "# element change their index positions.\n",
    "#\n",
    "# Unordered here is a bit tricky as in Python 3.7 and all later versions, \n",
    "# dictionaries are sorted by the order of item insertion. This means the \n",
    "# dictionary keeps the order in which we defined the dictionary. However\n",
    "# in python version 3.6 and earlier there is no gurantee that we will\n",
    "# get elements in same order while printing as they were inserted while\n",
    "# creating dictionary"
   ]
  },
  {
   "cell_type": "markdown",
   "id": "69cde03a",
   "metadata": {},
   "source": [
    "# 4. What happens if you try to access spam['foo'] if spam is {'bar': 100}?"
   ]
  },
  {
   "cell_type": "code",
   "execution_count": 8,
   "id": "9e4bf857",
   "metadata": {
    "ExecuteTime": {
     "end_time": "2022-02-22T09:29:41.702143Z",
     "start_time": "2022-02-22T09:29:41.692142Z"
    }
   },
   "outputs": [
    {
     "ename": "KeyError",
     "evalue": "'foo'",
     "output_type": "error",
     "traceback": [
      "\u001b[1;31m---------------------------------------------------------------------------\u001b[0m",
      "\u001b[1;31mKeyError\u001b[0m                                  Traceback (most recent call last)",
      "\u001b[1;32m~\\AppData\\Local\\Temp/ipykernel_14236/2501232541.py\u001b[0m in \u001b[0;36m<module>\u001b[1;34m\u001b[0m\n\u001b[0;32m      1\u001b[0m \u001b[1;31m# We get \"KeyError: 'foo'\"  as there is no key 'foo' in 'spam'\u001b[0m\u001b[1;33m\u001b[0m\u001b[1;33m\u001b[0m\u001b[0m\n\u001b[1;32m----> 2\u001b[1;33m \u001b[0mspam\u001b[0m\u001b[1;33m[\u001b[0m\u001b[1;34m'foo'\u001b[0m\u001b[1;33m]\u001b[0m\u001b[1;33m\u001b[0m\u001b[1;33m\u001b[0m\u001b[0m\n\u001b[0m",
      "\u001b[1;31mKeyError\u001b[0m: 'foo'"
     ]
    }
   ],
   "source": [
    "# We get \"KeyError: 'foo'\"  as there is no key 'foo' in 'spam'\n",
    "spam['foo']"
   ]
  },
  {
   "cell_type": "markdown",
   "id": "b4b1aa18",
   "metadata": {},
   "source": [
    "# 5. If a dictionary is stored in spam, what is the difference between the expressions 'cat' in spam and 'cat' in spam.keys()?"
   ]
  },
  {
   "cell_type": "code",
   "execution_count": 16,
   "id": "f319e114",
   "metadata": {
    "ExecuteTime": {
     "end_time": "2022-02-22T09:46:20.789705Z",
     "start_time": "2022-02-22T09:46:20.784699Z"
    }
   },
   "outputs": [
    {
     "name": "stdout",
     "output_type": "stream",
     "text": [
      "True\n",
      "True\n"
     ]
    }
   ],
   "source": [
    "# ANS:5 In both cases the 'in' operator will check if 'cat' exists in keys\n",
    "# of dictionary spam and return 'True' if it exists and 'False' if it does not.\n",
    "spam= {'cat':'black'}\n",
    "print('cat' in spam)\n",
    "print('cat' in spam.keys())"
   ]
  },
  {
   "cell_type": "markdown",
   "id": "707b2605",
   "metadata": {},
   "source": [
    "# 6. If a dictionary is stored in spam, what is the difference between the expressions 'cat' in spam and 'cat' in spam.values()?"
   ]
  },
  {
   "cell_type": "code",
   "execution_count": 20,
   "id": "b2e8ebd6",
   "metadata": {
    "ExecuteTime": {
     "end_time": "2022-02-22T09:57:43.865647Z",
     "start_time": "2022-02-22T09:57:43.854646Z"
    }
   },
   "outputs": [
    {
     "name": "stdout",
     "output_type": "stream",
     "text": [
      "False\n",
      "True\n"
     ]
    }
   ],
   "source": [
    "# ANS:5\n",
    "# The expression 'cat' in spam will test if one of the keys in dictionary\n",
    "# 'spam' is 'cat'  WHILE\n",
    "# The expression 'cat' in spam.values() will test if  there exists some value\n",
    "# equal to 'cat', for any one of the keys in dictionary  \n",
    "spam= {'dog':'cat'}\n",
    "print('cat' in spam)         # Will give False as 'cat' is not in keys\n",
    "print('cat' in spam.values())# Will give True as 'cat' is in keys"
   ]
  },
  {
   "cell_type": "markdown",
   "id": "afc6753f",
   "metadata": {},
   "source": [
    "# 7. What is a shortcut for the following code?\n",
    "<!-- if 'color' not in spam:\n",
    "spam['color'] = 'black' -->"
   ]
  },
  {
   "cell_type": "code",
   "execution_count": 22,
   "id": "9e5e74a6",
   "metadata": {
    "ExecuteTime": {
     "end_time": "2022-02-22T09:59:56.852297Z",
     "start_time": "2022-02-22T09:59:56.841293Z"
    }
   },
   "outputs": [
    {
     "data": {
      "text/plain": [
       "{'color': 'black'}"
      ]
     },
     "execution_count": 22,
     "metadata": {},
     "output_type": "execute_result"
    }
   ],
   "source": [
    "# ANS 7:\n",
    "# A SINGLE LINE OF CODE \"spam.setdefault('color', 'black')\" DOES SAME WORK\n",
    "spam ={}\n",
    "spam.setdefault('color', 'black')       # shorter\n",
    "spam"
   ]
  },
  {
   "cell_type": "code",
   "execution_count": 23,
   "id": "db16e9f7",
   "metadata": {
    "ExecuteTime": {
     "end_time": "2022-02-22T10:00:32.502834Z",
     "start_time": "2022-02-22T10:00:32.484835Z"
    }
   },
   "outputs": [
    {
     "data": {
      "text/plain": [
       "{'color': 'black'}"
      ]
     },
     "execution_count": 23,
     "metadata": {},
     "output_type": "execute_result"
    }
   ],
   "source": [
    "spam ={}\n",
    "if 'color' not in spam:\n",
    "    spam['color'] = 'black'            # longer\n",
    "spam"
   ]
  },
  {
   "cell_type": "markdown",
   "id": "7c1cbf06",
   "metadata": {},
   "source": [
    "# 8. How do you \"pretty print\" dictionary values using which module and function?"
   ]
  },
  {
   "cell_type": "code",
   "execution_count": null,
   "id": "cddd1e6d",
   "metadata": {},
   "outputs": [],
   "source": [
    "#ANS 8:\n",
    "# first import module pprint\n",
    "# Then use function pprint.pprint()"
   ]
  },
  {
   "cell_type": "code",
   "execution_count": 66,
   "id": "bb66e68f",
   "metadata": {
    "ExecuteTime": {
     "end_time": "2022-02-22T11:20:55.326052Z",
     "start_time": "2022-02-22T11:20:55.291023Z"
    }
   },
   "outputs": [
    {
     "name": "stdout",
     "output_type": "stream",
     "text": [
      "{'id': '0001', 'type': 'donut', 'name': 'Cake', 'ppu': 0.55, 'batters': {'batter': [{'id': '1001', 'type': 'Regular'}, {'id': '1002', 'type': 'Chocolate'}, {'id': '1003', 'type': 'Blueberry'}, {'id': '1004', 'type': \"Devil's Food\"}]}, 'topping': [{'id': '5001', 'type': 'None'}, {'id': '5002', 'type': 'Glazed'}, {'id': '5005', 'type': 'Sugar'}, {'id': '5007', 'type': 'Powdered Sugar'}, {'id': '5006', 'type': 'Chocolate with Sprinkles'}, {'id': '5003', 'type': 'Chocolate'}, {'id': '5004', 'type': 'Maple'}]}\n",
      "======================================================================\n",
      "{'batters': {'batter': [{'id': '1001', 'type': 'Regular'},\n",
      "                        {'id': '1002', 'type': 'Chocolate'},\n",
      "                        {'id': '1003', 'type': 'Blueberry'},\n",
      "                        {'id': '1004', 'type': \"Devil's Food\"}]},\n",
      " 'id': '0001',\n",
      " 'name': 'Cake',\n",
      " 'ppu': 0.55,\n",
      " 'topping': [{'id': '5001', 'type': 'None'},\n",
      "             {'id': '5002', 'type': 'Glazed'},\n",
      "             {'id': '5005', 'type': 'Sugar'},\n",
      "             {'id': '5007', 'type': 'Powdered Sugar'},\n",
      "             {'id': '5006', 'type': 'Chocolate with Sprinkles'},\n",
      "             {'id': '5003', 'type': 'Chocolate'},\n",
      "             {'id': '5004', 'type': 'Maple'}],\n",
      " 'type': 'donut'}\n"
     ]
    }
   ],
   "source": [
    "# The difference between  outputs of print and pprint() is shown by following snippet\n",
    "import pprint\n",
    "mydict = {\n",
    "            \"id\": \"0001\",\n",
    "            \"type\": \"donut\",\n",
    "            \"name\": \"Cake\",\n",
    "            \"ppu\": 0.55,\n",
    "            \"batters\":\n",
    "                    {\n",
    "                        \"batter\":\n",
    "                             [\n",
    "                                { \"id\": \"1001\", \"type\": \"Regular\"},\n",
    "                                { \"id\": \"1002\", \"type\": \"Chocolate\"},\n",
    "                                { \"id\": \"1003\", \"type\": \"Blueberry\"},\n",
    "                                { \"id\": \"1004\", \"type\": \"Devil's Food\"}\n",
    "                             ]\n",
    "                    },\n",
    "                        \"topping\":\n",
    "                            [\n",
    "                                { \"id\": \"5001\", \"type\": \"None\" },\n",
    "                                { \"id\": \"5002\", \"type\": \"Glazed\" },\n",
    "                                { \"id\": \"5005\", \"type\": \"Sugar\" },\n",
    "                                { \"id\": \"5007\", \"type\": \"Powdered Sugar\" },\n",
    "                                { \"id\": \"5006\", \"type\": \"Chocolate with Sprinkles\" },\n",
    "                                { \"id\": \"5003\", \"type\": \"Chocolate\" },\n",
    "                                { \"id\": \"5004\", \"type\": \"Maple\" }\n",
    "                            ]\n",
    "        }\n",
    "print(mydict)\n",
    "print(\"======================================================================\")\n",
    "pprint.pprint(mydict)"
   ]
  }
 ],
 "metadata": {
  "kernelspec": {
   "display_name": "Python 3 (ipykernel)",
   "language": "python",
   "name": "python3"
  },
  "language_info": {
   "codemirror_mode": {
    "name": "ipython",
    "version": 3
   },
   "file_extension": ".py",
   "mimetype": "text/x-python",
   "name": "python",
   "nbconvert_exporter": "python",
   "pygments_lexer": "ipython3",
   "version": "3.9.7"
  },
  "nbTranslate": {
   "displayLangs": [
    "*"
   ],
   "hotkey": "alt-t",
   "langInMainMenu": true,
   "sourceLang": "en",
   "targetLang": "fr",
   "useGoogleTranslate": true
  },
  "toc": {
   "base_numbering": 1,
   "nav_menu": {},
   "number_sections": true,
   "sideBar": true,
   "skip_h1_title": false,
   "title_cell": "Table of Contents",
   "title_sidebar": "Contents",
   "toc_cell": false,
   "toc_position": {},
   "toc_section_display": true,
   "toc_window_display": false
  }
 },
 "nbformat": 4,
 "nbformat_minor": 5
}
