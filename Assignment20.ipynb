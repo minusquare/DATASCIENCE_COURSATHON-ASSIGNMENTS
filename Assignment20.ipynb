{
 "cells": [
  {
   "cell_type": "code",
   "execution_count": null,
   "id": "d7cbd2e6",
   "metadata": {},
   "outputs": [],
   "source": [
    "# 1. Set the variable test1 to the string 'This is a test of the emergency text \n",
    "# system,' and save test1 to a file named test.txt."
   ]
  },
  {
   "cell_type": "code",
   "execution_count": null,
   "id": "4ca6d171",
   "metadata": {
    "ExecuteTime": {
     "end_time": "2022-03-01T07:22:12.037949Z",
     "start_time": "2022-03-01T07:22:11.991088Z"
    }
   },
   "outputs": [],
   "source": [
    "test1 = 'This is a test of the emergency text system,'\n",
    "with open (\"test.txt\",'w') as f:\n",
    "    f.write(test1)"
   ]
  },
  {
   "cell_type": "code",
   "execution_count": null,
   "id": "389a8b5c",
   "metadata": {},
   "outputs": [],
   "source": [
    "# 2. Read the contents of the file test.txt into the variable test2. Is there\n",
    "# a difference between test 1 and test 2?"
   ]
  },
  {
   "cell_type": "code",
   "execution_count": null,
   "id": "5e6d5c5e",
   "metadata": {
    "ExecuteTime": {
     "end_time": "2022-03-01T07:29:17.998298Z",
     "start_time": "2022-03-01T07:29:17.951475Z"
    }
   },
   "outputs": [],
   "source": [
    "with open (\"test.txt\",'r') as f:\n",
    "    test2=f.read()\n",
    "print(test2)\n",
    "print(test1)"
   ]
  },
  {
   "cell_type": "code",
   "execution_count": null,
   "id": "6c700ef8",
   "metadata": {},
   "outputs": [],
   "source": [
    "# 3. Create a CSV file called books.csv by using these lines:\n",
    "\n",
    "# title,author,year\n",
    "# The Weirdstone of Brisingamen,Alan Garner,1960\n",
    "# Perdido Street Station,China Miéville,2000\n",
    "# Thud!,Terry Pratchett,2005\n",
    "# The Spellman Files,Lisa Lutz,2007\n",
    "# Small Gods,Terry Pratchett,1992\n"
   ]
  },
  {
   "cell_type": "code",
   "execution_count": null,
   "id": "7be7b64f",
   "metadata": {
    "ExecuteTime": {
     "end_time": "2022-03-01T09:09:57.634832Z",
     "start_time": "2022-03-01T09:09:57.596988Z"
    }
   },
   "outputs": [],
   "source": [
    "import csv\n",
    "# Store data to be written as a list of lists, \n",
    "# with each nested list for a row\n",
    "mybooks = [\n",
    "           [\"title\",\"author\",\"year\"],[\"The Weirdstone of Brisingamen\",\"Alan Garner\",1960],[\"Perdido Street Station\",\"China Miéville\",2000],[\"Thud!\",\"Terry Pratchett\",2005],[\"The Spellman Files\",\"Lisa Lutz\",2007],[\"Small Gods\",\"Terry Pratchett\",1992]\n",
    "          ]\n",
    "# Open the .csv file to which contents of list mybooks is to be written as 'f'\n",
    "with open (\"books.csv\",\"w\", newline='')as f:   #if newline='' not given one empty row inserted after each row\n",
    "    #create the csv.writer() object passing 'f' as argument\n",
    "    mycsvwriter = csv.writer(f)\n",
    "    # use cevwriterobjectname.writerows() passing the nested list of contents as arg\n",
    "    mycsvwriter.writerows(mybooks)\n",
    "# The image below shows file openened in Excel with content"
   ]
  },
  {
   "cell_type": "code",
   "execution_count": null,
   "id": "54fdcb1d",
   "metadata": {},
   "outputs": [],
   "source": [
    "#4. Use the sqlite3 module to create a SQLite database called books.db, and a\n",
    "# table called books with these fields: title (text), author (text), and year (integer)."
   ]
  },
  {
   "cell_type": "code",
   "execution_count": null,
   "id": "8f2448f5",
   "metadata": {
    "ExecuteTime": {
     "end_time": "2022-03-01T09:13:14.270806Z",
     "start_time": "2022-03-01T09:13:14.208308Z"
    }
   },
   "outputs": [],
   "source": [
    "import sqlite3\n",
    "db = sqlite3.connect(\"books.db\")\n",
    "cur = db.cursor()\n",
    "cur.execute(\"create table books ('title' text,'author' texr, 'year' integer)\")\n",
    "db.close()"
   ]
  },
  {
   "cell_type": "code",
   "execution_count": null,
   "id": "3b9abec0",
   "metadata": {},
   "outputs": [],
   "source": [
    "#5. Read books.csv and insert its data into the book table."
   ]
  },
  {
   "cell_type": "code",
   "execution_count": null,
   "id": "b946f5db",
   "metadata": {
    "ExecuteTime": {
     "end_time": "2022-03-01T09:14:25.815181Z",
     "start_time": "2022-03-01T09:14:25.714932Z"
    }
   },
   "outputs": [],
   "source": [
    "import sqlite3\n",
    "import csv\n",
    "#\n",
    "db=sqlite3.connect(\"books.db\")\n",
    "cur = db.cursor()\n",
    "#\n",
    "input_file = open(\"books.csv\")\n",
    "rows = csv.reader(input_file)\n",
    "print(rows)\n",
    "cur.executemany(\"insert into books values(?,?,?)\", rows)\n",
    "db.commit()\n",
    "# Checking if table is written successfully\n",
    "cur.execute(\"select * from books\")\n",
    "cur.fetchall()\n",
    "db.close()"
   ]
  },
  {
   "cell_type": "code",
   "execution_count": null,
   "id": "9b9f337a",
   "metadata": {},
   "outputs": [],
   "source": [
    "#6. Select and print the title column from the book table in alphabetical order."
   ]
  },
  {
   "cell_type": "code",
   "execution_count": null,
   "id": "54d61e41",
   "metadata": {
    "ExecuteTime": {
     "end_time": "2022-03-01T09:22:06.963770Z",
     "start_time": "2022-03-01T09:22:06.948144Z"
    }
   },
   "outputs": [],
   "source": [
    "import sqlite3\n",
    "#\n",
    "db=sqlite3.connect(\"books.db\")\n",
    "cur = db.cursor()\n",
    "#\n",
    "cur.execute(\"select title from books order by title ASC\")\n",
    "cur.fetchall()\n",
    "db.close()"
   ]
  },
  {
   "cell_type": "code",
   "execution_count": null,
   "id": "4c08a01b",
   "metadata": {},
   "outputs": [],
   "source": [
    "#7. From the book table, select and print all columns in the order of publication."
   ]
  },
  {
   "cell_type": "code",
   "execution_count": null,
   "id": "e33e7a92",
   "metadata": {
    "ExecuteTime": {
     "end_time": "2022-03-01T09:28:13.309872Z",
     "start_time": "2022-03-01T09:28:13.278534Z"
    }
   },
   "outputs": [],
   "source": [
    "import sqlite3\n",
    "db = sqlite3.connect(\"books.db\")\n",
    "cursor = db.cursor()\n",
    "#\n",
    "cursor.execute(\"select * from books order by year DESC\")\n",
    "cursor.fetchall()   # Result shows order with newest books first\n"
   ]
  },
  {
   "cell_type": "code",
   "execution_count": null,
   "id": "943a3a99",
   "metadata": {
    "ExecuteTime": {
     "end_time": "2022-03-01T09:43:22.759397Z",
     "start_time": "2022-03-01T09:43:22.712503Z"
    }
   },
   "outputs": [],
   "source": [
    "import sqlite3\n",
    "db = sqlite3.connect(\"books.db\")\n",
    "cursor = db.cursor()\n",
    "cursor.execute(\"select title, author, year from books order by year ASC\")\n",
    "cursor.fetchall() ## Result shows order with oldest books first"
   ]
  },
  {
   "cell_type": "code",
   "execution_count": null,
   "id": "98aa57b0",
   "metadata": {},
   "outputs": [],
   "source": [
    "#8. Use the sqlalchemy module to connect to the sqlite3 database books.db that\n",
    "# you just made in exercise 6."
   ]
  },
  {
   "cell_type": "code",
   "execution_count": null,
   "id": "0eeeb2ad",
   "metadata": {
    "ExecuteTime": {
     "end_time": "2022-03-01T10:03:26.223285Z",
     "start_time": "2022-03-01T10:03:26.138584Z"
    }
   },
   "outputs": [],
   "source": [
    "# import sqlalchemy and pandas\n",
    "import sqlalchemy\n",
    "import pandas as pd\n",
    "# Turn on database engine\n",
    "dbEngine=sqlalchemy.create_engine('sqlite:///books.db') \n",
    "# Since using relative path three '/' needed in 'sqlite:///books.db'\n",
    "# If using absolute path four slashes '/' needed\n",
    "dbEngine\n",
    "# read the data with pandas\n",
    "pd.read_sql(\"select * from books\", dbEngine)"
   ]
  },
  {
   "cell_type": "code",
   "execution_count": null,
   "id": "3b88a164",
   "metadata": {},
   "outputs": [],
   "source": [
    "#9. Install the Redis server and the Python redis library (pip install redis)\n",
    "# on your computer. Create a Redis hash called test with the fields count (1)\n",
    "# and name ('Fester Bestertester'). Print all the fields for test."
   ]
  },
  {
   "cell_type": "code",
   "execution_count": 7,
   "id": "8406ed06",
   "metadata": {
    "ExecuteTime": {
     "end_time": "2022-03-01T11:00:58.941519Z",
     "start_time": "2022-03-01T11:00:58.915834Z"
    }
   },
   "outputs": [
    {
     "name": "stderr",
     "output_type": "stream",
     "text": [
      "C:\\Users\\tejuh\\AppData\\Local\\Temp/ipykernel_1236/675552867.py:9: DeprecationWarning: Redis.hmset() is deprecated. Use Redis.hset() instead.\n",
      "  my_con.hmset('test', {'count': 1, 'name': 'Fester Bestertester'})\n"
     ]
    },
    {
     "data": {
      "text/plain": [
       "{b'count': b'1', b'name': b'Fester Bestertester'}"
      ]
     },
     "execution_count": 7,
     "metadata": {},
     "output_type": "execute_result"
    }
   ],
   "source": [
    "# !pip install redis\n",
    "# Did not work as redis is mainly suitable for unix system. needed to install \n",
    "# memuraideveloper.2.0.5 from https://www.nuget.org/packages/MemuraiDeveloper/\n",
    "# and run memurai.exe in its tools folder\n",
    "import redis\n",
    "my_con = redis.Redis()\n",
    "my_con.delete('test')  # delete 'test' in case it already exists\n",
    "# create a Redis hash called test with fields count(1) and name('Fester Bestertester').\n",
    "my_con.hmset('test', {'count': 1, 'name': 'Fester Bestertester'})\n",
    "my_con.hgetall('test')"
   ]
  },
  {
   "cell_type": "markdown",
   "id": "2bf21499",
   "metadata": {},
   "source": [
    "# 10. Increment the count field of test and print it."
   ]
  },
  {
   "cell_type": "code",
   "execution_count": 9,
   "id": "89ff7e9a",
   "metadata": {
    "ExecuteTime": {
     "end_time": "2022-03-01T11:02:21.059637Z",
     "start_time": "2022-03-01T11:02:21.028358Z"
    }
   },
   "outputs": [
    {
     "name": "stdout",
     "output_type": "stream",
     "text": [
      "{b'count': b'3', b'name': b'Fester Bestertester'}\n",
      "{b'count': b'8', b'name': b'Fester Bestertester'}\n"
     ]
    }
   ],
   "source": [
    "my_con.hincrby('test','count', 1)   # increment by 1. We can increment by any number\n",
    "# \n",
    "print(my_con.hgetall('test'))\n",
    "#\n",
    "my_con.hincrby('test','count', 5)   # increment by 5. We can increment by any number\n",
    "# \n",
    "print(my_con.hgetall('test'))"
   ]
  }
 ],
 "metadata": {
  "kernelspec": {
   "display_name": "Python 3 (ipykernel)",
   "language": "python",
   "name": "python3"
  },
  "language_info": {
   "codemirror_mode": {
    "name": "ipython",
    "version": 3
   },
   "file_extension": ".py",
   "mimetype": "text/x-python",
   "name": "python",
   "nbconvert_exporter": "python",
   "pygments_lexer": "ipython3",
   "version": "3.9.7"
  },
  "nbTranslate": {
   "displayLangs": [
    "*"
   ],
   "hotkey": "alt-t",
   "langInMainMenu": true,
   "sourceLang": "en",
   "targetLang": "fr",
   "useGoogleTranslate": true
  },
  "toc": {
   "base_numbering": 1,
   "nav_menu": {},
   "number_sections": true,
   "sideBar": true,
   "skip_h1_title": false,
   "title_cell": "Table of Contents",
   "title_sidebar": "Contents",
   "toc_cell": false,
   "toc_position": {},
   "toc_section_display": true,
   "toc_window_display": false
  }
 },
 "nbformat": 4,
 "nbformat_minor": 5
}
