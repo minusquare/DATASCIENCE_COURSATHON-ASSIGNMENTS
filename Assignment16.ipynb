{
 "cells": [
  {
   "cell_type": "markdown",
   "id": "a8be3194",
   "metadata": {},
   "source": [
    "# 1. Create a list called years_list, starting with the year of your birth, and each year thereafter until the year of your fifth birthday. For example, if you were born in 1980. the list would be years_list = [1980, 1981, 1982, 1983, 1984, 1985]."
   ]
  },
  {
   "cell_type": "code",
   "execution_count": 1,
   "id": "c2f6fbcc",
   "metadata": {
    "ExecuteTime": {
     "end_time": "2022-02-28T05:09:06.943167Z",
     "start_time": "2022-02-28T05:09:06.911927Z"
    }
   },
   "outputs": [],
   "source": [
    "# ANS 1: \n",
    "year_list = [1971,1972,1973,1974,1975,1976]"
   ]
  },
  {
   "cell_type": "markdown",
   "id": "5495ced0",
   "metadata": {},
   "source": [
    "# 2. In which year in years_list was your third birthday? Remember, you were 0 years of age for your first year."
   ]
  },
  {
   "cell_type": "code",
   "execution_count": 3,
   "id": "b4483763",
   "metadata": {
    "ExecuteTime": {
     "end_time": "2022-02-28T05:10:35.087602Z",
     "start_time": "2022-02-28T05:10:35.056338Z"
    }
   },
   "outputs": [
    {
     "data": {
      "text/plain": [
       "1974"
      ]
     },
     "execution_count": 3,
     "metadata": {},
     "output_type": "execute_result"
    }
   ],
   "source": [
    "# ANS 2:\n",
    "third_birth_year = year_list[3]\n",
    "third_birth_year"
   ]
  },
  {
   "cell_type": "markdown",
   "id": "b65717f4",
   "metadata": {},
   "source": [
    "# 3.In the years list, which year were you the oldest?"
   ]
  },
  {
   "cell_type": "code",
   "execution_count": 5,
   "id": "cdb3baf4",
   "metadata": {
    "ExecuteTime": {
     "end_time": "2022-02-28T05:11:32.617941Z",
     "start_time": "2022-02-28T05:11:32.586665Z"
    }
   },
   "outputs": [
    {
     "data": {
      "text/plain": [
       "1976"
      ]
     },
     "execution_count": 5,
     "metadata": {},
     "output_type": "execute_result"
    }
   ],
   "source": [
    "# ANS 3:\n",
    "oldest_year = year_list[-1]\n",
    "oldest_year"
   ]
  },
  {
   "cell_type": "markdown",
   "id": "5427cad2",
   "metadata": {},
   "source": [
    "# 4. Make a list called things with these three strings as elements: \"mozzarella\", \"cinderella\", \"salmonella\"."
   ]
  },
  {
   "cell_type": "code",
   "execution_count": 13,
   "id": "30dccb92",
   "metadata": {
    "ExecuteTime": {
     "end_time": "2022-02-28T05:16:43.302746Z",
     "start_time": "2022-02-28T05:16:43.255932Z"
    }
   },
   "outputs": [
    {
     "data": {
      "text/plain": [
       "['mozzarella', 'cinderella', 'salmonella']"
      ]
     },
     "execution_count": 13,
     "metadata": {},
     "output_type": "execute_result"
    }
   ],
   "source": [
    "# ANS: 4\n",
    "things = [\"mozzarella\", \"cinderella\", \"salmonella\"]\n",
    "things"
   ]
  },
  {
   "cell_type": "markdown",
   "id": "a462538e",
   "metadata": {},
   "source": [
    "# 5. Capitalize the element in things that refers to a person and then print the list. Did it change the element in the list?"
   ]
  },
  {
   "cell_type": "code",
   "execution_count": 14,
   "id": "a53734c0",
   "metadata": {
    "ExecuteTime": {
     "end_time": "2022-02-28T05:16:46.464810Z",
     "start_time": "2022-02-28T05:16:46.449208Z"
    }
   },
   "outputs": [
    {
     "name": "stdout",
     "output_type": "stream",
     "text": [
      "['mozzarella', 'cinderella', 'salmonella']\n",
      "['mozzarella', 'Cinderella', 'salmonella']\n"
     ]
    }
   ],
   "source": [
    "# ANS: 5\n",
    "things[1].capitalize()\n",
    "print(things)\n",
    "# No, it does not change the element in list because we did not assign changed\n",
    "# value back to that element. That can be done as below\n",
    "things[1]= things[1].capitalize()\n",
    "print(things)\n",
    "# Now the element IS CAPITALIZED"
   ]
  },
  {
   "cell_type": "markdown",
   "id": "eb79cf34",
   "metadata": {},
   "source": [
    "# 6. Make a surprise list with the elements \"Groucho,\" \"Chico,\" and \"Harpo.\""
   ]
  },
  {
   "cell_type": "code",
   "execution_count": 18,
   "id": "dfaec49d",
   "metadata": {
    "ExecuteTime": {
     "end_time": "2022-02-28T05:23:27.516638Z",
     "start_time": "2022-02-28T05:23:27.469835Z"
    }
   },
   "outputs": [
    {
     "data": {
      "text/plain": [
       "['Groucho', 'Chico', 'Harpo']"
      ]
     },
     "execution_count": 18,
     "metadata": {},
     "output_type": "execute_result"
    }
   ],
   "source": [
    "ANS:6\n",
    "# \n",
    "surprise = [\"Groucho\",\"Chico\",\"Harpo\"]\n",
    "surprise"
   ]
  },
  {
   "cell_type": "markdown",
   "id": "b691af6c",
   "metadata": {},
   "source": [
    "# 7. Lowercase the last element of the surprise list, reverse it, and then capitalize it."
   ]
  },
  {
   "cell_type": "code",
   "execution_count": 25,
   "id": "1792f324",
   "metadata": {
    "ExecuteTime": {
     "end_time": "2022-02-28T05:29:34.075600Z",
     "start_time": "2022-02-28T05:29:34.059952Z"
    }
   },
   "outputs": [
    {
     "name": "stdout",
     "output_type": "stream",
     "text": [
      "['Groucho', 'Chico', 'Harpo']\n",
      "After lower_casing: ['Groucho', 'Chico', 'harpo']\n",
      "After reversing last element: ['Groucho', 'Chico', 'oprah']\n",
      "After capitalizing last element: ['Groucho', 'Chico', 'Oprah']\n"
     ]
    }
   ],
   "source": [
    "# ANS:7\n",
    "surprise = [\"Groucho\",\"Chico\",\"Harpo\"]\n",
    "print(surprise)\n",
    "surprise[-1] = surprise[-1].lower()\n",
    "print(f\"After lower_casing: {surprise}\")\n",
    "surprise[-1]= surprise[-1][::-1]\n",
    "print(f\"After reversing last element: {surprise}\")\n",
    "surprise[-1]= surprise[-1].capitalize()\n",
    "print(f\"After capitalizing last element: {surprise}\")"
   ]
  },
  {
   "cell_type": "markdown",
   "id": "e1c350e4",
   "metadata": {},
   "source": [
    "# 8. Make an English-to-French dictionary called e2f and print it. Here are your starter words: dog is chien, cat is chat, and walrus is morse."
   ]
  },
  {
   "cell_type": "code",
   "execution_count": 26,
   "id": "93e68f9a",
   "metadata": {
    "ExecuteTime": {
     "end_time": "2022-02-28T05:31:36.125383Z",
     "start_time": "2022-02-28T05:31:36.094154Z"
    }
   },
   "outputs": [
    {
     "name": "stdout",
     "output_type": "stream",
     "text": [
      "{'dog': 'chien', 'cat': 'chat', 'walrus': 'morse'}\n"
     ]
    }
   ],
   "source": [
    "# ANS:8\n",
    "e2f = {\n",
    "    \"dog\":\"chien\",\n",
    "    \"cat\":\"chat\",\n",
    "    \"walrus\":\"morse\"\n",
    "}\n",
    "print(e2f)"
   ]
  },
  {
   "cell_type": "markdown",
   "id": "614c9f7e",
   "metadata": {},
   "source": [
    "# 9.Write the French word for walrus in your three-word dictionary e2f."
   ]
  },
  {
   "cell_type": "code",
   "execution_count": 27,
   "id": "bdd58bb6",
   "metadata": {
    "ExecuteTime": {
     "end_time": "2022-02-28T05:34:26.237510Z",
     "start_time": "2022-02-28T05:34:26.221949Z"
    }
   },
   "outputs": [
    {
     "name": "stdout",
     "output_type": "stream",
     "text": [
      "Three letter word for walrus in french is: morse\n"
     ]
    }
   ],
   "source": [
    "# ANS:9\n",
    "print(f\"Three letter word for walrus in french is: {e2f['walrus']}\")"
   ]
  },
  {
   "cell_type": "markdown",
   "id": "7ab2a08b",
   "metadata": {},
   "source": [
    "# 10. Make a French-to-English dictionary called f2e from e2f. Use the items method."
   ]
  },
  {
   "cell_type": "code",
   "execution_count": 39,
   "id": "2f673e7c",
   "metadata": {
    "ExecuteTime": {
     "end_time": "2022-02-28T05:46:27.751612Z",
     "start_time": "2022-02-28T05:46:27.736007Z"
    }
   },
   "outputs": [
    {
     "name": "stdout",
     "output_type": "stream",
     "text": [
      "{'chien': 'dog', 'chat': 'cat', 'morse': 'walrus'}\n"
     ]
    }
   ],
   "source": [
    "# ANS 10:\n",
    "f2e = {}\n",
    "for english, french in e2f.items():\n",
    "    f2e[french] = english\n",
    "print(f2e)"
   ]
  },
  {
   "cell_type": "markdown",
   "id": "f44abbb8",
   "metadata": {},
   "source": [
    "# 11. Print the English version of the French word chien using f2e."
   ]
  },
  {
   "cell_type": "code",
   "execution_count": 40,
   "id": "560a0cfd",
   "metadata": {
    "ExecuteTime": {
     "end_time": "2022-02-28T05:56:40.312297Z",
     "start_time": "2022-02-28T05:56:40.296672Z"
    }
   },
   "outputs": [
    {
     "name": "stdout",
     "output_type": "stream",
     "text": [
      "The english version of the french word chien is: dog\n"
     ]
    }
   ],
   "source": [
    "# ANS 11:\n",
    "print(f\"The english version of the french word chien is: {f2e['chien']}\")"
   ]
  },
  {
   "cell_type": "markdown",
   "id": "6051e8ac",
   "metadata": {},
   "source": [
    "# 12. Make and print a set of English words from the keys in e2f."
   ]
  },
  {
   "cell_type": "code",
   "execution_count": 41,
   "id": "cf310fb3",
   "metadata": {
    "ExecuteTime": {
     "end_time": "2022-02-28T05:57:22.097266Z",
     "start_time": "2022-02-28T05:57:22.081780Z"
    }
   },
   "outputs": [
    {
     "data": {
      "text/plain": [
       "dict_keys(['dog', 'cat', 'walrus'])"
      ]
     },
     "execution_count": 41,
     "metadata": {},
     "output_type": "execute_result"
    }
   ],
   "source": [
    "# ANS 12:\n",
    "print(e2f.keys()"
   ]
  },
  {
   "cell_type": "markdown",
   "id": "9bcdfa85",
   "metadata": {},
   "source": [
    "# 13. Make a multilevel dictionary called life. Use these strings for the topmost keys: 'animals', 'plants', and 'other'. Make the 'animals' key refer to another dictionary with the keys 'cats', 'octopi', and 'emus'. Make the 'cats' key refer to a list of strings with the values 'Henri', 'Grumpy', and 'Lucy'. Make all the other keys refer to empty dictionaries."
   ]
  },
  {
   "cell_type": "code",
   "execution_count": 43,
   "id": "c9b21e6d",
   "metadata": {
    "ExecuteTime": {
     "end_time": "2022-02-28T06:10:03.264399Z",
     "start_time": "2022-02-28T06:10:03.248776Z"
    }
   },
   "outputs": [
    {
     "name": "stdout",
     "output_type": "stream",
     "text": [
      "{'animals': {'cats': ['Henri', 'Grumpy', 'Lucy'], 'octopi': {}, 'emus': {}}, 'plants': {}, 'others': {}}\n"
     ]
    }
   ],
   "source": [
    "# ANS:13\n",
    "life ={\n",
    "       \"animals\":\n",
    "                 {\n",
    "                   \"cats\" : [\"Henri\",\"Grumpy\",\"Lucy\"],\n",
    "                    \"octopi\":{},\n",
    "                    \"emus\":{}\n",
    "                 },\n",
    "       \"plants\": {},\n",
    "       \"others\": {},\n",
    "}\n",
    "print(life)"
   ]
  },
  {
   "cell_type": "markdown",
   "id": "a22bd2cf",
   "metadata": {},
   "source": [
    "# 14 14. Print the top-level keys of life."
   ]
  },
  {
   "cell_type": "code",
   "execution_count": 45,
   "id": "5f713770",
   "metadata": {
    "ExecuteTime": {
     "end_time": "2022-02-28T06:12:06.856741Z",
     "start_time": "2022-02-28T06:12:06.825440Z"
    }
   },
   "outputs": [
    {
     "name": "stdout",
     "output_type": "stream",
     "text": [
      "Top level keys of life are : dict_keys(['animals', 'plants', 'others'])\n"
     ]
    }
   ],
   "source": [
    "print(f\"Top level keys of life are : {life.keys()}\")"
   ]
  },
  {
   "cell_type": "markdown",
   "id": "a8af6330",
   "metadata": {},
   "source": [
    "# 15 Print the keys for life['animals']."
   ]
  },
  {
   "cell_type": "code",
   "execution_count": 47,
   "id": "72072ea5",
   "metadata": {
    "ExecuteTime": {
     "end_time": "2022-02-28T06:15:00.706810Z",
     "start_time": "2022-02-28T06:15:00.675538Z"
    }
   },
   "outputs": [
    {
     "name": "stdout",
     "output_type": "stream",
     "text": [
      "Keys of life['animals'] are :dict_keys(['cats', 'octopi', 'emus'])\n"
     ]
    }
   ],
   "source": [
    "print(f\"Keys of life['animals'] are :{life['animals'].keys()}\")"
   ]
  },
  {
   "cell_type": "markdown",
   "id": "f0675218",
   "metadata": {},
   "source": [
    "# 16. Print the values for life['animals']['cats']"
   ]
  },
  {
   "cell_type": "code",
   "execution_count": 50,
   "id": "f9b106e8",
   "metadata": {
    "ExecuteTime": {
     "end_time": "2022-02-28T06:17:56.961835Z",
     "start_time": "2022-02-28T06:17:56.939677Z"
    }
   },
   "outputs": [
    {
     "name": "stdout",
     "output_type": "stream",
     "text": [
      "The values for life['animals']['cats'] are: ['Henri', 'Grumpy', 'Lucy']\n"
     ]
    }
   ],
   "source": [
    "print(f\"The values for life['animals']['cats'] are: {life['animals']['cats']}\" )"
   ]
  }
 ],
 "metadata": {
  "kernelspec": {
   "display_name": "Python 3 (ipykernel)",
   "language": "python",
   "name": "python3"
  },
  "language_info": {
   "codemirror_mode": {
    "name": "ipython",
    "version": 3
   },
   "file_extension": ".py",
   "mimetype": "text/x-python",
   "name": "python",
   "nbconvert_exporter": "python",
   "pygments_lexer": "ipython3",
   "version": "3.9.7"
  },
  "nbTranslate": {
   "displayLangs": [
    "*"
   ],
   "hotkey": "alt-t",
   "langInMainMenu": true,
   "sourceLang": "en",
   "targetLang": "fr",
   "useGoogleTranslate": true
  },
  "toc": {
   "base_numbering": 1,
   "nav_menu": {},
   "number_sections": true,
   "sideBar": true,
   "skip_h1_title": false,
   "title_cell": "Table of Contents",
   "title_sidebar": "Contents",
   "toc_cell": false,
   "toc_position": {},
   "toc_section_display": true,
   "toc_window_display": false
  }
 },
 "nbformat": 4,
 "nbformat_minor": 5
}
