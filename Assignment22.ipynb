{
 "cells": [
  {
   "cell_type": "markdown",
   "id": "65da4f08",
   "metadata": {},
   "source": [
    "# 1. What is the result of the code, and explain?\n",
    "# ANS:1 iNeuron\n",
    "#\n",
    "# Here when 'func' is called, the variable X is available to its print\n",
    "# statement even though it is defined outside 'func' as it is a GLOBAL variable\n",
    "# and availbale inside func() or even after func() definition is over"
   ]
  },
  {
   "cell_type": "code",
   "execution_count": 12,
   "id": "568866af",
   "metadata": {
    "ExecuteTime": {
     "end_time": "2022-03-02T09:39:59.903694Z",
     "start_time": "2022-03-02T09:39:59.850272Z"
    }
   },
   "outputs": [
    {
     "name": "stdout",
     "output_type": "stream",
     "text": [
      "iNeuron\n"
     ]
    }
   ],
   "source": [
    "X = 'iNeuron'\n",
    "def func():\n",
    "    print(X)\n",
    "func()\n",
    "# Here when 'func' is called, the variable X is available to its print\n",
    "# statement even though it is defined outside 'func' as it is a GLOBAL variable\n",
    "# and availbale inside func() or even after func() definition is over"
   ]
  },
  {
   "cell_type": "markdown",
   "id": "fee2c51b",
   "metadata": {},
   "source": [
    "# 2. What is the result of the code, and explain?\n",
    "# ANS 2: iNeuron\n",
    "#\n",
    "# Here when 'func' is called, the variable X's value will be set to 'NI' but\n",
    "# this X is local or function variable and its scope is over as soon as control \n",
    "# exits the function func. Hence the print(X) statement after 'func' will\n",
    "# print global value of 'X' i.e. 'iNeuron'"
   ]
  },
  {
   "cell_type": "code",
   "execution_count": 13,
   "id": "a0ca9459",
   "metadata": {
    "ExecuteTime": {
     "end_time": "2022-03-02T09:40:42.651921Z",
     "start_time": "2022-03-02T09:40:42.620669Z"
    }
   },
   "outputs": [
    {
     "name": "stdout",
     "output_type": "stream",
     "text": [
      "iNeuron\n"
     ]
    }
   ],
   "source": [
    "X = 'iNeuron'\n",
    "def func():\n",
    "    X = 'NI!'\n",
    "func()\n",
    "print(X)"
   ]
  },
  {
   "cell_type": "markdown",
   "id": "c04b61be",
   "metadata": {},
   "source": [
    "# 3. What does this code print, and why?\n",
    "# ANS 3:\n",
    "# NI\n",
    "# iNeuron\n",
    "#\n",
    "# Here when 'func' is called, the variable X's value will be set to 'NI' and \n",
    "# print statement within the 'func' will print \"NI\" but this X is local or \n",
    "# function variable and its scope is over as soon as control exits the \n",
    "# function func. Hence the print(X) statement after 'func' will\n",
    "# print global value of 'X' i.e. 'iNeuron'"
   ]
  },
  {
   "cell_type": "code",
   "execution_count": 14,
   "id": "1c450a53",
   "metadata": {
    "ExecuteTime": {
     "end_time": "2022-03-02T09:48:53.938831Z",
     "start_time": "2022-03-02T09:48:53.907658Z"
    }
   },
   "outputs": [
    {
     "name": "stdout",
     "output_type": "stream",
     "text": [
      "NI\n",
      "iNeuron\n"
     ]
    }
   ],
   "source": [
    "X = 'iNeuron'\n",
    "def func():\n",
    "    X = 'NI'\n",
    "    print(X)\n",
    "func()\n",
    "print(X)"
   ]
  },
  {
   "cell_type": "markdown",
   "id": "d1422fb4",
   "metadata": {},
   "source": [
    "# 4. What output does this code produce? Why?\n",
    "# NI\n",
    "#\n",
    "# This time even though the assignment X = 'NI' is within the \"func\"\n",
    "# the global X declaration just before the assignment ensures that\n",
    "# X retains the asigned value (or original value of global X i.e.,\n",
    "# 'iNeuron' is replaced by new value 'NI'. In short,on call to func()\n",
    "# GLOBAL X='NI' and the last print startement prints that value)"
   ]
  },
  {
   "cell_type": "code",
   "execution_count": 15,
   "id": "396e5c49",
   "metadata": {
    "ExecuteTime": {
     "end_time": "2022-03-02T09:56:25.466843Z",
     "start_time": "2022-03-02T09:56:25.435654Z"
    }
   },
   "outputs": [
    {
     "name": "stdout",
     "output_type": "stream",
     "text": [
      "NI\n"
     ]
    }
   ],
   "source": [
    "X = 'iNeuron'\n",
    "def func():\n",
    "    global X\n",
    "    X = 'NI'\n",
    "#\n",
    "func()\n",
    "print(X)"
   ]
  },
  {
   "cell_type": "markdown",
   "id": "74336a27",
   "metadata": {},
   "source": [
    "# 5. What about this code—what’s the output, and why?\n",
    "# NI\n",
    "# 'iNeuron'\n",
    "#\n",
    "# On call to func(), its local X is assigned \"NI\" and this value is \n",
    "# preserved even when control enters \"nested\". So print(X) within nested()\n",
    "# prints \"NI\" when func() is called. Then last line of code executes and\n",
    "# jupyter notebook outputs global X i.e. \"ineuron\""
   ]
  },
  {
   "cell_type": "code",
   "execution_count": 17,
   "id": "9ee83ca1",
   "metadata": {
    "ExecuteTime": {
     "end_time": "2022-03-02T10:04:29.159142Z",
     "start_time": "2022-03-02T10:04:29.127897Z"
    }
   },
   "outputs": [
    {
     "name": "stdout",
     "output_type": "stream",
     "text": [
      "NI\n"
     ]
    },
    {
     "data": {
      "text/plain": [
       "'iNeuron'"
      ]
     },
     "execution_count": 17,
     "metadata": {},
     "output_type": "execute_result"
    }
   ],
   "source": [
    "X = 'iNeuron'\n",
    "def func():\n",
    "    X = 'NI'\n",
    "    def nested():\n",
    "        print(X)\n",
    "\n",
    "    nested()\n",
    "func()\n",
    "X"
   ]
  },
  {
   "cell_type": "markdown",
   "id": "8b2ee8f1",
   "metadata": {},
   "source": [
    "6. How about this code: what is its output in Python 3, and explain?\n",
    "# iNeuron\n",
    "# Spam\n",
    "#\n",
    "# Here first the print() statement just above call to func() executes\n",
    "# and prints \"iNeuron\" the GLOBAL X assigned in previous question\n",
    "# Then when \"func()\" is called in last line of code. X is first assdigned \"NI\"\n",
    "# Then when nested() is called within func() X is assigned value \"Spam\".\n",
    "# The print statement within nested prints \"Spam\"  and control\n",
    "# exits nested() and enters func() but as X is NONLOCAL it retains value #\"Spam\" but as there is no print statement in func(), nothing is \n",
    "# printed"
   ]
  },
  {
   "cell_type": "code",
   "execution_count": 23,
   "id": "0b701b6d",
   "metadata": {
    "ExecuteTime": {
     "end_time": "2022-03-02T10:43:49.609427Z",
     "start_time": "2022-03-02T10:43:49.587266Z"
    },
    "run_control": {
     "marked": true
    }
   },
   "outputs": [
    {
     "name": "stdout",
     "output_type": "stream",
     "text": [
      "iNeuron\n",
      "Spam\n"
     ]
    }
   ],
   "source": [
    "def func():\n",
    "    X = 'NI'\n",
    "    def nested():\n",
    "        nonlocal X\n",
    "        X = 'Spam'\n",
    "    nested()\n",
    "    print(X)\n",
    "print(X)\n",
    "func()"
   ]
  }
 ],
 "metadata": {
  "kernelspec": {
   "display_name": "Python 3 (ipykernel)",
   "language": "python",
   "name": "python3"
  },
  "language_info": {
   "codemirror_mode": {
    "name": "ipython",
    "version": 3
   },
   "file_extension": ".py",
   "mimetype": "text/x-python",
   "name": "python",
   "nbconvert_exporter": "python",
   "pygments_lexer": "ipython3",
   "version": "3.9.7"
  },
  "nbTranslate": {
   "displayLangs": [
    "*"
   ],
   "hotkey": "alt-t",
   "langInMainMenu": true,
   "sourceLang": "en",
   "targetLang": "fr",
   "useGoogleTranslate": true
  },
  "toc": {
   "base_numbering": 1,
   "nav_menu": {},
   "number_sections": true,
   "sideBar": true,
   "skip_h1_title": false,
   "title_cell": "Table of Contents",
   "title_sidebar": "Contents",
   "toc_cell": false,
   "toc_position": {},
   "toc_section_display": true,
   "toc_window_display": false
  }
 },
 "nbformat": 4,
 "nbformat_minor": 5
}
