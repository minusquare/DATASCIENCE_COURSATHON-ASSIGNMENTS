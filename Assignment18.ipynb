{
 "cells": [
  {
   "cell_type": "markdown",
   "id": "32e3ab69",
   "metadata": {},
   "source": [
    "# 1. Create a zoo.py file first. Define the hours() function, which prints the string 'Open 9-5 daily'. Then, use the interactive interpreter to import the zoo module and call its hours() function."
   ]
  },
  {
   "cell_type": "code",
   "execution_count": 2,
   "id": "30469c06",
   "metadata": {
    "ExecuteTime": {
     "end_time": "2022-02-28T10:20:16.423799Z",
     "start_time": "2022-02-28T10:20:16.376926Z"
    }
   },
   "outputs": [
    {
     "name": "stdout",
     "output_type": "stream",
     "text": [
      "Open 9-5 daily\n"
     ]
    }
   ],
   "source": [
    "# ANS 1: The zoo.py file is in same directory as this jupyter notebook\n",
    "import zoo\n",
    "zoo.hours()"
   ]
  },
  {
   "cell_type": "markdown",
   "id": "af40ff24",
   "metadata": {},
   "source": [
    "# 2. In the interactive interpreter, import the zoo module as menagerie and call its hours() function."
   ]
  },
  {
   "cell_type": "code",
   "execution_count": 3,
   "id": "0594ed2f",
   "metadata": {
    "ExecuteTime": {
     "end_time": "2022-02-28T10:20:58.398681Z",
     "start_time": "2022-02-28T10:20:58.383051Z"
    }
   },
   "outputs": [
    {
     "name": "stdout",
     "output_type": "stream",
     "text": [
      "Open 9-5 daily\n"
     ]
    }
   ],
   "source": [
    "# ANS 2: \n",
    "import zoo as menagerie\n",
    "menagerie.hours()"
   ]
  },
  {
   "cell_type": "markdown",
   "id": "13bf8442",
   "metadata": {},
   "source": [
    "# 3. Using the interpreter, explicitly import and call the hours() function from zoo."
   ]
  },
  {
   "cell_type": "code",
   "execution_count": 4,
   "id": "9b8a61d1",
   "metadata": {
    "ExecuteTime": {
     "end_time": "2022-02-28T10:21:21.741680Z",
     "start_time": "2022-02-28T10:21:21.726055Z"
    }
   },
   "outputs": [
    {
     "name": "stdout",
     "output_type": "stream",
     "text": [
      "Open 9-5 daily\n"
     ]
    }
   ],
   "source": [
    "# ANS 3:\n",
    "from zoo import hours\n",
    "hours()"
   ]
  },
  {
   "cell_type": "markdown",
   "id": "261d181a",
   "metadata": {},
   "source": [
    "# 4. Import the hours() function as info and call it."
   ]
  },
  {
   "cell_type": "code",
   "execution_count": 6,
   "id": "deceddd3",
   "metadata": {
    "ExecuteTime": {
     "end_time": "2022-02-28T10:21:55.528303Z",
     "start_time": "2022-02-28T10:21:55.512679Z"
    }
   },
   "outputs": [
    {
     "name": "stdout",
     "output_type": "stream",
     "text": [
      "Open 9-5 daily\n"
     ]
    }
   ],
   "source": [
    "# ANS 4:\n",
    "from zoo import hours as info\n",
    "info()"
   ]
  },
  {
   "cell_type": "markdown",
   "id": "4a15dd5a",
   "metadata": {},
   "source": [
    "# 5. Create a plain dictionary with the key-value pairs 'a': 1, 'b': 2, and 'c': 3, and print it out."
   ]
  },
  {
   "cell_type": "code",
   "execution_count": 7,
   "id": "97408a0e",
   "metadata": {
    "ExecuteTime": {
     "end_time": "2022-02-28T10:22:40.322362Z",
     "start_time": "2022-02-28T10:22:40.291174Z"
    }
   },
   "outputs": [
    {
     "name": "stdout",
     "output_type": "stream",
     "text": [
      "{'a': 1, 'b': 2, 'c': 3}\n"
     ]
    }
   ],
   "source": [
    "# ANS 5:\n",
    "d = {'a':1,'b':2,'c':3}\n",
    "print(d)"
   ]
  },
  {
   "cell_type": "markdown",
   "id": "d93e523b",
   "metadata": {},
   "source": [
    "# 6.Make an OrderedDict called fancy from the same pairs listed in 5 and print it. Did it print in the same order as plain?"
   ]
  },
  {
   "cell_type": "code",
   "execution_count": 11,
   "id": "42b6da5f",
   "metadata": {
    "ExecuteTime": {
     "end_time": "2022-02-28T12:03:51.618656Z",
     "start_time": "2022-02-28T12:03:51.603033Z"
    }
   },
   "outputs": [
    {
     "name": "stdout",
     "output_type": "stream",
     "text": [
      "OrderedDict([('a', 1), ('b', 2), ('c', 3)])\n"
     ]
    }
   ],
   "source": [
    "# ANS 6: Yes it prints in same order. This is because As of Python 3.7,\n",
    "# a new improvement to the dict built-in is:\n",
    "# \"The insertion-order preservation nature of dict objects has been declared \n",
    "# to be an official part of the Python language spec.\"\n",
    "# This means there is no real need for OrderedDict.\n",
    "# They are almost same (except for two methods)\n",
    "# From python 3.8+ even these two method's implementation is same as \n",
    "# simple dictionary. So both are exactly same\n",
    "from collections import OrderedDict\n",
    "fancy = OrderedDict()\n",
    "fancy['a'] = 1\n",
    "fancy['b'] = 2\n",
    "fancy['c'] = 3\n",
    "print(fancy)\n",
    "# REF: https://stackoverflow.com/questions/34305003/difference-between-dictionary-and-ordereddict"
   ]
  },
  {
   "cell_type": "markdown",
   "id": "5b5035aa",
   "metadata": {},
   "source": [
    "# 7. Make a default dictionary called dict_of_lists and pass it the argument list. Make the list dict_of_lists['a'] and append the value 'something for a' to it in one assignment. Print dict_of_lists['a']."
   ]
  },
  {
   "cell_type": "code",
   "execution_count": 16,
   "id": "1ce9fa74",
   "metadata": {
    "ExecuteTime": {
     "end_time": "2022-02-28T13:28:43.081565Z",
     "start_time": "2022-02-28T13:28:43.050327Z"
    }
   },
   "outputs": [
    {
     "name": "stdout",
     "output_type": "stream",
     "text": [
      "defaultdict(<class 'list'>, {'a': [1], 'b': [2], 'c': [3]})\n"
     ]
    }
   ],
   "source": [
    "# ANS 7:\n",
    "from collections import defaultdict\n",
    "arg_list=[('a',1),('b',2),('c',3)]\n",
    "dict_of_lists=defaultdict(list)\n",
    "for i,j in arg_list:\n",
    "    dict_of_lists[i].append(j) \n",
    "print(dict_of_lists)"
   ]
  }
 ],
 "metadata": {
  "kernelspec": {
   "display_name": "Python 3 (ipykernel)",
   "language": "python",
   "name": "python3"
  },
  "language_info": {
   "codemirror_mode": {
    "name": "ipython",
    "version": 3
   },
   "file_extension": ".py",
   "mimetype": "text/x-python",
   "name": "python",
   "nbconvert_exporter": "python",
   "pygments_lexer": "ipython3",
   "version": "3.9.7"
  },
  "nbTranslate": {
   "displayLangs": [
    "*"
   ],
   "hotkey": "alt-t",
   "langInMainMenu": true,
   "sourceLang": "en",
   "targetLang": "fr",
   "useGoogleTranslate": true
  },
  "toc": {
   "base_numbering": 1,
   "nav_menu": {},
   "number_sections": true,
   "sideBar": true,
   "skip_h1_title": false,
   "title_cell": "Table of Contents",
   "title_sidebar": "Contents",
   "toc_cell": false,
   "toc_position": {},
   "toc_section_display": true,
   "toc_window_display": false
  }
 },
 "nbformat": 4,
 "nbformat_minor": 5
}
