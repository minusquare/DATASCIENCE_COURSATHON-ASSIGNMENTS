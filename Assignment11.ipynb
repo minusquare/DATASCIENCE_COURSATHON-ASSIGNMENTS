{
 "cells": [
  {
   "cell_type": "markdown",
   "id": "fe9ab07a",
   "metadata": {},
   "source": [
    "# 1. Create an assert statement that throws an AssertionError if the variable spam is a negative integer."
   ]
  },
  {
   "cell_type": "code",
   "execution_count": 3,
   "id": "b20e4504",
   "metadata": {
    "ExecuteTime": {
     "end_time": "2022-02-25T08:05:13.847225Z",
     "start_time": "2022-02-25T08:05:13.811246Z"
    }
   },
   "outputs": [
    {
     "ename": "AssertionError",
     "evalue": "The spam variable can not be a negative ingeter",
     "output_type": "error",
     "traceback": [
      "\u001b[1;31m---------------------------------------------------------------------------\u001b[0m",
      "\u001b[1;31mAssertionError\u001b[0m                            Traceback (most recent call last)",
      "\u001b[1;32m~\\AppData\\Local\\Temp/ipykernel_15876/124918393.py\u001b[0m in \u001b[0;36m<module>\u001b[1;34m\u001b[0m\n\u001b[0;32m      1\u001b[0m \u001b[1;31m# ANS 1:\u001b[0m\u001b[1;33m\u001b[0m\u001b[1;33m\u001b[0m\u001b[0m\n\u001b[0;32m      2\u001b[0m \u001b[0mspam\u001b[0m \u001b[1;33m=\u001b[0m \u001b[1;33m-\u001b[0m\u001b[1;36m3\u001b[0m\u001b[1;33m\u001b[0m\u001b[1;33m\u001b[0m\u001b[0m\n\u001b[1;32m----> 3\u001b[1;33m \u001b[1;32massert\u001b[0m \u001b[0mspam\u001b[0m \u001b[1;33m>=\u001b[0m \u001b[1;36m0\u001b[0m\u001b[1;33m,\u001b[0m \u001b[1;34m\"The spam variable can not be a negative ingeter\"\u001b[0m\u001b[1;33m\u001b[0m\u001b[1;33m\u001b[0m\u001b[0m\n\u001b[0m",
      "\u001b[1;31mAssertionError\u001b[0m: The spam variable can not be a negative ingeter"
     ]
    }
   ],
   "source": [
    "# ANS 1:\n",
    "spam = -3\n",
    "assert spam >= 0, \"The spam variable can not be a negative ingeter\" "
   ]
  },
  {
   "cell_type": "markdown",
   "id": "8475c149",
   "metadata": {},
   "source": [
    "# 2. Write an assert statement that triggers an AssertionError if the \n",
    "# variables eggs and bacon contain strings that are the same as each other,     #even if their cases are different (that is, 'hello' and 'hello' are considered the # same, and 'goodbye' and 'GOODbye' are also considered the same)."
   ]
  },
  {
   "cell_type": "code",
   "execution_count": 19,
   "id": "42bfd620",
   "metadata": {
    "ExecuteTime": {
     "end_time": "2022-02-25T09:07:47.190321Z",
     "start_time": "2022-02-25T09:07:47.158326Z"
    }
   },
   "outputs": [
    {
     "ename": "AssertionError",
     "evalue": "eggs and bacon variables are equal ignoring the case of letters",
     "output_type": "error",
     "traceback": [
      "\u001b[1;31m---------------------------------------------------------------------------\u001b[0m",
      "\u001b[1;31mAssertionError\u001b[0m                            Traceback (most recent call last)",
      "\u001b[1;32m~\\AppData\\Local\\Temp/ipykernel_15876/2175978774.py\u001b[0m in \u001b[0;36m<module>\u001b[1;34m\u001b[0m\n\u001b[0;32m      1\u001b[0m \u001b[0meggs\u001b[0m \u001b[1;33m=\u001b[0m \u001b[1;34m\"ABC def\"\u001b[0m\u001b[1;33m\u001b[0m\u001b[1;33m\u001b[0m\u001b[0m\n\u001b[0;32m      2\u001b[0m \u001b[0mbacon\u001b[0m \u001b[1;33m=\u001b[0m \u001b[1;34m\"abc DEF\"\u001b[0m\u001b[1;33m\u001b[0m\u001b[1;33m\u001b[0m\u001b[0m\n\u001b[1;32m----> 3\u001b[1;33m \u001b[1;32massert\u001b[0m \u001b[1;33m(\u001b[0m\u001b[0meggs\u001b[0m\u001b[1;33m.\u001b[0m\u001b[0mcapitalize\u001b[0m\u001b[1;33m(\u001b[0m\u001b[1;33m)\u001b[0m \u001b[1;33m!=\u001b[0m \u001b[0mbacon\u001b[0m\u001b[1;33m.\u001b[0m\u001b[0mcapitalize\u001b[0m\u001b[1;33m(\u001b[0m\u001b[1;33m)\u001b[0m\u001b[1;33m)\u001b[0m\u001b[1;33m,\u001b[0m\u001b[1;34m\"eggs and bacon variables are equal ignoring the case of letters\"\u001b[0m\u001b[1;33m\u001b[0m\u001b[1;33m\u001b[0m\u001b[0m\n\u001b[0m",
      "\u001b[1;31mAssertionError\u001b[0m: eggs and bacon variables are equal ignoring the case of letters"
     ]
    }
   ],
   "source": [
    "# ANS 2:\n",
    "eggs = \"ABC def\"\n",
    "bacon = \"abc DEF\"\n",
    "assert (eggs.capitalize() != bacon.capitalize()),\"eggs and bacon variables are equal ignoring the case of letters\""
   ]
  },
  {
   "cell_type": "markdown",
   "id": "90d234ca",
   "metadata": {},
   "source": [
    "# 3. Create an assert statement that throws an AssertionError every time."
   ]
  },
  {
   "cell_type": "code",
   "execution_count": 14,
   "id": "e72f9a56",
   "metadata": {
    "ExecuteTime": {
     "end_time": "2022-02-25T08:16:08.622682Z",
     "start_time": "2022-02-25T08:16:08.595639Z"
    }
   },
   "outputs": [
    {
     "ename": "AssertionError",
     "evalue": "This assertion error will always be triggered",
     "output_type": "error",
     "traceback": [
      "\u001b[1;31m---------------------------------------------------------------------------\u001b[0m",
      "\u001b[1;31mAssertionError\u001b[0m                            Traceback (most recent call last)",
      "\u001b[1;32m~\\AppData\\Local\\Temp/ipykernel_15876/3372880245.py\u001b[0m in \u001b[0;36m<module>\u001b[1;34m\u001b[0m\n\u001b[1;32m----> 1\u001b[1;33m \u001b[1;32massert\u001b[0m \u001b[1;32mFalse\u001b[0m\u001b[1;33m,\u001b[0m \u001b[1;34m\"This assertion error will always be triggered\"\u001b[0m\u001b[1;33m\u001b[0m\u001b[1;33m\u001b[0m\u001b[0m\n\u001b[0m",
      "\u001b[1;31mAssertionError\u001b[0m: This assertion error will always be triggered"
     ]
    }
   ],
   "source": [
    "# ANS 3:\n",
    "assert False, \"This assertion error will always be triggered\""
   ]
  },
  {
   "cell_type": "markdown",
   "id": "469aed89",
   "metadata": {},
   "source": [
    "# 4. What are the two lines that must be present in your software in order to call logging.debug()?\\"
   ]
  },
  {
   "cell_type": "code",
   "execution_count": 20,
   "id": "7b31b0ff",
   "metadata": {
    "ExecuteTime": {
     "end_time": "2022-02-25T09:07:58.041232Z",
     "start_time": "2022-02-25T09:07:58.024237Z"
    }
   },
   "outputs": [],
   "source": [
    "# ANS 4:\n",
    "# To be able to call logging.debug() we need two lines below:\n",
    "#\n",
    "import logging\n",
    "logging.basicConfig(level=logging.DEBUG)\n",
    "# If we also need timestamps in log then\n",
    "logging.basicConfig(level=logging.DEBUG, format='%(asctime)s-%(levelname)s-%(message)s')\n"
   ]
  },
  {
   "cell_type": "markdown",
   "id": "7ff469e7",
   "metadata": {},
   "source": [
    "# 5. What are the two lines that your program must have in order to have logging.debug() send a logging message to a file named programLog.txt?"
   ]
  },
  {
   "cell_type": "code",
   "execution_count": 21,
   "id": "a738dd9b",
   "metadata": {
    "ExecuteTime": {
     "end_time": "2022-02-25T09:08:02.034199Z",
     "start_time": "2022-02-25T09:08:02.017216Z"
    }
   },
   "outputs": [],
   "source": [
    "# ANS 5:\n",
    "# To achieve this task we need code as below:\n",
    "import logging\n",
    "logging.basicConfig(filename='programLog.txt',level=logging.DEBUG)\n",
    "# If we also need timestamps in log then\n",
    "logging.basicConfig(filename='programLog.txt',level=logging.DEBUG, format='%(asctime)s-%(levelname)s-%(message)s')\n"
   ]
  },
  {
   "cell_type": "markdown",
   "id": "af07032c",
   "metadata": {},
   "source": [
    "# 6. What are the five levels of logging?"
   ]
  },
  {
   "cell_type": "code",
   "execution_count": null,
   "id": "fd19e907",
   "metadata": {},
   "outputs": [],
   "source": [
    "# ANS 6:\n",
    "# Five levels of logging are DEBUG,INFO, WARNING, ERROR,CRITICAL usually used \n",
    "# in increasing order of severity of problem"
   ]
  },
  {
   "cell_type": "markdown",
   "id": "e0ce220e",
   "metadata": {},
   "source": [
    "# 7. What line of code would you add to your software to disable all logging messages?"
   ]
  },
  {
   "cell_type": "code",
   "execution_count": 22,
   "id": "566c791b",
   "metadata": {
    "ExecuteTime": {
     "end_time": "2022-02-25T09:08:12.453147Z",
     "start_time": "2022-02-25T09:08:12.444134Z"
    }
   },
   "outputs": [],
   "source": [
    "# ANS:7 The required line to disable all logging messages is \n",
    "logging.disable(logging.CRITICAL) # Will log only CRITICAL errors"
   ]
  },
  {
   "cell_type": "code",
   "execution_count": 23,
   "id": "be6d1649",
   "metadata": {
    "ExecuteTime": {
     "end_time": "2022-02-25T09:08:16.769033Z",
     "start_time": "2022-02-25T09:08:16.736040Z"
    }
   },
   "outputs": [],
   "source": [
    "# To disable all logs \n",
    "import logging\n",
    "\n",
    "logger = logging.getLogger(\"my_logger\")\n",
    "logger.setLevel(logging.CRITICAL + 1)"
   ]
  },
  {
   "cell_type": "markdown",
   "id": "f2283446",
   "metadata": {},
   "source": [
    "# 8.Why is using logging messages better than using print() to display the same message?"
   ]
  },
  {
   "cell_type": "code",
   "execution_count": 24,
   "id": "b3abe397",
   "metadata": {
    "ExecuteTime": {
     "end_time": "2022-02-25T09:08:21.596846Z",
     "start_time": "2022-02-25T09:08:21.580844Z"
    }
   },
   "outputs": [],
   "source": [
    "# ANS 8:\n",
    "# There are many advantages of logging messages:\n",
    "# (1) We can store logging messages in a file where only system admin will be\n",
    "# able to see and have access to it. So INFO/WARNING etc type messages,\n",
    "# which do not stop execution of programs are not displayed to end-user\n",
    "# (2) We can selectively disable logging messages (say disable only INFO/WARNING)\n",
    "# without removing logging fun ction calls\n",
    "# (3) We can create logging messages with time-stamp, user-name or any other\n",
    "# custom logging messages"
   ]
  },
  {
   "cell_type": "markdown",
   "id": "e58050ca",
   "metadata": {
    "ExecuteTime": {
     "end_time": "2022-02-24T16:55:52.232887Z",
     "start_time": "2022-02-24T16:55:52.218942Z"
    }
   },
   "source": [
    "# 9. What are the differences between the Step Over, Step In, and Step Out buttons in the debugger?"
   ]
  },
  {
   "cell_type": "code",
   "execution_count": 25,
   "id": "649a03fd",
   "metadata": {
    "ExecuteTime": {
     "end_time": "2022-02-25T09:08:25.922193Z",
     "start_time": "2022-02-25T09:08:25.914200Z"
    }
   },
   "outputs": [],
   "source": [
    "# ANS;9\n",
    "# Step In button will move the debugger into function call\n",
    "# Step Over button will quickly execute the function call without executing it\n",
    "# Step Out button will quickly execute the rest of the function code until it\n",
    "# steps out of the function it is currently in."
   ]
  },
  {
   "cell_type": "markdown",
   "id": "cbd58a4b",
   "metadata": {},
   "source": [
    "# 10.After you click Continue, when will the debugger stop ?"
   ]
  },
  {
   "cell_type": "code",
   "execution_count": 26,
   "id": "b510ff26",
   "metadata": {
    "ExecuteTime": {
     "end_time": "2022-02-25T09:08:30.483467Z",
     "start_time": "2022-02-25T09:08:30.465470Z"
    }
   },
   "outputs": [],
   "source": [
    "# ANS 10:\n",
    "# After we hit Continue execution stops , only stop when a breakpoint is\n",
    "# encountered on a line or end of code is reached."
   ]
  },
  {
   "cell_type": "markdown",
   "id": "3b9e137b",
   "metadata": {},
   "source": [
    "# 11. What is the concept of a breakpoint?"
   ]
  },
  {
   "cell_type": "code",
   "execution_count": 27,
   "id": "9179cebb",
   "metadata": {
    "ExecuteTime": {
     "end_time": "2022-02-25T09:08:37.065247Z",
     "start_time": "2022-02-25T09:08:37.050232Z"
    }
   },
   "outputs": [],
   "source": [
    "# ANS 11:\n",
    "# A breakpoint creates a setting on a particular line of code such that it \n",
    "# causes the code-execution to stop when it reaches that line of code."
   ]
  }
 ],
 "metadata": {
  "kernelspec": {
   "display_name": "Python 3 (ipykernel)",
   "language": "python",
   "name": "python3"
  },
  "language_info": {
   "codemirror_mode": {
    "name": "ipython",
    "version": 3
   },
   "file_extension": ".py",
   "mimetype": "text/x-python",
   "name": "python",
   "nbconvert_exporter": "python",
   "pygments_lexer": "ipython3",
   "version": "3.9.7"
  },
  "nbTranslate": {
   "displayLangs": [
    "*"
   ],
   "hotkey": "alt-t",
   "langInMainMenu": true,
   "sourceLang": "en",
   "targetLang": "fr",
   "useGoogleTranslate": true
  },
  "toc": {
   "base_numbering": 1,
   "nav_menu": {},
   "number_sections": true,
   "sideBar": true,
   "skip_h1_title": false,
   "title_cell": "Table of Contents",
   "title_sidebar": "Contents",
   "toc_cell": false,
   "toc_position": {},
   "toc_section_display": true,
   "toc_window_display": false
  }
 },
 "nbformat": 4,
 "nbformat_minor": 5
}
