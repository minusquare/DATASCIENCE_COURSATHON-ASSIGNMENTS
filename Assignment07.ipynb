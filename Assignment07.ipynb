{
 "cells": [
  {
   "cell_type": "markdown",
   "id": "e67ba3d5",
   "metadata": {},
   "source": [
    "# 1. What is the name of the feature responsible for \n",
    "# generating Regex objects?"
   ]
  },
  {
   "cell_type": "code",
   "execution_count": null,
   "id": "2f6e8b79",
   "metadata": {},
   "outputs": [],
   "source": [
    "# ANS1: \n",
    "# In pyhton the function re.compile() method returns a pattern object \n",
    "# i.e., re.Pattern\n",
    "# re.compile(pattern, flags=0)\n",
    "# (1) pattern: regex pattern in string format, which you are trying to match\n",
    "#     inside the target string\n",
    "# (2) flags: The expression’s behavior can be modified by specifying regex \n",
    "#     flag values. This is an optional parameter\n",
    "# Later we can use this pattern object to search for a match inside different\n",
    "# target strings using regex methods such as a re.match() or re.search().\n",
    "# These two steps enable us  to compile a regular expression into a regex \n",
    "# object to look for occurrences of the same pattern inside various target \n",
    "# strings.\n",
    "# See code example below"
   ]
  },
  {
   "cell_type": "code",
   "execution_count": 81,
   "id": "bbf052a1",
   "metadata": {
    "ExecuteTime": {
     "end_time": "2022-02-23T14:23:56.579043Z",
     "start_time": "2022-02-23T14:23:56.566043Z"
    }
   },
   "outputs": [
    {
     "name": "stdout",
     "output_type": "stream",
     "text": [
      "<class 're.Pattern'>\n",
      "['Kamal']\n"
     ]
    }
   ],
   "source": [
    "import re\n",
    "pattern = re.compile(r\"\\b\\w{5}\\b\") # look for 5-letter words\n",
    "print(type(pattern))\n",
    "result = pattern.findall(\"Raj and Ramesh and Kamal\")\n",
    "print(result)"
   ]
  },
  {
   "cell_type": "markdown",
   "id": "65bca2df",
   "metadata": {},
   "source": [
    "# 2. Why do raw strings often appear in Regex objects?"
   ]
  },
  {
   "cell_type": "code",
   "execution_count": null,
   "id": "1146e63c",
   "metadata": {},
   "outputs": [],
   "source": [
    "# ANS 2: \n",
    "# Raw strings appear in regex objects so that we do not require to \n",
    "# escape backslashes"
   ]
  },
  {
   "cell_type": "markdown",
   "id": "31d123fc",
   "metadata": {},
   "source": [
    "# 3. What is the return value of the search() method?"
   ]
  },
  {
   "cell_type": "code",
   "execution_count": null,
   "id": "202eb2d3",
   "metadata": {},
   "outputs": [],
   "source": [
    "# ANS 3: \n",
    "# The return value of search() method is object orf re.Match() class"
   ]
  },
  {
   "cell_type": "code",
   "execution_count": 3,
   "id": "88af8d90",
   "metadata": {
    "ExecuteTime": {
     "end_time": "2022-02-23T09:20:07.065657Z",
     "start_time": "2022-02-23T09:20:07.049672Z"
    }
   },
   "outputs": [
    {
     "name": "stdout",
     "output_type": "stream",
     "text": [
      "<class 're.Match'>\n"
     ]
    }
   ],
   "source": [
    "import re\n",
    "txt = \"The rain in Spain\"\n",
    "x = re.search(\"^The.*Spain$\", txt) \n",
    "print(type(x))"
   ]
  },
  {
   "cell_type": "markdown",
   "id": "2987e9a0",
   "metadata": {},
   "source": [
    "# 4. From a Match item, how do you get the actual strings\n",
    "# that match the pattern?"
   ]
  },
  {
   "cell_type": "code",
   "execution_count": null,
   "id": "81ef78f7",
   "metadata": {},
   "outputs": [],
   "source": [
    "# ANS 4:\n",
    "# To get the actual string we use the group method.\n",
    "# Code example below"
   ]
  },
  {
   "cell_type": "code",
   "execution_count": 7,
   "id": "cf8004f8",
   "metadata": {
    "ExecuteTime": {
     "end_time": "2022-02-23T16:22:40.309587Z",
     "start_time": "2022-02-23T16:22:40.284586Z"
    }
   },
   "outputs": [
    {
     "name": "stdout",
     "output_type": "stream",
     "text": [
      "('111', '222', '3333')\n",
      "111-222-3333\n",
      "111\n",
      "222\n"
     ]
    }
   ],
   "source": [
    "import re\n",
    "my_Regex = re.compile(r'(\\d\\d\\d)-(\\d\\d\\d)-(\\d\\d\\d\\d)')\n",
    "# create three groups separated by - in phone number given as xxx-xxx-xxxx\n",
    "num = my_Regex.search('Given phone number is 111-222-3333.')\n",
    "print(num.groups())\n",
    "# The code lines below are for Q:5\n",
    "print(num.group(0))\n",
    "print(num.group(1))\n",
    "print(num.group(2))"
   ]
  },
  {
   "cell_type": "markdown",
   "id": "339d469b",
   "metadata": {},
   "source": [
    "#  5. In the regex which created from the \n",
    "#  r'(\\d\\d\\d)-(\\d\\d\\d-\\d\\d\\d\\d)',what does group zero cover?\n",
    "#  Group 2? Group 1?"
   ]
  },
  {
   "cell_type": "code",
   "execution_count": null,
   "id": "153321ee",
   "metadata": {},
   "outputs": [],
   "source": [
    "# ANS 5:\n",
    "# group(0) will output entire number, group(1) will be first set of \n",
    "# parenthesis in the regex and group(2) will be second set of parenthesis \n",
    "# in the regex. [ SEE LAST 3 LISNES OF CODE IN ABOVE CELL]"
   ]
  },
  {
   "cell_type": "markdown",
   "id": "e5eff153",
   "metadata": {},
   "source": [
    "# 6. In standard expression syntax, parentheses and intervals\n",
    "# have distinct meanings. How can you tell a regex that you \n",
    "# want it to fit real parentheses and periods?"
   ]
  },
  {
   "cell_type": "code",
   "execution_count": null,
   "id": "abf9f3aa",
   "metadata": {},
   "outputs": [],
   "source": [
    "# ANS 6: \n",
    "# We can do so by preceding parenthesis or period by escape character \\\n",
    "# E.g.,       \\( OR \\) OR \\."
   ]
  },
  {
   "cell_type": "markdown",
   "id": "70445f56",
   "metadata": {},
   "source": [
    "# 7. The findall() method returns a string list or a list of string\n",
    "# tuples. What causes it to return one of the two options?"
   ]
  },
  {
   "cell_type": "code",
   "execution_count": 108,
   "id": "6f9e65ec",
   "metadata": {
    "ExecuteTime": {
     "end_time": "2022-02-23T15:57:14.979516Z",
     "start_time": "2022-02-23T15:57:14.951519Z"
    }
   },
   "outputs": [
    {
     "name": "stdout",
     "output_type": "stream",
     "text": [
      "['Bindu', 'Kamal']\n",
      "[('111', '222', '3333')]\n"
     ]
    }
   ],
   "source": [
    "# ANS 7:\n",
    "# findall() returns a list of strings if the regrx has no groups but it\n",
    "# will return a list of tuples if regex has groups\n",
    "import re\n",
    "pattern = re.compile(r\"\\b\\w{5}\\b\") # look for 5-letter words\n",
    "# # regex has no groups\n",
    "result1 = pattern.findall(\"Bindu and Ramesh and Kamal\") \n",
    "print(result1)\n",
    "#\n",
    "pattern2 = re.compile(r'(\\d\\d\\d)-(\\d\\d\\d)-(\\d\\d\\d\\d)')\n",
    "# regex has groups\n",
    "num = pattern2.findall('Given phone number is 111-222-3333.')\n",
    "print(num)"
   ]
  },
  {
   "cell_type": "markdown",
   "id": "43637bef",
   "metadata": {},
   "source": [
    "# 8. In standard expressions, what does the | character mean?"
   ]
  },
  {
   "cell_type": "code",
   "execution_count": null,
   "id": "a5314679",
   "metadata": {},
   "outputs": [],
   "source": [
    "# ANS 8:\n",
    "# The character | signifies alternation (or operator) as in \"match this \n",
    "# or  that\". Code example below"
   ]
  },
  {
   "cell_type": "code",
   "execution_count": 13,
   "id": "b40e3104",
   "metadata": {
    "ExecuteTime": {
     "end_time": "2022-02-23T09:57:35.726009Z",
     "start_time": "2022-02-23T09:57:35.698036Z"
    }
   },
   "outputs": [
    {
     "name": "stdout",
     "output_type": "stream",
     "text": [
      "['a', 'a', 'a', 'a', 'a', 'a']\n"
     ]
    }
   ],
   "source": [
    "import re\n",
    "pattern = re.compile(r\"a|b\") # look for a or b\n",
    "result = pattern.findall(\"Raj and Ramesh and Kamal\")\n",
    "# There are six occurances of 'a' in above sentence but no 'b'\n",
    "print(result)"
   ]
  },
  {
   "cell_type": "markdown",
   "id": "413369fd",
   "metadata": {},
   "source": [
    "# 9. In regular expressions, what does the character '?' stand for?"
   ]
  },
  {
   "cell_type": "code",
   "execution_count": null,
   "id": "a3dba6da",
   "metadata": {},
   "outputs": [],
   "source": [
    "# ANS 9: \n",
    "# The '?' stands for \"Match zero or one of the group preceding this question mark\".\n",
    "# SEE CODE BELOW\n",
    "# in  some regex variants it works as  a modifier that sets the quantifier\n",
    "# behavior to non-greedy. Non greedy mode is only supported by some NFA engines."
   ]
  },
  {
   "cell_type": "code",
   "execution_count": 14,
   "id": "1f76d418",
   "metadata": {
    "ExecuteTime": {
     "end_time": "2022-02-23T10:09:13.696626Z",
     "start_time": "2022-02-23T10:09:13.677628Z"
    }
   },
   "outputs": [
    {
     "name": "stdout",
     "output_type": "stream",
     "text": [
      "['color', 'colour']\n"
     ]
    }
   ],
   "source": [
    "import re\n",
    "pattern = re.compile(r\"colou?r\") # look for color or colour\n",
    "result = pattern.findall(\"color and colour both are accepted as true.\")\n",
    "# \n",
    "print(result)"
   ]
  },
  {
   "cell_type": "markdown",
   "id": "19f530f0",
   "metadata": {},
   "source": [
    "# 10.In regular expressions, what is the difference between\n",
    "# the + and * characters?"
   ]
  },
  {
   "cell_type": "code",
   "execution_count": 40,
   "id": "535c4e94",
   "metadata": {
    "ExecuteTime": {
     "end_time": "2022-02-23T11:21:32.042907Z",
     "start_time": "2022-02-23T11:21:32.022912Z"
    }
   },
   "outputs": [
    {
     "name": "stdout",
     "output_type": "stream",
     "text": [
      "['abc', 'abbc', 'abc']\n"
     ]
    }
   ],
   "source": [
    "# ANS10: \n",
    "#Plus (+) symbol matches one or more occurrences of the regex preceding the + symbol.\n",
    "# EXAMPLE BELOW\n",
    "import re\n",
    "string = (r\"abc, abbc,dabc,ac, abdc\")\n",
    "pattern1 = 'ab+c'    \n",
    "#ab+c will be matched for the string abc, abbc, dabc, but will not be matched\n",
    "#for ac because there is no b in ac. Similarly ab+c will not match with abdc \n",
    "# as b is not followed by c in abdc.\n",
    "result1 = re.findall(pattern1, string) \n",
    "print(result1)"
   ]
  },
  {
   "cell_type": "code",
   "execution_count": 41,
   "id": "add0c36e",
   "metadata": {
    "ExecuteTime": {
     "end_time": "2022-02-23T11:24:46.663967Z",
     "start_time": "2022-02-23T11:24:46.658967Z"
    }
   },
   "outputs": [
    {
     "name": "stdout",
     "output_type": "stream",
     "text": [
      "['abc', 'abbc', 'abc', 'ac']\n"
     ]
    }
   ],
   "source": [
    "# Star (*) symbol matches zero or more occurrences of the regex preceding the * symbol.\n",
    "import re\n",
    "string = (r\"abc, abbc,dabc,ac, abdc\")\n",
    "pattern2 = 'ab*c'    \n",
    "result2 = re.findall(pattern2, string) \n",
    "print(result2)\n",
    "# ab*c will be matched for the string ac, abc, abbbc, dabc, etc. but will not \n",
    "# be matched for abdc because b is not followed by c."
   ]
  },
  {
   "cell_type": "markdown",
   "id": "9ee90b17",
   "metadata": {},
   "source": [
    "# 11. What is the difference between {4} and {4,5} in regular\n",
    "# expression?"
   ]
  },
  {
   "cell_type": "code",
   "execution_count": null,
   "id": "a7191c1c",
   "metadata": {},
   "outputs": [],
   "source": [
    "# ANS 11:\n",
    "# {4} will match exactly four instances of preceding group\n",
    "# {4,5} will match between four to five instances of preceding group"
   ]
  },
  {
   "cell_type": "code",
   "execution_count": 40,
   "id": "57fc2109",
   "metadata": {
    "ExecuteTime": {
     "end_time": "2022-02-23T17:19:21.587438Z",
     "start_time": "2022-02-23T17:19:21.566435Z"
    }
   },
   "outputs": [
    {
     "name": "stdout",
     "output_type": "stream",
     "text": [
      "['aaaa', 'aaaa', 'aaaa', 'aaaa', 'aaaa', 'aaaa', 'aaaa', 'aaaa']\n",
      "['aaaa', 'aaaaa', 'aaaa', 'aaaaa', 'aaaaa', 'aaaa', 'aaaa', 'aaaaa']\n"
     ]
    }
   ],
   "source": [
    "import re\n",
    "string = (r\"aaaab,aaaaax,aaaac,aaaaaaac,aaaaaaaaab,aaaah,aaaaak\")\n",
    "pattern1 = r'a{4}'  \n",
    "result1 = re.findall(pattern1, string) \n",
    "print(result1)    #  will print strings with exactly  four a's\n",
    "pattern2 = r'a{4,5}'    \n",
    "result2 = re.findall(pattern2, string) \n",
    "print(result2)    #  will print strings with four or five a's"
   ]
  },
  {
   "cell_type": "markdown",
   "id": "1e975435",
   "metadata": {},
   "source": [
    "# 12. What do you mean by the \\d, \\w, and \\s shorthand \n",
    "# character classes signify in regular expressions?"
   ]
  },
  {
   "cell_type": "code",
   "execution_count": 41,
   "id": "c3932444",
   "metadata": {
    "ExecuteTime": {
     "end_time": "2022-02-23T17:19:36.477104Z",
     "start_time": "2022-02-23T17:19:36.452109Z"
    }
   },
   "outputs": [
    {
     "name": "stdout",
     "output_type": "stream",
     "text": [
      "['3']\n",
      "['i', 'n', 'e', 'u', 'r', 'o', 'n', 'c', 'o', 'u', 'r', 's', 'e', '3']\n",
      "[' ', ' ']\n"
     ]
    }
   ],
   "source": [
    "# ANS 12:\n",
    "# \\d means match a single digit\n",
    "# \\w means match a single word. Here word = a letter or digit or underbar [a-zA-Z0-9_]\n",
    "#  \"word\" is just the mnemonic, it only matches a single char, not whole word.\n",
    "# \\s means match a space character\n",
    "import re\n",
    "string = (r\"ineuron course 3\")\n",
    "print(re.findall(r'\\d',string ))\n",
    "print(re.findall(r'\\w',string))\n",
    "print(re.findall(r'\\s',string))"
   ]
  },
  {
   "cell_type": "markdown",
   "id": "4d193bc1",
   "metadata": {
    "run_control": {
     "marked": true
    }
   },
   "source": [
    "# 13. What do means by \\D, \\W, and \\S shorthand character \n",
    "# classes signify in regular expressions?"
   ]
  },
  {
   "cell_type": "code",
   "execution_count": 45,
   "id": "0603a26c",
   "metadata": {
    "ExecuteTime": {
     "end_time": "2022-02-23T17:21:50.831993Z",
     "start_time": "2022-02-23T17:21:50.811003Z"
    }
   },
   "outputs": [
    {
     "name": "stdout",
     "output_type": "stream",
     "text": [
      "['@', '$', '%']\n"
     ]
    }
   ],
   "source": [
    "# ANS 13:\n",
    "# \\W means match a single character that is not word. Equivalent to [^a-zA-Z0-9_]\n",
    "str = '1@$a2%c'\n",
    "match = re.findall(r'\\W', str)\n",
    "print(match)"
   ]
  },
  {
   "cell_type": "code",
   "execution_count": 46,
   "id": "15716cf0",
   "metadata": {
    "ExecuteTime": {
     "end_time": "2022-02-23T17:21:52.098582Z",
     "start_time": "2022-02-23T17:21:52.075587Z"
    }
   },
   "outputs": [
    {
     "name": "stdout",
     "output_type": "stream",
     "text": [
      "['a', 'b', \"'\"]\n"
     ]
    }
   ],
   "source": [
    "# \\D means match a single character that is not digit\n",
    "import re\n",
    "str = \"1ab34'50\"\n",
    "match = re.findall(r'\\D', str)\n",
    "print(match) "
   ]
  },
  {
   "cell_type": "code",
   "execution_count": 47,
   "id": "4c0b5b94",
   "metadata": {
    "ExecuteTime": {
     "end_time": "2022-02-23T17:21:54.114467Z",
     "start_time": "2022-02-23T17:21:54.098462Z"
    }
   },
   "outputs": [
    {
     "name": "stdout",
     "output_type": "stream",
     "text": [
      "['a', 'b']\n"
     ]
    }
   ],
   "source": [
    "# \\S means match a single character that is not space. Equivalent to [^\" \"]\n",
    "import re \n",
    "str =\"a         b\"\n",
    "match = re.findall(r'\\S', str)\n",
    "print(match) "
   ]
  },
  {
   "cell_type": "markdown",
   "id": "8d0a077a",
   "metadata": {},
   "source": [
    "# 14. What is the difference between .*? and .*?"
   ]
  },
  {
   "cell_type": "code",
   "execution_count": 48,
   "id": "30314cd4",
   "metadata": {
    "ExecuteTime": {
     "end_time": "2022-02-23T17:21:59.355987Z",
     "start_time": "2022-02-23T17:21:59.335000Z"
    }
   },
   "outputs": [
    {
     "name": "stdout",
     "output_type": "stream",
     "text": [
      "['ac', 'ac', 'abc']\n"
     ]
    }
   ],
   "source": [
    "# ANS 14 A:\n",
    "# Special character .? will match the preceding symbol 0 or at most 1 time. \n",
    "# so ab?c would match 'ac' and 'abc' only\n",
    "s= r\"a acb acbd abbb afhfgb abdjfy ahb abc\"\n",
    "# 'a'  and 'acb'will not match as they do not end with c\n",
    "# from 'acb' and 'acbd' substring 'ac' will match\n",
    "# 'abbb','afhfgb','abdjfy' and 'ahb' will not match as they don't have c\n",
    "match = re.findall(r'ab?c', s)\n",
    "print(match)"
   ]
  },
  {
   "cell_type": "code",
   "execution_count": 49,
   "id": "8ebc1637",
   "metadata": {
    "ExecuteTime": {
     "end_time": "2022-02-23T17:22:04.395040Z",
     "start_time": "2022-02-23T17:22:04.382043Z"
    }
   },
   "outputs": [
    {
     "name": "stdout",
     "output_type": "stream",
     "text": [
      "['acb', 'acb', 'abb', 'ahb']\n"
     ]
    }
   ],
   "source": [
    "# ANS 14 B:\n",
    "# Special character . : In the default mode, it matches exactly one character except \n",
    "# a newline.E.g. a.b will check for the string that contains any \n",
    "# character at the place of the dot i.e all  3 character strings/substrings\n",
    "# starting with a and ending with b with exactly one letter in between\n",
    "#If the DOTALL is passed as second arg to re.compile(), this matches any character \n",
    "# including a newline. \n",
    "s= r\"a acb acbd abbb afhfgb abdjfy ahb abc\"\n",
    "match = re.findall(r'a.b', s)\n",
    "print(match)\n",
    "# 'a' will not match as it does not end with b, 'acb' will match\n",
    "# from 'acbd' substring acb will match\n",
    "# From 'abbb' substring 'abb' will match. Also 'ahb' will match\n",
    "# 'afhfgb' and  'abdjfy' will not match as have 5 and 0 chars between a and b\n",
    "# 'abc' WILL NOT  match as there is 0 character between a and b"
   ]
  },
  {
   "cell_type": "markdown",
   "id": "a573656f",
   "metadata": {},
   "source": [
    "# 15. What is the syntax for matching both numbers and \n",
    "# lowercase letters with a character class?"
   ]
  },
  {
   "cell_type": "code",
   "execution_count": 50,
   "id": "05a34342",
   "metadata": {
    "ExecuteTime": {
     "end_time": "2022-02-23T17:22:09.215147Z",
     "start_time": "2022-02-23T17:22:09.204197Z"
    }
   },
   "outputs": [
    {
     "name": "stdout",
     "output_type": "stream",
     "text": [
      "['a', 'b', '1', '2', '3', 't', 'y', 'e']\n"
     ]
    }
   ],
   "source": [
    "# ANS 15: the regex [0-9a-z] OR regex [a-z0-9] is used for matching both numbers  \n",
    "# and lowercase letters with a character class\n",
    "import re\n",
    "text = \"ab%&*123tye()\"\n",
    "match = re.findall(r'[0-9a-z]', text)\n",
    "print(match)"
   ]
  },
  {
   "cell_type": "markdown",
   "id": "d1046a83",
   "metadata": {},
   "source": [
    "# 16. What is the procedure for making a normal expression\n",
    "# in regax case insensitive?"
   ]
  },
  {
   "cell_type": "code",
   "execution_count": 51,
   "id": "49c66372",
   "metadata": {
    "ExecuteTime": {
     "end_time": "2022-02-23T17:22:14.442115Z",
     "start_time": "2022-02-23T17:22:14.429124Z"
    }
   },
   "outputs": [],
   "source": [
    "# ANS 16: \n",
    "# We need to pass, as second arg to re.compile(), re.I or re.IGNORECASE\n",
    "# to make a regular expression case insensitive"
   ]
  },
  {
   "cell_type": "markdown",
   "id": "71cfb64c",
   "metadata": {},
   "source": [
    "# 17. What does the . character normally match? What does\n",
    "# it match if re.DOTALL is passed as 2nd argument in re.compile()?"
   ]
  },
  {
   "cell_type": "code",
   "execution_count": 53,
   "id": "2e47eafe",
   "metadata": {
    "ExecuteTime": {
     "end_time": "2022-02-23T17:22:39.643774Z",
     "start_time": "2022-02-23T17:22:39.622777Z"
    }
   },
   "outputs": [
    {
     "name": "stdout",
     "output_type": "stream",
     "text": [
      "['acb', 'acb', 'abb', 'ahb']\n"
     ]
    }
   ],
   "source": [
    "# ANS 17: \n",
    "# Special character . : In the default mode, it matches exactly one character except \n",
    "# a newline.E.g. a.b will check for the string that contains any \n",
    "# character at the place of the dot i.e all  3 character strings/substrings\n",
    "# starting with a and ending with b with exactly one letter in between\n",
    "#If the DOTALL is passed as second arg to re.compile(), this matches any character \n",
    "# including a newline. \n",
    "s= r\"a acb acbd abbb afhfgb abdjfy ahb abc\"\n",
    "match = re.findall(r'a.b', s)\n",
    "print(match)\n",
    "# 'a' will not match as it does not end with b, 'acb' will match\n",
    "# from 'acbd' substring acb will match\n",
    "# From 'abbb' substring 'abb' will match. Also 'ahb' will match\n",
    "# 'afhfgb' and  'abdjfy' will not match as have 5 and 0 chars between a and b\n",
    "# 'abc' WILL NOT  match as there is 0 character between a and b"
   ]
  },
  {
   "cell_type": "markdown",
   "id": "4d76bd82",
   "metadata": {},
   "source": [
    "# 18. If numReg = re.compile(r'\\d+'), what will numRegex.sub('X', '11 drummers, 10 pipers, five rings, 4 hen') return?"
   ]
  },
  {
   "cell_type": "code",
   "execution_count": null,
   "id": "7de81b98",
   "metadata": {},
   "outputs": [],
   "source": [
    "# ANS 18: \n",
    "# It gives NameError: name 'numRegex' is not defined"
   ]
  },
  {
   "cell_type": "code",
   "execution_count": 54,
   "id": "6aec50ff",
   "metadata": {
    "ExecuteTime": {
     "end_time": "2022-02-23T17:22:46.700965Z",
     "start_time": "2022-02-23T17:22:46.665970Z"
    }
   },
   "outputs": [
    {
     "ename": "NameError",
     "evalue": "name 'numRegex' is not defined",
     "output_type": "error",
     "traceback": [
      "\u001b[1;31m---------------------------------------------------------------------------\u001b[0m",
      "\u001b[1;31mNameError\u001b[0m                                 Traceback (most recent call last)",
      "\u001b[1;32m~\\AppData\\Local\\Temp/ipykernel_15964/4292740099.py\u001b[0m in \u001b[0;36m<module>\u001b[1;34m\u001b[0m\n\u001b[0;32m      1\u001b[0m \u001b[0mnumReg\u001b[0m \u001b[1;33m=\u001b[0m \u001b[0mre\u001b[0m\u001b[1;33m.\u001b[0m\u001b[0mcompile\u001b[0m\u001b[1;33m(\u001b[0m\u001b[1;34mr'\\d+'\u001b[0m\u001b[1;33m)\u001b[0m\u001b[1;33m\u001b[0m\u001b[1;33m\u001b[0m\u001b[0m\n\u001b[1;32m----> 2\u001b[1;33m \u001b[0mprint\u001b[0m\u001b[1;33m(\u001b[0m\u001b[0mnumRegex\u001b[0m\u001b[1;33m.\u001b[0m\u001b[0msub\u001b[0m\u001b[1;33m(\u001b[0m\u001b[1;34m'X'\u001b[0m\u001b[1;33m,\u001b[0m \u001b[1;34m'11 drummers, 10 pipers, five rings, 4 hen'\u001b[0m\u001b[1;33m)\u001b[0m\u001b[1;33m)\u001b[0m\u001b[1;33m\u001b[0m\u001b[1;33m\u001b[0m\u001b[0m\n\u001b[0m",
      "\u001b[1;31mNameError\u001b[0m: name 'numRegex' is not defined"
     ]
    }
   ],
   "source": [
    "numReg = re.compile(r'\\d+')\n",
    "print(numRegex.sub('X', '11 drummers, 10 pipers, five rings, 4 hen'))"
   ]
  },
  {
   "cell_type": "markdown",
   "id": "b8c8d9ce",
   "metadata": {},
   "source": [
    "# 19. What does passing re.VERBOSE as the 2nd argument\n",
    "# to re.compile() allow to do?"
   ]
  },
  {
   "cell_type": "code",
   "execution_count": null,
   "id": "734f3305",
   "metadata": {},
   "outputs": [],
   "source": [
    "# ANS 19: \n",
    "# passing re.VERBOSE as second arg to re.compile allows us\n",
    "# to pass whitespaces and comments to string passed to re.compile()"
   ]
  },
  {
   "cell_type": "markdown",
   "id": "7da08697",
   "metadata": {},
   "source": [
    "# 20. How would you write a regex that match a number \n",
    "# with comma for every three digits? It must match the \n",
    "# given following:\n",
    "#'42'\n",
    "#'1,234'\n",
    "#'6,368,745'\n",
    "#but not the following:\n",
    "#'12,34,567' (which has only two digits between the commas)\n",
    "#'1234' (which lacks commas)"
   ]
  },
  {
   "cell_type": "code",
   "execution_count": null,
   "id": "c5bb10ab",
   "metadata": {},
   "outputs": [],
   "source": [
    "# ANS 20: \n",
    "# We can use regex ^\\d{1,2}(,\\d{3})*$"
   ]
  },
  {
   "cell_type": "code",
   "execution_count": 55,
   "id": "8b6fcb6f",
   "metadata": {
    "ExecuteTime": {
     "end_time": "2022-02-23T17:23:42.771658Z",
     "start_time": "2022-02-23T17:23:42.747661Z"
    }
   },
   "outputs": [
    {
     "name": "stdout",
     "output_type": "stream",
     "text": [
      "Matches\n",
      "Matches\n",
      "Matches\n",
      "No match\n",
      "No match\n"
     ]
    }
   ],
   "source": [
    "import re\n",
    "numlist = ['42','1,234','6,368,745','12,34,567','1234']\n",
    "for num in numlist:\n",
    "    match = re.findall(r'^\\d{1,2}(,\\d{3})*$', num)\n",
    "    if match:\n",
    "        print('Matches')\n",
    "    else:\n",
    "        print(\"No match\")"
   ]
  },
  {
   "cell_type": "markdown",
   "id": "64b2f247",
   "metadata": {},
   "source": [
    "# 21. How would you write a regex that matches the full \n",
    "# name of someone whose last name is Watanabe? \n",
    "# You can assume that the first name that comes before \n",
    "# it will always be one word that begins with a capital letter.\n",
    "# The regex must match the following:\n",
    "<!-- \n",
    "'Haruto Watanabe'\n",
    "'Alice Watanabe'\n",
    "'RoboCop Watanabe'\n",
    "but not the following:\n",
    "'haruto Watanabe' (where the first name is not capitalized)\n",
    "'Mr. Watanabe' (where the preceding word has a nonletter character)\n",
    "'Watanabe' (which has no first name)\n",
    "'Haruto watanabe' (where Watanabe is not capitalized)\n",
    " -->"
   ]
  },
  {
   "cell_type": "code",
   "execution_count": 56,
   "id": "a74ad4dc",
   "metadata": {
    "ExecuteTime": {
     "end_time": "2022-02-23T17:24:09.027009Z",
     "start_time": "2022-02-23T17:24:09.002005Z"
    }
   },
   "outputs": [
    {
     "name": "stdout",
     "output_type": "stream",
     "text": [
      "Matches\n",
      "Matches\n",
      "Matches\n",
      "No match\n",
      "No match\n",
      "No match\n",
      "No match\n"
     ]
    }
   ],
   "source": [
    "# ANS 21: \n",
    "#The regex would be r'[A-Z][a-z]*\\sWatanabe'\n",
    "import re\n",
    "namelist = ['Haruto Watanabe','Alice Watanabe','RoboCop Watanabe','haruto Watanabe','Mr. Watanabe','Watanabe','Haruto watanabe']\n",
    "for name in namelist:\n",
    "    match = re.findall(r'[A-Z][a-z]*\\sWatanabe', name)\n",
    "    if match:\n",
    "        print('Matches')\n",
    "    else:\n",
    "        print(\"No match\")"
   ]
  },
  {
   "cell_type": "markdown",
   "id": "240a426d",
   "metadata": {},
   "source": [
    "# 22. How would you write a regex that matches a sentence\n",
    "# where the first word is either Alice, Bob, or Carol; the \n",
    "# second word is either eats, pets, or throws; the third word\n",
    "# is apples, cats, or baseballs; and the sentence ends with \n",
    "# a period? This regex should be case-insensitive. It must \n",
    "# match the following:\n",
    "<!-- \n",
    "'Alice eats apples.'\n",
    "'Bob pets cats.'\n",
    "'Carol throws baseballs.'\n",
    "'Alice throws Apples.'\n",
    "'BOB EATS CATS.'\n",
    "but not the following:\n",
    "'RoboCop eats apples.'\n",
    "'ALICE THROWS FOOTBALLS.'\n",
    "'Carol eats 7 cats.'\n",
    " -->"
   ]
  },
  {
   "cell_type": "code",
   "execution_count": null,
   "id": "919a3d7f",
   "metadata": {},
   "outputs": [],
   "source": [
    "# ANS 22: \n",
    "# We can use re.compile(r'''\n",
    "# (Alice|Bob|Carol)        # The names\n",
    "# \\s                       # space\n",
    "# (eats|pets|throws)       # verbs\n",
    "# \\s                       # space\n",
    "# (apples|cats|baseballs)  # nouns\n",
    "# \\.                       # fullstops\n",
    "# ''', re.VERBOSE|re.I)"
   ]
  },
  {
   "cell_type": "code",
   "execution_count": 58,
   "id": "7bd07f63",
   "metadata": {
    "ExecuteTime": {
     "end_time": "2022-02-23T17:25:14.608997Z",
     "start_time": "2022-02-23T17:25:14.595996Z"
    }
   },
   "outputs": [
    {
     "name": "stdout",
     "output_type": "stream",
     "text": [
      "Matches\n",
      "Matches\n",
      "Matches\n",
      "Matches\n",
      "Matches\n",
      "No match\n",
      "No match\n",
      "No match\n"
     ]
    }
   ],
   "source": [
    "import re\n",
    "reg_x = re.compile(r'''\n",
    "(Alice|Bob|Carol)        # The names\n",
    "\\s                       # space\n",
    "(eats|pets|throws)       # verbs\n",
    "\\s                       # space\n",
    "(apples|cats|baseballs)  # nouns\n",
    "\\.                       # fullstops\n",
    "''', re.VERBOSE|re.I)\n",
    "str_list = [\"Alice eats apples.\",\"Bob pets cats.\",\"Carol throws baseballs.\", \"Alice throws Apples.\", \"BOB EATS CATS.\", \"RoboCop eats apples.\",\"ALICE THROWS FOOTBALLS.\",\"Carol eats 7 cats.\"]\n",
    "for i in range(0,len(str_list)):\n",
    "    match = reg_x.findall(str_list[i])\n",
    "    if match:\n",
    "        print('Matches')\n",
    "    else:\n",
    "        print(\"No match\")"
   ]
  },
  {
   "cell_type": "code",
   "execution_count": 59,
   "id": "23681391",
   "metadata": {
    "ExecuteTime": {
     "end_time": "2022-02-23T17:26:12.305290Z",
     "start_time": "2022-02-23T17:26:12.275296Z"
    }
   },
   "outputs": [
    {
     "name": "stdout",
     "output_type": "stream",
     "text": [
      "[('Alice', 'eats', 'apples')]\n",
      "[('Bob', 'pets', 'cats')]\n",
      "[('Carol', 'throws', 'baseballs')]\n",
      "[('Alice', 'throws', 'Apples')]\n",
      "[('BOB', 'EATS', 'CATS')]\n",
      "[]\n",
      "[]\n",
      "[]\n"
     ]
    }
   ],
   "source": [
    "# Other way of coding\n",
    "import re\n",
    "reg_x = re.compile(r'''\n",
    "(Alice|Bob|Carol)        # The names\n",
    "\\s                       # space\n",
    "(eats|pets|throws)       # verbs\n",
    "\\s                       # space\n",
    "(apples|cats|baseballs)  # nouns\n",
    "\\.                       # fullstops\n",
    "''', re.VERBOSE|re.I)\n",
    "str_list = [\"Alice eats apples.\",\"Bob pets cats.\",\"Carol throws baseballs.\", \"Alice throws Apples.\", \"BOB EATS CATS.\", \"RoboCop eats apples.\",\"ALICE THROWS FOOTBALLS.\",\"Carol eats 7 cats.\"]\n",
    "for i in range(0,len(str_list)):\n",
    "    x = reg_x.findall(str_list[i])\n",
    "    print(x)"
   ]
  }
 ],
 "metadata": {
  "kernelspec": {
   "display_name": "Python 3 (ipykernel)",
   "language": "python",
   "name": "python3"
  },
  "language_info": {
   "codemirror_mode": {
    "name": "ipython",
    "version": 3
   },
   "file_extension": ".py",
   "mimetype": "text/x-python",
   "name": "python",
   "nbconvert_exporter": "python",
   "pygments_lexer": "ipython3",
   "version": "3.9.7"
  },
  "nbTranslate": {
   "displayLangs": [
    "*"
   ],
   "hotkey": "alt-t",
   "langInMainMenu": true,
   "sourceLang": "en",
   "targetLang": "fr",
   "useGoogleTranslate": true
  },
  "toc": {
   "base_numbering": 1,
   "nav_menu": {},
   "number_sections": true,
   "sideBar": true,
   "skip_h1_title": false,
   "title_cell": "Table of Contents",
   "title_sidebar": "Contents",
   "toc_cell": false,
   "toc_position": {},
   "toc_section_display": true,
   "toc_window_display": false
  }
 },
 "nbformat": 4,
 "nbformat_minor": 5
}
