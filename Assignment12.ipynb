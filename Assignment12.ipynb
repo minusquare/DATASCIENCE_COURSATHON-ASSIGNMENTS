{
 "cells": [
  {
   "cell_type": "markdown",
   "id": "33a19440",
   "metadata": {},
   "source": [
    "# 1. In what modes should the PdfFileReader() and PdfFileWriter() File objects will be opened?"
   ]
  },
  {
   "cell_type": "code",
   "execution_count": null,
   "id": "437088d5",
   "metadata": {
    "ExecuteTime": {
     "end_time": "2022-02-25T09:35:18.856402Z",
     "start_time": "2022-02-25T09:35:09.874282Z"
    },
    "run_control": {
     "marked": false
    }
   },
   "outputs": [],
   "source": [
    "# import PyPDF2\n",
    "# ----------------------------------------------------------------------------\n",
    "# PdfFileReader  requires a PDF file object opened in 'rb'[ read binary] mode\n",
    "# pdfFileObj1 = open('xyz.pdf', 'rb') \n",
    "# pdfReader = PyPDF2.PdfFileReader(pdfFileObj)\n",
    "# ----------------------------------------------------------------------------\n",
    "# PdfFileWriter() requires a PDF file object opened in 'wb' [write binary] mode\n",
    "# pdfFileObj2 = open('abc.pdf', 'wb')\n",
    "# pdfWriter = PyPDF2.PdfFileWriter(pdfFileObj2)"
   ]
  },
  {
   "cell_type": "markdown",
   "id": "da284384",
   "metadata": {},
   "source": [
    "# 2. From a PdfFileReader object, how do you get a Page \n",
    "# object for page 5?"
   ]
  },
  {
   "cell_type": "code",
   "execution_count": null,
   "id": "10fa4196",
   "metadata": {},
   "outputs": [],
   "source": [
    "# ANS2:\n",
    "pageObj = pdf2Reader.getPage(4) #inside parenthesis of getPage, pagenum is \n",
    "# specified and it starts from 0. SO fifth page will have index 4"
   ]
  },
  {
   "cell_type": "markdown",
   "id": "c287da24",
   "metadata": {},
   "source": [
    "# 3. What PdfFileReader variable stores the number of pages\n",
    "# in the PDF document?"
   ]
  },
  {
   "cell_type": "code",
   "execution_count": null,
   "id": "bbc8467d",
   "metadata": {},
   "outputs": [],
   "source": [
    "# ANS:3 pdfReader.numPages variable stores the number of pages in the PDF document"
   ]
  },
  {
   "cell_type": "markdown",
   "id": "443d0a32",
   "metadata": {},
   "source": [
    "# 4. If a PdfFileReader object’s PDF is encrypted with the\n",
    "# password swordfish, what must you do before you can \n",
    "# obtain Page objects from it?"
   ]
  },
  {
   "cell_type": "code",
   "execution_count": null,
   "id": "796eb218",
   "metadata": {},
   "outputs": [],
   "source": [
    "# ANS:4\n",
    "# We can call pdfReader.decrypt('swordfish')"
   ]
  },
  {
   "cell_type": "markdown",
   "id": "ec84efc5",
   "metadata": {},
   "source": [
    "# 5. What methods do you use to rotate a page?"
   ]
  },
  {
   "cell_type": "code",
   "execution_count": null,
   "id": "651ec87a",
   "metadata": {
    "ExecuteTime": {
     "end_time": "2022-02-25T10:15:01.494877Z",
     "start_time": "2022-02-25T10:15:00.852892Z"
    }
   },
   "outputs": [],
   "source": [
    "# ANS: 5 \n",
    "# We can use page.rotateClockwise(90) OR page.rotateCounterClockwise(90)\n",
    "# Where instead of 90 we can specify angle in degrees like 180, 270"
   ]
  },
  {
   "cell_type": "markdown",
   "id": "d7247129",
   "metadata": {},
   "source": [
    "# 6. What is the difference between a Run object and a Paragraph object?"
   ]
  },
  {
   "attachments": {
    "paragraph_and_run.jpg": {
     "image/jpeg": "[encoded data removed]"
    }
   },
   "cell_type": "markdown",
   "id": "31b62f7c",
   "metadata": {},
   "source": [
    "![paragraph_and_run.jpg](attachment:paragraph_and_run.jpg)"
   ]
  },
  {
   "cell_type": "code",
   "execution_count": null,
   "id": "5ebfd78b",
   "metadata": {},
   "outputs": [],
   "source": [
    "# ANS:6 \n",
    "# Both terms are used in python while handling .docx document. A .docx(MS WORD)\n",
    "# document is not just a collection of strings/plain-text. It also stores in it \n",
    "# a lot of formatting information/structure represented by three different data\n",
    "# types in Python-Docx namely 'Document' {For entire .docx document}. Document\n",
    "# object is a list of paragraph object (E.g. sentence shown in image above).\n",
    "# Each paragraph in turn is a list of one or more run objects. E.g. in above image\n",
    "# paragraph =['Ineuron is a', 'great', 'institute', 'for technology and', 'AI']\n",
    "# So in a Paragraph  object whenever formatting changes a new Run object begins."
   ]
  },
  {
   "cell_type": "markdown",
   "id": "d321e6d3",
   "metadata": {},
   "source": [
    "# 7. How do you obtain a list of Paragraph objects for a Document object that’s stored in a variable named doc?"
   ]
  },
  {
   "cell_type": "code",
   "execution_count": 1,
   "id": "eae1f2b0",
   "metadata": {
    "ExecuteTime": {
     "end_time": "2022-02-25T11:34:42.515479Z",
     "start_time": "2022-02-25T11:34:42.162061Z"
    }
   },
   "outputs": [
    {
     "name": "stdout",
     "output_type": "stream",
     "text": [
      "['Document Title', 'A plain paragraph with some bold and some italic', 'Heading, level 1', 'Intense quote', 'first item in unordered list', 'first item in ordered list', '\\n']\n"
     ]
    }
   ],
   "source": [
    "# First import module\n",
    "import docx\n",
    "# Open the document\n",
    "docu = docx.Document('demo.docx')\n",
    "# Obtain list of paragraph\n",
    "para_list = []\n",
    "for para in docu.paragraphs:\n",
    "        para_list.append(para.text)\n",
    "print(para_list)"
   ]
  },
  {
   "cell_type": "markdown",
   "id": "7224e8f1",
   "metadata": {},
   "source": [
    "# 8. What type of object has bold, underline, italic, strike, and outline variables?"
   ]
  },
  {
   "attachments": {
    "example_para.jpg": {
     "image/jpeg": "[encoded data removed]"
    }
   },
   "cell_type": "markdown",
   "id": "873c94f9",
   "metadata": {},
   "source": [
    "![example_para.jpg](attachment:example_para.jpg)"
   ]
  },
  {
   "cell_type": "code",
   "execution_count": 3,
   "id": "602ac489",
   "metadata": {
    "ExecuteTime": {
     "end_time": "2022-02-25T11:35:39.991398Z",
     "start_time": "2022-02-25T11:35:39.931363Z"
    }
   },
   "outputs": [
    {
     "name": "stdout",
     "output_type": "stream",
     "text": [
      "A plain paragraph with some bold and some italic\n"
     ]
    }
   ],
   "source": [
    "#Ans :8\n",
    "# All these are the 'Run' object's attributes in the category 'text'\n",
    "# E.g. in above code we can underline the index '2' 'run' object of index '1'\n",
    "# 'paragraph' object as below. See above image of paragraph BEFORE executing code \n",
    "print(docu.paragraphs[1].text)\n",
    "docu.paragraphs[1].runs[2].underline = True\n",
    "docu.save('demo2.docx')\n",
    "# See in cell below image of paragraph AFTER executing code "
   ]
  },
  {
   "cell_type": "markdown",
   "id": "18c01495",
   "metadata": {},
   "source": [
    "![title](modified_para.jpg)"
   ]
  },
  {
   "cell_type": "markdown",
   "id": "2acf4ce0",
   "metadata": {},
   "source": [
    "# 9. What is the difference between False, True, and None for the bold variable?"
   ]
  },
  {
   "cell_type": "code",
   "execution_count": null,
   "id": "da0f0da2",
   "metadata": {},
   "outputs": [],
   "source": [
    "# ANS 9: \n",
    "# Many font properties are tri-state, So they can take values \n",
    "# True, False, and None. \n",
    "# True means the property is “on”, \n",
    "# False means it is “off”.\n",
    "# None value means “inherit”. A run exists in the style inheritance hierarchy\n",
    "# and by default inherits its character formatting from that hierarchy"
   ]
  },
  {
   "cell_type": "markdown",
   "id": "be59d767",
   "metadata": {},
   "source": [
    "# 10. How do you create a Document object for a new Word document?"
   ]
  },
  {
   "cell_type": "code",
   "execution_count": 6,
   "id": "8c89874b",
   "metadata": {
    "ExecuteTime": {
     "end_time": "2022-02-25T12:11:42.373600Z",
     "start_time": "2022-02-25T12:11:42.226564Z"
    }
   },
   "outputs": [
    {
     "name": "stdout",
     "output_type": "stream",
     "text": [
      " Volume in drive C has no label.\n",
      " Volume Serial Number is 665F-CDD0\n",
      "\n",
      " Directory of C:\\Users\\tejuh\\Data_Science_Coursathon\\ANSWERS\n",
      "\n",
      "25-02-2022  17:41    <DIR>          .\n",
      "25-02-2022  17:41    <DIR>          ..\n",
      "23-02-2022  14:13    <DIR>          .ipynb_checkpoints\n",
      "21-02-2022  14:57             5,360 Assignment01.ipynb\n",
      "21-02-2022  14:58             8,981 Assignment02.ipynb\n",
      "22-02-2022  08:37            12,370 Assignment03.ipynb\n",
      "22-02-2022  14:22           861,442 Assignment04.ipynb\n",
      "22-02-2022  16:51            12,438 Assignment05.ipynb\n",
      "23-02-2022  14:12            13,249 Assignment06.ipynb\n",
      "22-02-2022  19:22            16,932 Assignment06_DONOT_SUBMIT.ipynb\n",
      "23-02-2022  22:56            31,495 Assignment07.ipynb\n",
      "24-02-2022  18:52            14,571 Assignment08.ipynb\n",
      "24-02-2022  19:23             9,258 Assignment09.ipynb\n",
      "24-02-2022  22:21            46,285 Assignment10.ipynb\n",
      "25-02-2022  14:40            12,699 Assignment11.ipynb\n",
      "25-02-2022  17:40            27,576 Assignment12.ipynb\n",
      "21-02-2022  10:29                72 Assignment13.ipynb\n",
      "21-02-2022  10:29                72 Assignment14.ipynb\n",
      "21-02-2022  10:29                72 Assignment15.ipynb\n",
      "21-02-2022  10:30               817 Assignment16.ipynb\n",
      "21-02-2022  10:30                72 Assignment17.ipynb\n",
      "21-02-2022  10:30                72 Assignment18.ipynb\n",
      "21-02-2022  10:31                72 Assignment19.ipynb\n",
      "21-02-2022  10:31                72 Assignment20.ipynb\n",
      "21-02-2022  10:33                72 Assignment21.ipynb\n",
      "21-02-2022  10:34                72 Assignment22.ipynb\n",
      "21-02-2022  10:34                72 Assignment23.ipynb\n",
      "21-02-2022  10:34                72 Assignment24.ipynb\n",
      "21-02-2022  10:35                72 Assignment25.ipynb\n",
      "25-02-2022  16:21            42,624 demo.docx\n",
      "25-02-2022  17:05            32,890 demo2.docx\n",
      "24-02-2022  22:20    <DIR>          destination_folder\n",
      "25-02-2022  16:42             5,140 example_para.jpg\n",
      "25-02-2022  16:58             4,692 modified_para.jpg\n",
      "24-02-2022  21:45            11,394 my_dir_tree.jpg\n",
      "25-02-2022  17:41            36,563 my_word_doc.docx\n",
      "25-02-2022  16:01             4,499 paragraph_and_run.jpg\n",
      "21-02-2022  10:36                72 ProgrammingAssignment01.ipynb\n",
      "21-02-2022  10:36                72 ProgrammingAssignment02.ipynb\n",
      "21-02-2022  10:40                72 ProgrammingAssignment03.ipynb\n",
      "21-02-2022  10:40                72 ProgrammingAssignment04.ipynb\n",
      "21-02-2022  10:37                72 ProgrammingAssignment05.ipynb\n",
      "21-02-2022  10:37                72 ProgrammingAssignment06.ipynb\n",
      "21-02-2022  10:38                72 ProgrammingAssignment07.ipynb\n",
      "21-02-2022  10:38                72 ProgrammingAssignment08.ipynb\n",
      "21-02-2022  10:38                72 ProgrammingAssignment09.ipynb\n",
      "21-02-2022  10:39                72 ProgrammingAssignment10.ipynb\n",
      "21-02-2022  10:39                72 ProgrammingAssignment11.ipynb\n",
      "21-02-2022  10:39                72 ProgrammingAssignment12.ipynb\n",
      "21-02-2022  10:44                72 ProgrammingAssignment13.ipynb\n",
      "21-02-2022  10:45                72 ProgrammingAssignment14.ipynb\n",
      "21-02-2022  10:48                72 ProgrammingAssignment15.ipynb\n",
      "21-02-2022  10:49                72 ProgrammingAssignment16.ipynb\n",
      "21-02-2022  10:50                72 ProgrammingAssignment17.ipynb\n",
      "21-02-2022  10:45                72 ProgrammingAssignment18.ipynb\n",
      "21-02-2022  10:45                72 ProgrammingAssignment19.ipynb\n",
      "21-02-2022  10:46                72 ProgrammingAssignment20.ipynb\n",
      "21-02-2022  10:47                72 ProgrammingAssignment21.ipynb\n",
      "21-02-2022  10:47                72 ProgrammingAssignment22.ipynb\n",
      "21-02-2022  10:47                72 ProgrammingAssignment23.ipynb\n",
      "21-02-2022  10:48                72 ProgrammingAssignment24.ipynb\n",
      "21-02-2022  10:48                72 ProgrammingAssignment25.ipynb\n",
      "21-02-2022  10:54                72 PROJECT1.ipynb\n",
      "21-02-2022  10:55             1,084 PROJECT2.ipynb\n",
      "21-02-2022  10:56             1,084 PrOJECT3.ipynb\n",
      "21-02-2022  10:56                72 PROJECT4.ipynb\n",
      "24-02-2022  21:35    <DIR>          source_folder\n",
      "10-09-2021  18:36        10,006,638 xyz.pdf\n",
      "              63 File(s)     11,222,889 bytes\n",
      "               5 Dir(s)  20,459,515,904 bytes free\n"
     ]
    }
   ],
   "source": [
    "# To create your own .docx file, call docx.Document() to return a new, \n",
    "# blank Word Document object.\n",
    "import docx\n",
    "word_doc = docx.Document()\n",
    "word_doc.save(\"my_word_doc.docx\")\n",
    "%ls"
   ]
  },
  {
   "cell_type": "markdown",
   "id": "567e7191",
   "metadata": {},
   "source": [
    "# 11. How do you add a paragraph with the text 'Hello, there!' to a Document object stored in a variable named doc?"
   ]
  },
  {
   "cell_type": "code",
   "execution_count": 8,
   "id": "051a38bf",
   "metadata": {
    "ExecuteTime": {
     "end_time": "2022-02-25T12:16:21.625342Z",
     "start_time": "2022-02-25T12:16:21.545327Z"
    }
   },
   "outputs": [
    {
     "name": "stdout",
     "output_type": "stream",
     "text": [
      "Hello,there!\n"
     ]
    }
   ],
   "source": [
    "import docx\n",
    "doc = docx.Document()\n",
    "doc.add_paragraph('Hello,there!')\n",
    "doc.save('myword_doc1.docx')\n",
    "print(doc.paragraphs[0].text)"
   ]
  },
  {
   "cell_type": "markdown",
   "id": "6ec121ed",
   "metadata": {},
   "source": [
    "# 12. What integers represent the levels of headings available in Word documents?"
   ]
  },
  {
   "cell_type": "code",
   "execution_count": null,
   "id": "302096bb",
   "metadata": {},
   "outputs": [],
   "source": [
    "# ANS 12: INTEGERS 0-9 REPRESENT THE LEVELS OF HEADING FOR WORD DOCUMENTS.\n",
    "# To add a heading we use the inbuilt .add_heading() method of document object.\n",
    "# Syntax: doc.add_heading(String s, level)\n",
    "# String s: It is the string data that is to be added as a heading or a title.\n",
    "# level: It is an integer number in the range 0-9."
   ]
  }
 ],
 "metadata": {
  "kernelspec": {
   "display_name": "Python 3 (ipykernel)",
   "language": "python",
   "name": "python3"
  },
  "language_info": {
   "codemirror_mode": {
    "name": "ipython",
    "version": 3
   },
   "file_extension": ".py",
   "mimetype": "text/x-python",
   "name": "python",
   "nbconvert_exporter": "python",
   "pygments_lexer": "ipython3",
   "version": "3.9.7"
  },
  "nbTranslate": {
   "displayLangs": [
    "*"
   ],
   "hotkey": "alt-t",
   "langInMainMenu": true,
   "sourceLang": "en",
   "targetLang": "fr",
   "useGoogleTranslate": true
  },
  "toc": {
   "base_numbering": 1,
   "nav_menu": {},
   "number_sections": true,
   "sideBar": true,
   "skip_h1_title": false,
   "title_cell": "Table of Contents",
   "title_sidebar": "Contents",
   "toc_cell": false,
   "toc_position": {},
   "toc_section_display": true,
   "toc_window_display": false
  }
 },
 "nbformat": 4,
 "nbformat_minor": 5
}
