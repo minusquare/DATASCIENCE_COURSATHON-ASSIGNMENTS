{
 "cells": [
  {
   "cell_type": "markdown",
   "id": "7f666fdd",
   "metadata": {},
   "source": [
    "# 1.\n",
    "What is the difference between enclosing a list comprehension in square brackets\n",
    "and parentheses?\n",
    "ANS:1\n",
    "Actually if we use parenthesis, it is no longer called list comprehension but a \n",
    "generator. A Generator Expression is doing basically the same thing as a List \n",
    "Comprehension does, but the GE does it lazily. Instead of creating a list and\n",
    "keeping the whole sequence in the memory, the generator generates the next \n",
    "element in demand.So, generator expression are memory efficient.\n",
    "A List Comprehension, just like the plain range function, executes immediately \n",
    "and returns a list. A Generator Expression, just like xrange returns an object \n",
    "that can be iterated over. The comparision is not perfect though, because in an\n",
    "object returned by the generator expression, we cannot access elements by index. "
   ]
  },
  {
   "cell_type": "code",
   "execution_count": 12,
   "id": "6ae7f851",
   "metadata": {
    "ExecuteTime": {
     "end_time": "2022-03-03T10:01:23.654936Z",
     "start_time": "2022-03-03T10:01:23.623693Z"
    }
   },
   "outputs": [],
   "source": [
    "# Declaration\n",
    "l = [n*3 for n in range(100)] # List comprehension\n",
    "g = (n*3 for n in range(100))  # Generator expression"
   ]
  },
  {
   "cell_type": "code",
   "execution_count": 13,
   "id": "09d9d8f9",
   "metadata": {
    "ExecuteTime": {
     "end_time": "2022-03-03T10:01:27.078517Z",
     "start_time": "2022-03-03T10:01:27.047380Z"
    }
   },
   "outputs": [
    {
     "name": "stdout",
     "output_type": "stream",
     "text": [
      "<class 'list'>\n",
      "<class 'generator'>\n"
     ]
    }
   ],
   "source": [
    "# Checking type \n",
    "print(type(l))  # 'list'\n",
    "print(type(g))  # 'generator'"
   ]
  },
  {
   "cell_type": "code",
   "execution_count": 15,
   "id": "f870ea3f",
   "metadata": {
    "ExecuteTime": {
     "end_time": "2022-03-03T10:02:00.178609Z",
     "start_time": "2022-03-03T10:02:00.147366Z"
    }
   },
   "outputs": [
    {
     "name": "stdout",
     "output_type": "stream",
     "text": [
      "920\n",
      "112\n"
     ]
    }
   ],
   "source": [
    "# Checking memory occupied\n",
    "import sys\n",
    "print(sys.getsizeof(l))  # 920. Will increase with increase in number of elements\n",
    "print(sys.getsizeof(g))  # 112. Will remain constant on increasing no of elements\n",
    "#So, generator expression are memory efficient."
   ]
  },
  {
   "cell_type": "code",
   "execution_count": 16,
   "id": "d4a0e76c",
   "metadata": {
    "ExecuteTime": {
     "end_time": "2022-03-03T10:02:47.492810Z",
     "start_time": "2022-03-03T10:02:47.445926Z"
    }
   },
   "outputs": [
    {
     "name": "stdout",
     "output_type": "stream",
     "text": [
      "12\n"
     ]
    },
    {
     "ename": "TypeError",
     "evalue": "'generator' object is not subscriptable",
     "output_type": "error",
     "traceback": [
      "\u001b[1;31m---------------------------------------------------------------------------\u001b[0m",
      "\u001b[1;31mTypeError\u001b[0m                                 Traceback (most recent call last)",
      "\u001b[1;32m~\\AppData\\Local\\Temp/ipykernel_16532/67134262.py\u001b[0m in \u001b[0;36m<module>\u001b[1;34m\u001b[0m\n\u001b[0;32m      1\u001b[0m \u001b[1;31m# checking if elements can be accessed by index\u001b[0m\u001b[1;33m\u001b[0m\u001b[1;33m\u001b[0m\u001b[0m\n\u001b[0;32m      2\u001b[0m \u001b[0mprint\u001b[0m\u001b[1;33m(\u001b[0m\u001b[0ml\u001b[0m\u001b[1;33m[\u001b[0m\u001b[1;36m4\u001b[0m\u001b[1;33m]\u001b[0m\u001b[1;33m)\u001b[0m   \u001b[1;31m# 8\u001b[0m\u001b[1;33m\u001b[0m\u001b[1;33m\u001b[0m\u001b[0m\n\u001b[1;32m----> 3\u001b[1;33m \u001b[0mprint\u001b[0m\u001b[1;33m(\u001b[0m\u001b[0mg\u001b[0m\u001b[1;33m[\u001b[0m\u001b[1;36m4\u001b[0m\u001b[1;33m]\u001b[0m\u001b[1;33m)\u001b[0m   \u001b[1;31m# TypeError: TypeError: 'generator' object is not subscriptable\u001b[0m\u001b[1;33m\u001b[0m\u001b[1;33m\u001b[0m\u001b[0m\n\u001b[0m",
      "\u001b[1;31mTypeError\u001b[0m: 'generator' object is not subscriptable"
     ]
    }
   ],
   "source": [
    "# checking if elements can be accessed by index\n",
    "print(l[4])   # 8\n",
    "print(g[4])   # TypeError: TypeError: 'generator' object is not subscriptable"
   ]
  },
  {
   "cell_type": "code",
   "execution_count": 17,
   "id": "6d6917ca",
   "metadata": {
    "ExecuteTime": {
     "end_time": "2022-03-03T10:02:51.704368Z",
     "start_time": "2022-03-03T10:02:51.626383Z"
    },
    "run_control": {
     "marked": true
    }
   },
   "outputs": [
    {
     "name": "stdout",
     "output_type": "stream",
     "text": [
      "0\n",
      "3\n",
      "6\n",
      "9\n",
      "12\n",
      "15\n",
      "18\n",
      "21\n",
      "24\n",
      "27\n",
      "30\n",
      "33\n",
      "36\n",
      "39\n",
      "42\n",
      "45\n",
      "48\n",
      "51\n",
      "54\n",
      "57\n",
      "60\n",
      "63\n",
      "66\n",
      "69\n",
      "72\n",
      "75\n",
      "78\n",
      "81\n",
      "84\n",
      "87\n",
      "90\n",
      "93\n",
      "96\n",
      "99\n",
      "102\n",
      "105\n",
      "108\n",
      "111\n",
      "114\n",
      "117\n",
      "120\n",
      "123\n",
      "126\n",
      "129\n",
      "132\n",
      "135\n",
      "138\n",
      "141\n",
      "144\n",
      "147\n",
      "150\n",
      "153\n",
      "156\n",
      "159\n",
      "162\n",
      "165\n",
      "168\n",
      "171\n",
      "174\n",
      "177\n",
      "180\n",
      "183\n",
      "186\n",
      "189\n",
      "192\n",
      "195\n",
      "198\n",
      "201\n",
      "204\n",
      "207\n",
      "210\n",
      "213\n",
      "216\n",
      "219\n",
      "222\n",
      "225\n",
      "228\n",
      "231\n",
      "234\n",
      "237\n",
      "240\n",
      "243\n",
      "246\n",
      "249\n",
      "252\n",
      "255\n",
      "258\n",
      "261\n",
      "264\n",
      "267\n",
      "270\n",
      "273\n",
      "276\n",
      "279\n",
      "282\n",
      "285\n",
      "288\n",
      "291\n",
      "294\n",
      "297\n",
      "0\n",
      "3\n",
      "6\n",
      "9\n",
      "12\n",
      "15\n",
      "18\n",
      "21\n",
      "24\n",
      "27\n",
      "30\n",
      "33\n",
      "36\n",
      "39\n",
      "42\n",
      "45\n",
      "48\n",
      "51\n",
      "54\n",
      "57\n",
      "60\n",
      "63\n",
      "66\n",
      "69\n",
      "72\n",
      "75\n",
      "78\n",
      "81\n",
      "84\n",
      "87\n",
      "90\n",
      "93\n",
      "96\n",
      "99\n",
      "102\n",
      "105\n",
      "108\n",
      "111\n",
      "114\n",
      "117\n",
      "120\n",
      "123\n",
      "126\n",
      "129\n",
      "132\n",
      "135\n",
      "138\n",
      "141\n",
      "144\n",
      "147\n",
      "150\n",
      "153\n",
      "156\n",
      "159\n",
      "162\n",
      "165\n",
      "168\n",
      "171\n",
      "174\n",
      "177\n",
      "180\n",
      "183\n",
      "186\n",
      "189\n",
      "192\n",
      "195\n",
      "198\n",
      "201\n",
      "204\n",
      "207\n",
      "210\n",
      "213\n",
      "216\n",
      "219\n",
      "222\n",
      "225\n",
      "228\n",
      "231\n",
      "234\n",
      "237\n",
      "240\n",
      "243\n",
      "246\n",
      "249\n",
      "252\n",
      "255\n",
      "258\n",
      "261\n",
      "264\n",
      "267\n",
      "270\n",
      "273\n",
      "276\n",
      "279\n",
      "282\n",
      "285\n",
      "288\n",
      "291\n",
      "294\n",
      "297\n"
     ]
    }
   ],
   "source": [
    "# Accessing elements by looping\n",
    "for v in l:\n",
    "    print(v)\n",
    "for w in g:\n",
    "    print(w)"
   ]
  },
  {
   "cell_type": "code",
   "execution_count": 18,
   "id": "3d30f411",
   "metadata": {
    "ExecuteTime": {
     "end_time": "2022-03-03T10:05:23.571027Z",
     "start_time": "2022-03-03T10:05:14.534873Z"
    }
   },
   "outputs": [
    {
     "name": "stdout",
     "output_type": "stream",
     "text": [
      "8.43938900000012\n",
      "0.5803717999999662\n"
     ]
    }
   ],
   "source": [
    "#List Comprehension:\n",
    "import timeit\n",
    "print(timeit.timeit('''list_com = [i for i in range(100) if i % 2 == 0]''', number=1000000))\n",
    "# 8.43938900000012 seconds\n",
    "#Generator Expression:\n",
    "print(timeit.timeit('''gen_exp = (i for i in range(100) if i % 2 == 0)''', number=1000000))\n",
    "# 0.5803717999999662 seconds\n",
    "#\n",
    "# So, generator executions are very fast."
   ]
  },
  {
   "cell_type": "markdown",
   "id": "0f09363a",
   "metadata": {},
   "source": [
    "# 2 .What is the relationship between generators and iterators?\n",
    "ITERATORS:\n",
    "   An iterator is an object which contains a countable number of values and it is \n",
    "used to iterate over iterable objects like list, tuples, sets.\n",
    "Iterators are implemented using a class and no local variable for iterating is\n",
    "required here, It follows lazy evaluation (the evaluation of expression will be\n",
    "on hold and stored in the memory until the item is called specifically) which \n",
    "helps us to avoid repeated evaluation.\n",
    "    As lazy evaluation is used, it requires only 1 memory location to process the \n",
    "value and when we are using a  large dataset then, wastage of RAM space will\n",
    "be reduced as thee is no  need to load the entire dataset at the same time.\n",
    "Using an iterator-\n",
    "iter() keyword is used to create an iterator containing an iterable object.\n",
    "next() keyword is used to call the next element in the iterable object.\n",
    "After iterable object is completed, to use them again reassign them to same object.\n",
    "GENERATORS:\n",
    "    It is another way of creating iterators in a simple way where it uses the\n",
    "keyword “yield” instead of returning it in a defined function. Generators are\n",
    "implemented using a function. \n",
    "    Just as iterators, generators also follow lazy evaluation.Here, the yield \n",
    "function returns the data without affecting or exiting the function. It will \n",
    "return a sequence of data in an iterable format where we need to iterate over\n",
    "the sequence to use the data as they won’t store the entire sequence in memory."
   ]
  },
  {
   "cell_type": "code",
   "execution_count": 21,
   "id": "24ae8aab",
   "metadata": {
    "ExecuteTime": {
     "end_time": "2022-03-03T10:21:42.270723Z",
     "start_time": "2022-03-03T10:21:42.239472Z"
    }
   },
   "outputs": [
    {
     "name": "stdout",
     "output_type": "stream",
     "text": [
      "Tejas\n"
     ]
    }
   ],
   "source": [
    "# ITERATORS: EXAMPLE\n",
    "iter_list = iter(['Tejas', 'Dinkerai', 'Desai'])\n",
    "print(next(iter_list))"
   ]
  },
  {
   "cell_type": "code",
   "execution_count": 22,
   "id": "2c5d695f",
   "metadata": {
    "ExecuteTime": {
     "end_time": "2022-03-03T10:21:45.649117Z",
     "start_time": "2022-03-03T10:21:45.617849Z"
    }
   },
   "outputs": [
    {
     "name": "stdout",
     "output_type": "stream",
     "text": [
      "Dinkerai\n"
     ]
    }
   ],
   "source": [
    "print(next(iter_list))"
   ]
  },
  {
   "cell_type": "code",
   "execution_count": 23,
   "id": "1a7d88e0",
   "metadata": {
    "ExecuteTime": {
     "end_time": "2022-03-03T10:21:50.474172Z",
     "start_time": "2022-03-03T10:21:50.442926Z"
    }
   },
   "outputs": [
    {
     "name": "stdout",
     "output_type": "stream",
     "text": [
      "Desai\n"
     ]
    }
   ],
   "source": [
    "print(next(iter_list))"
   ]
  },
  {
   "cell_type": "code",
   "execution_count": 30,
   "id": "6ed3c05b",
   "metadata": {
    "ExecuteTime": {
     "end_time": "2022-03-03T10:30:07.069119Z",
     "start_time": "2022-03-03T10:30:07.037938Z"
    }
   },
   "outputs": [
    {
     "name": "stdout",
     "output_type": "stream",
     "text": [
      "The cubes of numbers 1,2,3 are : \n",
      "1\n"
     ]
    }
   ],
   "source": [
    "# GENERATORS: EXAMPLE\n",
    "def get_cubes(n):\n",
    "    for i in range(1, n+1):\n",
    "        yield i*i*i\n",
    "a = get_cubes(3)\n",
    "print(\"The cubes of numbers 1,2,3 are : \")\n",
    "print(next(a))"
   ]
  },
  {
   "cell_type": "code",
   "execution_count": 31,
   "id": "6bf66724",
   "metadata": {
    "ExecuteTime": {
     "end_time": "2022-03-03T10:30:11.631944Z",
     "start_time": "2022-03-03T10:30:11.600636Z"
    }
   },
   "outputs": [
    {
     "name": "stdout",
     "output_type": "stream",
     "text": [
      "8\n"
     ]
    }
   ],
   "source": [
    "print(next(a))"
   ]
  },
  {
   "cell_type": "code",
   "execution_count": 32,
   "id": "823a56e7",
   "metadata": {
    "ExecuteTime": {
     "end_time": "2022-03-03T10:30:16.245044Z",
     "start_time": "2022-03-03T10:30:16.213755Z"
    }
   },
   "outputs": [
    {
     "name": "stdout",
     "output_type": "stream",
     "text": [
      "27\n"
     ]
    }
   ],
   "source": [
    "print(next(a))"
   ]
  },
  {
   "cell_type": "markdown",
   "id": "ad5d3267",
   "metadata": {},
   "source": [
    "# 3 What are signs that a function is a generator function?\n",
    "ANS:\n",
    "(A)In a generator function, a yield statement is used rather than a return statement.\n",
    "The difference between yield and return is that yield returns a value and pauses \n",
    "the execution while maintaining the internal states, whereas the return statement\n",
    "returns a value and terminates the execution of the function.\n",
    "(B)A generator is a special type of function which does not return a single value, \n",
    "instead, it returns an iterator object with a sequence of values. So, from return\n",
    "type we can easily recognize generator function."
   ]
  },
  {
   "cell_type": "code",
   "execution_count": 34,
   "id": "46728e3b",
   "metadata": {
    "ExecuteTime": {
     "end_time": "2022-03-03T10:39:39.983201Z",
     "start_time": "2022-03-03T10:39:39.967581Z"
    }
   },
   "outputs": [],
   "source": [
    "def mygenerator():\n",
    "    print('First item')\n",
    "    yield 10\n",
    "\n",
    "    print('Second item')\n",
    "    yield 20\n",
    "\n",
    "    print('Last item')\n",
    "    yield 30"
   ]
  },
  {
   "cell_type": "code",
   "execution_count": 35,
   "id": "9f26d11c",
   "metadata": {
    "ExecuteTime": {
     "end_time": "2022-03-03T10:39:43.420803Z",
     "start_time": "2022-03-03T10:39:43.389741Z"
    }
   },
   "outputs": [
    {
     "name": "stdout",
     "output_type": "stream",
     "text": [
      "First item\n"
     ]
    },
    {
     "data": {
      "text/plain": [
       "10"
      ]
     },
     "execution_count": 35,
     "metadata": {},
     "output_type": "execute_result"
    }
   ],
   "source": [
    "gen = mygenerator() \n",
    "next(gen) "
   ]
  },
  {
   "cell_type": "code",
   "execution_count": 36,
   "id": "cfcfd539",
   "metadata": {
    "ExecuteTime": {
     "end_time": "2022-03-03T10:39:48.383132Z",
     "start_time": "2022-03-03T10:39:48.345337Z"
    }
   },
   "outputs": [
    {
     "name": "stdout",
     "output_type": "stream",
     "text": [
      "Second item\n"
     ]
    },
    {
     "data": {
      "text/plain": [
       "20"
      ]
     },
     "execution_count": 36,
     "metadata": {},
     "output_type": "execute_result"
    }
   ],
   "source": [
    "next(gen) "
   ]
  },
  {
   "cell_type": "code",
   "execution_count": 37,
   "id": "9e80cbb7",
   "metadata": {
    "ExecuteTime": {
     "end_time": "2022-03-03T10:39:52.795889Z",
     "start_time": "2022-03-03T10:39:52.780237Z"
    }
   },
   "outputs": [
    {
     "name": "stdout",
     "output_type": "stream",
     "text": [
      "Last item\n"
     ]
    },
    {
     "data": {
      "text/plain": [
       "30"
      ]
     },
     "execution_count": 37,
     "metadata": {},
     "output_type": "execute_result"
    }
   ],
   "source": [
    "next(gen) "
   ]
  },
  {
   "cell_type": "markdown",
   "id": "e561f726",
   "metadata": {},
   "source": [
    "# 4.What is the purpose of a yield statement?\n",
    "        The yield statement suspends function’s execution and sends a value back \n",
    "to the caller, but retains enough state to enable function to resume where it is\n",
    "left off. When resumed, the function continues execution immediately after the last \n",
    "yield run. This allows its code to produce a series of values over time, rather\n",
    "than computing them at once and sending them back like a list.\n",
    "        Yield are used in Python generators. A generator function is defined like\n",
    "a normal function, but whenever it needs to generate a value, it does so with \n",
    "the yield keyword rather than return."
   ]
  },
  {
   "cell_type": "markdown",
   "id": "df560462",
   "metadata": {},
   "source": [
    "# 5. What is the relationship between map calls and list \n",
    "comprehensions? Make a comparison and contrast between the two.\n",
    "ANS:\n",
    "map() FUNCTION:\n",
    "map function is used when we want to compute this function for different values \n",
    "in a single line of code. map() function returns a map object(which is an iterator) \n",
    "of the results after applying the given function to each item of a given iterable\n",
    "(list, tuple etc.)\n",
    "Syntax: map(funcname, iterables)\n",
    "LIST COMPREHENSION:\n",
    "List Comprehension is a substitute for lambda function, map(), filter() & reduce(). \n",
    "It follows the form of the mathematical set-builder notation. It provide a concise\n",
    "way to create lists.\n",
    "SYNTAX: [ expression for item in list if conditional ]\n",
    "Map VS List Comprehension\n",
    "(A)List comprehension is more concise and easier to read as compared to map.\n",
    "(B)List comprehension allows filtering. In map, we have no such facility. E.g.\n",
    "to print all even numbers in range of 100, we can write:\n",
    "[n for n in range(100) if n%2 == 0]. There is no alternate for it in map\n",
    "(C) List comprehension are used when a list of results is required as map only\n",
    "returns a map object and does not return any list.\n",
    "(D)List comprehension is faster than map when we need to evaluate expressions\n",
    "that are too long or complicated to express. However, Map is faster in case of\n",
    "calling an already defined function or even evaluating simple lamda operation"
   ]
  },
  {
   "cell_type": "code",
   "execution_count": 38,
   "id": "9493b4ef",
   "metadata": {
    "ExecuteTime": {
     "end_time": "2022-03-03T10:57:01.289803Z",
     "start_time": "2022-03-03T10:57:01.279739Z"
    }
   },
   "outputs": [
    {
     "name": "stdout",
     "output_type": "stream",
     "text": [
      "<map object at 0x0000012F4CDB4B20>\n",
      "[2, 4, 6, 8, 10]\n"
     ]
    }
   ],
   "source": [
    "# MAP EXAMPLE\n",
    "def get_double(n) :\n",
    "    return n * 2\n",
    "          \n",
    "lst = [1,2,3,4,5]\n",
    "# creates a map object\n",
    "x = map(get_double, lst) \n",
    "print(x) \n",
    "# returns list\n",
    "print(list(x))  "
   ]
  },
  {
   "cell_type": "code",
   "execution_count": 40,
   "id": "68c03316",
   "metadata": {
    "ExecuteTime": {
     "end_time": "2022-03-03T11:02:32.218957Z",
     "start_time": "2022-03-03T11:02:32.203515Z"
    }
   },
   "outputs": [
    {
     "name": "stdout",
     "output_type": "stream",
     "text": [
      "[4, 8, 12, 16, 20, 24]\n"
     ]
    }
   ],
   "source": [
    "# LIST COMPREHENSION EXAMPLE\n",
    "mylst = [1,2,3,4,5,6,7,8,9,10,11,12]\n",
    "# to double the number\n",
    "# list comprehension\n",
    "x = [i * 2 for i in mylst if i%2==0] \n",
    "print(x)"
   ]
  },
  {
   "cell_type": "code",
   "execution_count": 47,
   "id": "bc0d8007",
   "metadata": {
    "ExecuteTime": {
     "end_time": "2022-03-03T11:35:44.269186Z",
     "start_time": "2022-03-03T11:35:39.520960Z"
    },
    "run_control": {
     "marked": true
    }
   },
   "outputs": [
    {
     "name": "stdout",
     "output_type": "stream",
     "text": [
      "3.9105423000000883\n",
      "0.38606110000000626\n",
      "0.4120673000006718\n"
     ]
    }
   ],
   "source": [
    "# Comparing Execution Time\n",
    "import timeit\n",
    "# List comprehension\n",
    "x = timeit.timeit('[x for x in range(100)]', number=999999)  #3.91 seconds\n",
    "print(x)\n",
    "# 4.492357300000549\n",
    "#Map (without lambda)\n",
    "s ='def func():print(i)'\n",
    "y = timeit.timeit('map(func,range(100))', number=999999,setup=s) #0.386 seconds\n",
    "print(y)\n",
    "# 0.4497942999996667\n",
    "# Map with lambda\n",
    "x = timeit.timeit('map(lambda a:a,range(100))', number=999999)#0.412 seconds \n",
    "print(x)\n",
    "#\n",
    "# SO, map() IS FASTER THAN list comprehension both in absence and presence of \n",
    "# lambda expression."
   ]
  }
 ],
 "metadata": {
  "kernelspec": {
   "display_name": "Python 3 (ipykernel)",
   "language": "python",
   "name": "python3"
  },
  "language_info": {
   "codemirror_mode": {
    "name": "ipython",
    "version": 3
   },
   "file_extension": ".py",
   "mimetype": "text/x-python",
   "name": "python",
   "nbconvert_exporter": "python",
   "pygments_lexer": "ipython3",
   "version": "3.9.7"
  },
  "nbTranslate": {
   "displayLangs": [
    "*"
   ],
   "hotkey": "alt-t",
   "langInMainMenu": true,
   "sourceLang": "en",
   "targetLang": "fr",
   "useGoogleTranslate": true
  },
  "toc": {
   "base_numbering": 1,
   "nav_menu": {},
   "number_sections": true,
   "sideBar": true,
   "skip_h1_title": false,
   "title_cell": "Table of Contents",
   "title_sidebar": "Contents",
   "toc_cell": false,
   "toc_position": {},
   "toc_section_display": true,
   "toc_window_display": false
  }
 },
 "nbformat": 4,
 "nbformat_minor": 5
}
