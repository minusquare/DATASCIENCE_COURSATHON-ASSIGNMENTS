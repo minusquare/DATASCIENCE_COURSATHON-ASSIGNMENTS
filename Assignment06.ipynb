{
 "cells": [
  {
   "cell_type": "markdown",
   "id": "98b5f452",
   "metadata": {},
   "source": [
    "# 1. What are escape characters, and how do you use them?"
   ]
  },
  {
   "cell_type": "code",
   "execution_count": null,
   "id": "4a3a55ea",
   "metadata": {},
   "outputs": [],
   "source": [
    "# ANS 1: Certain characters are illegal to use in a string. E.g. \" \", ''...\n",
    "# If we want to use them in string then we precede by a backslash \\. Such\n",
    "# characters, which are otherwise non-printable, are called escape character.\n",
    "# E.g. To print \\ we write \\\\\n",
    "# E.g. To print ' we write \\'\n",
    "# E.g. To print \" we write \\\"\n",
    "# E.g. ASCII Linefeed (LF) we write \\n\n",
    "# E.g. ASCII carriage_return(CR)we write \\r"
   ]
  },
  {
   "cell_type": "markdown",
   "id": "fd11ff75",
   "metadata": {},
   "source": [
    "# 2. What do the escape characters n and t stand for?"
   ]
  },
  {
   "cell_type": "code",
   "execution_count": null,
   "id": "efcea2b4",
   "metadata": {},
   "outputs": [],
   "source": [
    "# ANS 2: \\n is a newline. \\n is for vertical tab . It takes the cursor to next line. \n",
    "# ; \\t is a  horizontal tab \\t (horizontal tab). It represents an unspecified length of white space."
   ]
  },
  {
   "cell_type": "markdown",
   "id": "0f839b36",
   "metadata": {},
   "source": [
    "# 3. What is the way to include backslash characters in a string?"
   ]
  },
  {
   "cell_type": "code",
   "execution_count": null,
   "id": "28bf814c",
   "metadata": {},
   "outputs": [],
   "source": [
    "# ANS 3: To print \\ we write  escape character \\\\"
   ]
  },
  {
   "cell_type": "markdown",
   "id": "08d6cd86",
   "metadata": {},
   "source": [
    "# 4. The string \"Howl's Moving Castle\" is a correct value. Why isn't the single quote character in the word Howl's not escaped a problem?"
   ]
  },
  {
   "cell_type": "code",
   "execution_count": null,
   "id": "d716aa48",
   "metadata": {},
   "outputs": [],
   "source": [
    "# ANS 4: If entire string is enclosed in double quotes then including \n",
    "# single quotes inside string is not illegal."
   ]
  },
  {
   "cell_type": "markdown",
   "id": "d35b9b8d",
   "metadata": {},
   "source": [
    "# 5. How do you write a string of newlines if you don't want to use the n character?"
   ]
  },
  {
   "cell_type": "code",
   "execution_count": null,
   "id": "bd4ae2bc",
   "metadata": {},
   "outputs": [],
   "source": [
    "# ANS 5: If we don't want to use the the \\n character then one can use multiline\n",
    "# strings. For this we will use ''''''"
   ]
  },
  {
   "cell_type": "code",
   "execution_count": 17,
   "id": "b1a2a9b4",
   "metadata": {
    "ExecuteTime": {
     "end_time": "2022-02-22T13:16:02.273616Z",
     "start_time": "2022-02-22T13:16:02.245614Z"
    }
   },
   "outputs": [
    {
     "name": "stdout",
     "output_type": "stream",
     "text": [
      "Long string with newlines: \n",
      "ABCDEHFFFDFHHGFHGHG\n",
      "KVDFHFDSDFKFHHDHKHHKFHKHSKFKSDHFKH\n",
      "ouuuuoouououououououououuououououbwyyyw\n",
      "----------------------------------------\n",
      "Using triple-quotes: \n",
      "ABCDEHFFFDFHHGFHGHG.\n",
      "KVDFHFDSDFKFHHDHKHHKFHKHSKFKSDHFKH.\n",
      "nouuuuoouououououououououuououououbwyyyw.\n"
     ]
    }
   ],
   "source": [
    "# Use triple quotes \"\"\"\"\"\"\n",
    "# String containing newline characters\n",
    "str = \"ABCDEHFFFDFHHGFHGHG\\nKVDFHFDSDFKFHHDHKHHKFHKHSKFKSDHFKH\\nouuuuoouououououououououuououououbwyyyw\"\n",
    "print(\"Long string with newlines: \\n\" + str)\n",
    "print(\"----------------------------------------\")\n",
    "# Now using triple quotes\n",
    "str = '''ABCDEHFFFDFHHGFHGHG.\n",
    "KVDFHFDSDFKFHHDHKHHKFHKHSKFKSDHFKH.\n",
    "nouuuuoouououououououououuououououbwyyyw.'''\n",
    "print(\"Using triple-quotes: \\n\" + str)"
   ]
  },
  {
   "cell_type": "markdown",
   "id": "a7c79b32",
   "metadata": {},
   "source": [
    "# 6. What are the values of the given expressions?\n",
    "'Hello, world!'[1]\n",
    "'Hello, world!'[0:5]\n",
    "'Hello, world!'[:5]\n",
    "'Hello, world!'[3:]\n"
   ]
  },
  {
   "cell_type": "code",
   "execution_count": null,
   "id": "246541a3",
   "metadata": {},
   "outputs": [],
   "source": [
    "# ANS:6 \n",
    "# 'Hello, world!'[1]     ANS: 'e'\n",
    "# 'Hello, world!'[0:5]   ANS: 'Hello'\n",
    "# 'Hello, world!'[:5]    ANS: 'Hello'\n",
    "# 'Hello, world!'[3:]    ANS: 'lo, world!'"
   ]
  },
  {
   "cell_type": "code",
   "execution_count": 18,
   "id": "818ba023",
   "metadata": {
    "ExecuteTime": {
     "end_time": "2022-02-22T13:18:28.702111Z",
     "start_time": "2022-02-22T13:18:28.667101Z"
    }
   },
   "outputs": [
    {
     "data": {
      "text/plain": [
       "'e'"
      ]
     },
     "execution_count": 18,
     "metadata": {},
     "output_type": "execute_result"
    }
   ],
   "source": [
    "'Hello, world!'[1]"
   ]
  },
  {
   "cell_type": "code",
   "execution_count": 19,
   "id": "ffa03db0",
   "metadata": {
    "ExecuteTime": {
     "end_time": "2022-02-22T13:19:46.437315Z",
     "start_time": "2022-02-22T13:19:46.430316Z"
    }
   },
   "outputs": [
    {
     "data": {
      "text/plain": [
       "'Hello'"
      ]
     },
     "execution_count": 19,
     "metadata": {},
     "output_type": "execute_result"
    }
   ],
   "source": [
    "'Hello, world!'[0:5]"
   ]
  },
  {
   "cell_type": "code",
   "execution_count": 20,
   "id": "8b879d87",
   "metadata": {
    "ExecuteTime": {
     "end_time": "2022-02-22T13:20:24.584094Z",
     "start_time": "2022-02-22T13:20:24.562096Z"
    }
   },
   "outputs": [
    {
     "data": {
      "text/plain": [
       "'Hello'"
      ]
     },
     "execution_count": 20,
     "metadata": {},
     "output_type": "execute_result"
    }
   ],
   "source": [
    "'Hello, world!'[:5]"
   ]
  },
  {
   "cell_type": "code",
   "execution_count": 22,
   "id": "7b065317",
   "metadata": {
    "ExecuteTime": {
     "end_time": "2022-02-22T13:21:14.098359Z",
     "start_time": "2022-02-22T13:21:14.086332Z"
    }
   },
   "outputs": [
    {
     "data": {
      "text/plain": [
       "'lo, world!'"
      ]
     },
     "execution_count": 22,
     "metadata": {},
     "output_type": "execute_result"
    }
   ],
   "source": [
    "'Hello, world!'[3:]"
   ]
  },
  {
   "cell_type": "markdown",
   "id": "2804a387",
   "metadata": {},
   "source": [
    "# 7. What are the values of the following expressions?\n",
    "#'Hello'.upper()\n",
    "#'Hello'.upper().isupper()\n",
    "#'Hello'.upper().lower() "
   ]
  },
  {
   "cell_type": "code",
   "execution_count": null,
   "id": "3f5a05cb",
   "metadata": {},
   "outputs": [],
   "source": [
    "# ANS 7:\n",
    "# 'Hello'.upper()              ANS: 'HELLO'\n",
    "# 'Hello'.upper().isupper()    ANS: 'True'\n",
    "# 'Hello'.upper().lower()      ANS: 'hello'"
   ]
  },
  {
   "cell_type": "code",
   "execution_count": 23,
   "id": "0fed7636",
   "metadata": {
    "ExecuteTime": {
     "end_time": "2022-02-22T13:23:19.239149Z",
     "start_time": "2022-02-22T13:23:19.223148Z"
    }
   },
   "outputs": [
    {
     "data": {
      "text/plain": [
       "'HELLO'"
      ]
     },
     "execution_count": 23,
     "metadata": {},
     "output_type": "execute_result"
    }
   ],
   "source": [
    "'Hello'.upper()"
   ]
  },
  {
   "cell_type": "code",
   "execution_count": 25,
   "id": "533973c0",
   "metadata": {
    "ExecuteTime": {
     "end_time": "2022-02-22T13:23:43.577013Z",
     "start_time": "2022-02-22T13:23:43.559015Z"
    }
   },
   "outputs": [
    {
     "data": {
      "text/plain": [
       "True"
      ]
     },
     "execution_count": 25,
     "metadata": {},
     "output_type": "execute_result"
    }
   ],
   "source": [
    "'Hello'.upper().isupper()"
   ]
  },
  {
   "cell_type": "code",
   "execution_count": 26,
   "id": "ec692580",
   "metadata": {
    "ExecuteTime": {
     "end_time": "2022-02-22T13:24:37.533923Z",
     "start_time": "2022-02-22T13:24:37.519924Z"
    }
   },
   "outputs": [
    {
     "data": {
      "text/plain": [
       "'hello'"
      ]
     },
     "execution_count": 26,
     "metadata": {},
     "output_type": "execute_result"
    }
   ],
   "source": [
    "'Hello'.upper().lower()"
   ]
  },
  {
   "cell_type": "markdown",
   "id": "dbacbce1",
   "metadata": {},
   "source": [
    "# 8. What are the values of the following expressions?\n",
    "'Remember, remember, the fifth of July.'.split()\n",
    "'-'.join('There can only one.'.split())"
   ]
  },
  {
   "cell_type": "code",
   "execution_count": null,
   "id": "e97d76f7",
   "metadata": {},
   "outputs": [],
   "source": [
    "# ANS 8:\n",
    "# 'Remember, remember, the fifth of July.'.split()\n",
    "# ANS: ['Remember,', 'remember,', 'the', 'fifth', 'of', 'July.']\n",
    "# '-'.join('There can only one.'.split())\n",
    "# ANS: 'There-can-only-one.'"
   ]
  },
  {
   "cell_type": "code",
   "execution_count": 27,
   "id": "fe128d07",
   "metadata": {
    "ExecuteTime": {
     "end_time": "2022-02-22T13:25:44.918761Z",
     "start_time": "2022-02-22T13:25:44.909723Z"
    }
   },
   "outputs": [
    {
     "data": {
      "text/plain": [
       "['Remember,', 'remember,', 'the', 'fifth', 'of', 'July.']"
      ]
     },
     "execution_count": 27,
     "metadata": {},
     "output_type": "execute_result"
    }
   ],
   "source": [
    "'Remember, remember, the fifth of July.'.split()"
   ]
  },
  {
   "cell_type": "code",
   "execution_count": 28,
   "id": "a2ccd11b",
   "metadata": {
    "ExecuteTime": {
     "end_time": "2022-02-22T13:26:50.812167Z",
     "start_time": "2022-02-22T13:26:50.798165Z"
    }
   },
   "outputs": [
    {
     "data": {
      "text/plain": [
       "'There-can-only-one.'"
      ]
     },
     "execution_count": 28,
     "metadata": {},
     "output_type": "execute_result"
    }
   ],
   "source": [
    "'-'.join('There can only one.'.split())"
   ]
  },
  {
   "cell_type": "markdown",
   "id": "2da5eca1",
   "metadata": {},
   "source": [
    "# 9. What are the methods for right-justifying, left-justifying, and centering a string?"
   ]
  },
  {
   "cell_type": "code",
   "execution_count": null,
   "id": "1fe68c74",
   "metadata": {},
   "outputs": [],
   "source": [
    "# ANS 9:\n",
    "# (a) RIGHT JUSTIFYING: rjust()\n",
    "# (b) LEFT JUSTIFYING: ljust()\n",
    "# (c) Centering: center()"
   ]
  },
  {
   "cell_type": "code",
   "execution_count": 35,
   "id": "8c92183c",
   "metadata": {
    "ExecuteTime": {
     "end_time": "2022-02-22T13:45:37.270616Z",
     "start_time": "2022-02-22T13:45:37.251617Z"
    }
   },
   "outputs": [
    {
     "name": "stdout",
     "output_type": "stream",
     "text": [
      "###############ineuron is great.Oneneuron is great\n",
      "ineuron is great.Oneneuron is great---------------\n",
      "$$$$$$$ineuron is great.Oneneuron is great$$$$$$$$\n"
     ]
    }
   ],
   "source": [
    "str = 'ineuron is great.Oneneuron is great'\n",
    "print(str.rjust(50,'#'))\n",
    "print(str.ljust(50,'-'))\n",
    "print(str.center(50,'$'))"
   ]
  },
  {
   "cell_type": "markdown",
   "id": "665e243f",
   "metadata": {},
   "source": [
    "# 10. What is the best way to remove whitespace characters from the start or end?"
   ]
  },
  {
   "cell_type": "code",
   "execution_count": null,
   "id": "8fca8fe4",
   "metadata": {},
   "outputs": [],
   "source": [
    "# ANS 10:\n",
    "# To remove white spaces on right side use rstrip\n",
    "# To remove white spaces from leftside use lstrip\n",
    "# To remove white spaces from both sides use strip"
   ]
  },
  {
   "cell_type": "code",
   "execution_count": 37,
   "id": "2db95197",
   "metadata": {
    "ExecuteTime": {
     "end_time": "2022-02-22T13:49:50.327180Z",
     "start_time": "2022-02-22T13:49:50.316185Z"
    }
   },
   "outputs": [
    {
     "name": "stdout",
     "output_type": "stream",
     "text": [
      "          ineuron is great.\n",
      "ineuron is great.            \n",
      "ineuron is great.\n"
     ]
    }
   ],
   "source": [
    "str = '          ineuron is great.            '\n",
    "print(str.rstrip())\n",
    "print(str.lstrip())\n",
    "print(str.strip())"
   ]
  }
 ],
 "metadata": {
  "kernelspec": {
   "display_name": "Python 3 (ipykernel)",
   "language": "python",
   "name": "python3"
  },
  "language_info": {
   "codemirror_mode": {
    "name": "ipython",
    "version": 3
   },
   "file_extension": ".py",
   "mimetype": "text/x-python",
   "name": "python",
   "nbconvert_exporter": "python",
   "pygments_lexer": "ipython3",
   "version": "3.9.7"
  },
  "nbTranslate": {
   "displayLangs": [
    "*"
   ],
   "hotkey": "alt-t",
   "langInMainMenu": true,
   "sourceLang": "en",
   "targetLang": "fr",
   "useGoogleTranslate": true
  },
  "toc": {
   "base_numbering": 1,
   "nav_menu": {},
   "number_sections": true,
   "sideBar": true,
   "skip_h1_title": false,
   "title_cell": "Table of Contents",
   "title_sidebar": "Contents",
   "toc_cell": false,
   "toc_position": {},
   "toc_section_display": true,
   "toc_window_display": false
  }
 },
 "nbformat": 4,
 "nbformat_minor": 5
}
