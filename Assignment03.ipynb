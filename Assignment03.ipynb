{
 "cells": [
  {
   "cell_type": "markdown",
   "id": "960ce21a",
   "metadata": {},
   "source": [
    "# 1. Why are functions advantageous to have in your programs?"
   ]
  },
  {
   "cell_type": "code",
   "execution_count": null,
   "id": "3963b05c",
   "metadata": {},
   "outputs": [],
   "source": [
    "# ANS 1:\n",
    "# (1) Functions provide modular structure to program and reduce code complexity. \n",
    "# Breaking the code in smaller Functions keeps the program organized.\n",
    "# (2) Functions improve readability\n",
    "# (3) Same function can be re-used again and again. This reduces programmer's\n",
    "#     effort and time.\n",
    "# (4) Functions make debugging easier and faster\n",
    "# (5) Functions enable us to hide the implementation details of a program\n",
    "# (6) Functions use the divide and conquer approach which allows  parts of a\n",
    "# program to be developed, tested and debugged independently and concurrently \n",
    "# by members of a programming team."
   ]
  },
  {
   "cell_type": "markdown",
   "id": "b8b0f98c",
   "metadata": {},
   "source": [
    "# 2. When does the code in a function run: when it's specified or when it's called?"
   ]
  },
  {
   "cell_type": "code",
   "execution_count": null,
   "id": "88f55881",
   "metadata": {},
   "outputs": [],
   "source": [
    "# ANS 2:\n",
    "# The code in a function runs when it is called."
   ]
  },
  {
   "cell_type": "markdown",
   "id": "8f783aae",
   "metadata": {},
   "source": [
    "# 3. What statement creates a function?"
   ]
  },
  {
   "cell_type": "code",
   "execution_count": null,
   "id": "f05844e0",
   "metadata": {},
   "outputs": [],
   "source": [
    "# ANS 3:\n",
    "# In python  a function is created by\n",
    "#def function_name():\n",
    "#     Function body statement(s)"
   ]
  },
  {
   "cell_type": "markdown",
   "id": "ccf3624f",
   "metadata": {},
   "source": [
    "# 4. What is the difference between a function and a function call?"
   ]
  },
  {
   "cell_type": "code",
   "execution_count": null,
   "id": "824d3f85",
   "metadata": {},
   "outputs": [],
   "source": [
    "# ANS 4:\n",
    "# A function defines the implementation or  blueprint of programming steps to\n",
    "# be executed when that function would be called AND also the arguments (if any). \n",
    "# DEFINING A FUNCTION DOES NOT RUN CODE INSIDE IT.\n",
    "# A function call acutally triggers the execution of code defined within\n",
    "# the function body"
   ]
  },
  {
   "cell_type": "markdown",
   "id": "8355ee4b",
   "metadata": {},
   "source": [
    "# 5. How many global scopes are there in a Python program? How many local scopes?"
   ]
  },
  {
   "cell_type": "code",
   "execution_count": null,
   "id": "4822a2ab",
   "metadata": {},
   "outputs": [],
   "source": [
    "# ANS 5:\n",
    "# GLOBAL SCOPE: There is only one global scope in python. When a variable is declared outside\n",
    "# function, by default, it has global scope. NO NEED TO WRITE global before\n",
    "# it. This scope remains in existence until the program terminates and all its\n",
    "# names are forgotten at the time of termination.\n",
    "# LOCAL SCOPE: The local scope is also called function scope. It is a Python \n",
    "# scope created at function calls. A new local scope is created ,eachtime we\n",
    "# call a function the parameters and names assigned inside the function come\n",
    "# into existence. When function returns, these are destroyed.\n",
    "# NOTE: THERE ARE OTHER TWO SCOPES 'BUILT-IN' SCOPE AND 'ENCLOSING SCOPE' IN PYTHON"
   ]
  },
  {
   "cell_type": "code",
   "execution_count": null,
   "id": "b48be2fa",
   "metadata": {},
   "outputs": [],
   "source": [
    "# ANS 6:\n",
    "# 6. What happens to variables in a local scope when the function call returns?\n",
    "\n",
    "# Eachtime we call a function the parameters and names assigned inside the \n",
    "# function come into existence. When function returns, these are destroyed."
   ]
  },
  {
   "cell_type": "markdown",
   "id": "530b0681",
   "metadata": {},
   "source": [
    "# 7. What is the concept of a return value? Is it possible to have a return value in an expression?"
   ]
  },
  {
   "cell_type": "code",
   "execution_count": null,
   "id": "4b527ae2",
   "metadata": {},
   "outputs": [],
   "source": [
    "# ANS 7:\n",
    "# The return statement inside python function is always present (either explicitly\n",
    "# or implicitly)in all python functions. It makes function send Python objects\n",
    "# back to the caller code (When return passes control out of a try statement \n",
    "# with a finally clause, that finally clause is executed before really leaving\n",
    "# the function).These objects can be int, float, complex number, list, tuple,\n",
    "# dictionary,set, user defined objects,classes, functions or even modules or \n",
    "# packages or 'None' are known as the function’s return value.\n",
    "# Yes it is possible to have an expression as a return value. In fact it is\n",
    "#  a common practice to use the result of an expression as a return value in \n",
    "# a return statement. See sample code below:"
   ]
  },
  {
   "cell_type": "code",
   "execution_count": 1,
   "id": "4d7d4823",
   "metadata": {
    "ExecuteTime": {
     "end_time": "2022-02-21T11:47:08.176901Z",
     "start_time": "2022-02-21T11:47:08.155900Z"
    }
   },
   "outputs": [
    {
     "data": {
      "text/plain": [
       "2.5"
      ]
     },
     "execution_count": 1,
     "metadata": {},
     "output_type": "execute_result"
    }
   ],
   "source": [
    "def mean(sample):\n",
    "    return sum(sample) / len(sample)\n",
    "mean([1, 2, 3, 4])"
   ]
  },
  {
   "cell_type": "markdown",
   "id": "7a67f87d",
   "metadata": {},
   "source": [
    "# 8. If a function does not have a return statement, what is the return value of a call to that function?"
   ]
  },
  {
   "cell_type": "code",
   "execution_count": null,
   "id": "69fdd32b",
   "metadata": {},
   "outputs": [],
   "source": [
    "# ANS 8:\n",
    "# If a function does not have a return statement, the implicit 'return'\n",
    "# statement executes and return value is 'None'"
   ]
  },
  {
   "cell_type": "markdown",
   "id": "de67fe0d",
   "metadata": {},
   "source": [
    "# 9. How do you make a function variable refer to the global variable?"
   ]
  },
  {
   "cell_type": "code",
   "execution_count": null,
   "id": "1fd5e91b",
   "metadata": {},
   "outputs": [],
   "source": [
    "# ANS 9:\n",
    "# We can make a function variable refer to a global variable by delaring\n",
    "# global variable_name \n",
    "# within the body of function. E.g. see code below"
   ]
  },
  {
   "cell_type": "code",
   "execution_count": 3,
   "id": "e8ce1146",
   "metadata": {
    "ExecuteTime": {
     "end_time": "2022-02-21T11:59:04.856644Z",
     "start_time": "2022-02-21T11:59:04.835681Z"
    }
   },
   "outputs": [
    {
     "name": "stdout",
     "output_type": "stream",
     "text": [
      "75\n"
     ]
    }
   ],
   "source": [
    "marks = 0\n",
    "def update_marks():\n",
    "    global marks   # This global declaration means now when 'marks' is modified\n",
    "                   # within the function global marks will be modified. \n",
    "                   # Else implicit behaviour of python is to create a local\n",
    "                   # variable marks which would not be accessible outside function\n",
    "    marks = 75\n",
    "# Check if global 'marks' is modified really and not the local one\n",
    "update_marks()\n",
    "print(marks)      # As 'marks' is accessible outside function, its global 'marks'"
   ]
  },
  {
   "cell_type": "markdown",
   "id": "95cc3e38",
   "metadata": {},
   "source": [
    "# 10. What is the data type of None?"
   ]
  },
  {
   "cell_type": "code",
   "execution_count": 5,
   "id": "3d58632e",
   "metadata": {
    "ExecuteTime": {
     "end_time": "2022-02-21T12:01:04.956426Z",
     "start_time": "2022-02-21T12:01:04.935426Z"
    }
   },
   "outputs": [
    {
     "data": {
      "text/plain": [
       "NoneType"
      ]
     },
     "execution_count": 5,
     "metadata": {},
     "output_type": "execute_result"
    }
   ],
   "source": [
    "# ANS 10:\n",
    "# data type of None is 'NoneType'\n",
    "type(None)"
   ]
  },
  {
   "cell_type": "markdown",
   "id": "ee1c1727",
   "metadata": {},
   "source": [
    "# 11. What does the sentence import areallyourpetsnamederic do?"
   ]
  },
  {
   "cell_type": "code",
   "execution_count": null,
   "id": "551f65a2",
   "metadata": {},
   "outputs": [],
   "source": [
    "# ANS 11: \n",
    "# It produces error: \"ModuleNotFoundError: No module named 'areallyourpetsnamederic\""
   ]
  },
  {
   "cell_type": "code",
   "execution_count": 7,
   "id": "f24656a7",
   "metadata": {
    "ExecuteTime": {
     "end_time": "2022-02-21T12:08:37.705311Z",
     "start_time": "2022-02-21T12:08:37.685310Z"
    }
   },
   "outputs": [
    {
     "ename": "ModuleNotFoundError",
     "evalue": "No module named 'areallyourpetsnamederic'",
     "output_type": "error",
     "traceback": [
      "\u001b[1;31m---------------------------------------------------------------------------\u001b[0m",
      "\u001b[1;31mModuleNotFoundError\u001b[0m                       Traceback (most recent call last)",
      "\u001b[1;32m~\\AppData\\Local\\Temp/ipykernel_12084/51184242.py\u001b[0m in \u001b[0;36m<module>\u001b[1;34m\u001b[0m\n\u001b[1;32m----> 1\u001b[1;33m \u001b[1;32mimport\u001b[0m \u001b[0mareallyourpetsnamederic\u001b[0m\u001b[1;33m\u001b[0m\u001b[1;33m\u001b[0m\u001b[0m\n\u001b[0m",
      "\u001b[1;31mModuleNotFoundError\u001b[0m: No module named 'areallyourpetsnamederic'"
     ]
    }
   ],
   "source": [
    "import areallyourpetsnamederic"
   ]
  },
  {
   "cell_type": "markdown",
   "id": "d2ea150e",
   "metadata": {},
   "source": [
    "# 12. If you had a bacon() feature in a spam module, what would you call it after importing spam?"
   ]
  },
  {
   "cell_type": "code",
   "execution_count": null,
   "id": "991e0eac",
   "metadata": {},
   "outputs": [],
   "source": [
    "# ANS 12:\n",
    "# spam.bacon()"
   ]
  },
  {
   "cell_type": "markdown",
   "id": "8345cde1",
   "metadata": {},
   "source": [
    "# 13. What can you do to save a programme from crashing if it encounters an error?"
   ]
  },
  {
   "cell_type": "code",
   "execution_count": null,
   "id": "da6f6c62",
   "metadata": {},
   "outputs": [],
   "source": [
    "# ANS 13:\n",
    "# We can use the \"try, except, else, finally\" construct:\n",
    "\n",
    "# The try block lets us test a block of code for errors.\n",
    "# The except block lets us handle the error.\n",
    "# The else block lets us execute code when there is no error.\n",
    "# The finally block lets us execute code, regardless of the result of the try- and except blocks."
   ]
  },
  {
   "cell_type": "markdown",
   "id": "5dbcb6c2",
   "metadata": {},
   "source": [
    "# 14. What is the purpose of the try clause? What is the purpose of the except clause?"
   ]
  },
  {
   "cell_type": "code",
   "execution_count": null,
   "id": "f998078b",
   "metadata": {},
   "outputs": [],
   "source": [
    "# ANS 14:\n",
    "# The try block lets us test a block of code for errors.\n",
    "# The except block lets us handle the error."
   ]
  }
 ],
 "metadata": {
  "kernelspec": {
   "display_name": "Python 3 (ipykernel)",
   "language": "python",
   "name": "python3"
  },
  "language_info": {
   "codemirror_mode": {
    "name": "ipython",
    "version": 3
   },
   "file_extension": ".py",
   "mimetype": "text/x-python",
   "name": "python",
   "nbconvert_exporter": "python",
   "pygments_lexer": "ipython3",
   "version": "3.9.7"
  },
  "nbTranslate": {
   "displayLangs": [
    "*"
   ],
   "hotkey": "alt-t",
   "langInMainMenu": true,
   "sourceLang": "en",
   "targetLang": "fr",
   "useGoogleTranslate": true
  },
  "toc": {
   "base_numbering": 1,
   "nav_menu": {},
   "number_sections": true,
   "sideBar": true,
   "skip_h1_title": false,
   "title_cell": "Table of Contents",
   "title_sidebar": "Contents",
   "toc_cell": false,
   "toc_position": {},
   "toc_section_display": true,
   "toc_window_display": false
  }
 },
 "nbformat": 4,
 "nbformat_minor": 5
}
