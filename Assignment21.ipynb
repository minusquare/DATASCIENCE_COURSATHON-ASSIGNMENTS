{
 "cells": [
  {
   "cell_type": "code",
   "execution_count": null,
   "id": "adebcead",
   "metadata": {},
   "outputs": [],
   "source": [
    "# 1. Add the current date to the text file today.txt as a string."
   ]
  },
  {
   "cell_type": "code",
   "execution_count": 7,
   "id": "08b2e475",
   "metadata": {
    "ExecuteTime": {
     "end_time": "2022-03-01T12:04:23.467337Z",
     "start_time": "2022-03-01T12:04:23.436112Z"
    }
   },
   "outputs": [],
   "source": [
    "import datetime\n",
    "with open(\"today.txt\",\"w\") as f:\n",
    "    today_date = str(datetime.date.today())\n",
    "    f.write(today_date)"
   ]
  },
  {
   "cell_type": "code",
   "execution_count": null,
   "id": "8686b0e2",
   "metadata": {},
   "outputs": [],
   "source": [
    "# 2. Read the text file today.txt into the string today_string"
   ]
  },
  {
   "cell_type": "code",
   "execution_count": 8,
   "id": "dfc4cfaa",
   "metadata": {
    "ExecuteTime": {
     "end_time": "2022-03-01T12:06:22.759382Z",
     "start_time": "2022-03-01T12:06:22.712296Z"
    }
   },
   "outputs": [
    {
     "name": "stdout",
     "output_type": "stream",
     "text": [
      "2022-03-01\n"
     ]
    }
   ],
   "source": [
    "with open(\"today.txt\",\"r\") as f:\n",
    "    today_string = f.read()\n",
    "print(today_string)"
   ]
  },
  {
   "cell_type": "code",
   "execution_count": null,
   "id": "989d86bd",
   "metadata": {},
   "outputs": [],
   "source": [
    "# 3. Parse the date from today_string."
   ]
  },
  {
   "cell_type": "code",
   "execution_count": 16,
   "id": "9074ea7e",
   "metadata": {
    "ExecuteTime": {
     "end_time": "2022-03-01T12:21:04.282589Z",
     "start_time": "2022-03-01T12:21:04.235779Z"
    }
   },
   "outputs": [
    {
     "ename": "TypeError",
     "evalue": "date.today() takes no arguments (2 given)",
     "output_type": "error",
     "traceback": [
      "\u001b[1;31m---------------------------------------------------------------------------\u001b[0m",
      "\u001b[1;31mTypeError\u001b[0m                                 Traceback (most recent call last)",
      "\u001b[1;32m~\\AppData\\Local\\Temp/ipykernel_856/610968197.py\u001b[0m in \u001b[0;36m<module>\u001b[1;34m\u001b[0m\n\u001b[0;32m      1\u001b[0m \u001b[0mtype\u001b[0m\u001b[1;33m(\u001b[0m\u001b[0mtoday_string\u001b[0m\u001b[1;33m)\u001b[0m\u001b[1;33m\u001b[0m\u001b[1;33m\u001b[0m\u001b[0m\n\u001b[1;32m----> 2\u001b[1;33m \u001b[0mdate_time_obj\u001b[0m \u001b[1;33m=\u001b[0m \u001b[0mdatetime\u001b[0m\u001b[1;33m.\u001b[0m\u001b[0mdate\u001b[0m\u001b[1;33m.\u001b[0m\u001b[0mtoday\u001b[0m\u001b[1;33m(\u001b[0m\u001b[0mtoday_string\u001b[0m\u001b[1;33m,\u001b[0m \u001b[1;34m'%Y-%m-%d'\u001b[0m\u001b[1;33m)\u001b[0m\u001b[1;33m\u001b[0m\u001b[1;33m\u001b[0m\u001b[0m\n\u001b[0m\u001b[0;32m      3\u001b[0m \u001b[1;31m#\u001b[0m\u001b[1;33m\u001b[0m\u001b[1;33m\u001b[0m\u001b[0m\n\u001b[0;32m      4\u001b[0m \u001b[0mprint\u001b[0m\u001b[1;33m(\u001b[0m\u001b[1;34m'Date:'\u001b[0m\u001b[1;33m,\u001b[0m \u001b[0mdate_time_obj\u001b[0m\u001b[1;33m.\u001b[0m\u001b[0mdate\u001b[0m\u001b[1;33m(\u001b[0m\u001b[1;33m)\u001b[0m\u001b[1;33m)\u001b[0m\u001b[1;33m\u001b[0m\u001b[1;33m\u001b[0m\u001b[0m\n\u001b[0;32m      5\u001b[0m \u001b[0mtype\u001b[0m\u001b[1;33m(\u001b[0m\u001b[0mdate_time_obj\u001b[0m\u001b[1;33m)\u001b[0m\u001b[1;33m\u001b[0m\u001b[1;33m\u001b[0m\u001b[0m\n",
      "\u001b[1;31mTypeError\u001b[0m: date.today() takes no arguments (2 given)"
     ]
    }
   ],
   "source": [
    "type(today_string)\n",
    "date_time_obj = datetime.date.today(today_string, '%Y-%m-%d')\n",
    "#\n",
    "print('Date:', date_time_obj.date())\n",
    "type(date_time_obj)\n",
    "# So the string is parsed back as a datetime object using \n",
    "#"
   ]
  },
  {
   "cell_type": "code",
   "execution_count": null,
   "id": "2698bd52",
   "metadata": {},
   "outputs": [],
   "source": [
    "# 4. List the files in your current directory"
   ]
  },
  {
   "cell_type": "code",
   "execution_count": 17,
   "id": "0e2c45c7",
   "metadata": {
    "ExecuteTime": {
     "end_time": "2022-03-01T13:10:55.511391Z",
     "start_time": "2022-03-01T13:10:55.411132Z"
    }
   },
   "outputs": [
    {
     "name": "stdout",
     "output_type": "stream",
     "text": [
      " Volume in drive C has no label.\n",
      " Volume Serial Number is 665F-CDD0\n",
      "\n",
      " Directory of C:\\Users\\tejuh\\Data_Science_Coursathon\\ANSWERS\n",
      "\n",
      "01-03-2022  17:51    <DIR>          .\n",
      "01-03-2022  17:51    <DIR>          ..\n",
      "27-02-2022  18:56    <DIR>          .ipynb_checkpoints\n",
      "28-02-2022  15:49    <DIR>          __pycache__\n",
      "21-02-2022  14:57             5,360 Assignment01.ipynb\n",
      "21-02-2022  14:58             8,981 Assignment02.ipynb\n",
      "22-02-2022  08:37            12,370 Assignment03.ipynb\n",
      "22-02-2022  14:22           861,442 Assignment04.ipynb\n",
      "22-02-2022  16:51            12,438 Assignment05.ipynb\n",
      "23-02-2022  14:12            13,249 Assignment06.ipynb\n",
      "22-02-2022  19:22            16,932 Assignment06_DONOT_SUBMIT.ipynb\n",
      "23-02-2022  22:56            31,495 Assignment07.ipynb\n",
      "24-02-2022  18:52            14,571 Assignment08.ipynb\n",
      "24-02-2022  19:23             9,258 Assignment09.ipynb\n",
      "24-02-2022  22:21            46,285 Assignment10.ipynb\n",
      "25-02-2022  14:40            12,699 Assignment11.ipynb\n",
      "27-02-2022  11:39            28,585 Assignment12.ipynb\n",
      "27-02-2022  11:38           164,039 Assignment13.ipynb\n",
      "27-02-2022  20:09           146,619 Assignment14.ipynb\n",
      "28-02-2022  10:24             7,004 Assignment15.ipynb\n",
      "28-02-2022  11:48            13,680 Assignment16.ipynb\n",
      "28-02-2022  15:41            10,837 Assignment17.ipynb\n",
      "28-02-2022  19:10             6,742 Assignment18.ipynb\n",
      "28-02-2022  21:27            17,312 Assignment19.ipynb\n",
      "01-03-2022  16:32            11,402 Assignment20.ipynb\n",
      "01-03-2022  17:51             6,922 Assignment21.ipynb\n",
      "21-02-2022  10:34                72 Assignment22.ipynb\n",
      "21-02-2022  10:34                72 Assignment23.ipynb\n",
      "21-02-2022  10:34                72 Assignment24.ipynb\n",
      "21-02-2022  10:35                72 Assignment25.ipynb\n",
      "01-03-2022  14:39               207 books.csv\n",
      "01-03-2022  14:44             8,192 books.db\n",
      "01-03-2022  13:28            27,178 books.jpg\n",
      "26-02-2022  18:06            35,167 box_tuple.jpg\n",
      "27-02-2022  19:51             6,275 circle.jpg\n",
      "27-02-2022  18:42         1,412,294 cropped.png\n",
      "27-02-2022  19:36             5,416 Cropped_Image.png\n",
      "25-02-2022  16:21            42,624 demo.docx\n",
      "25-02-2022  17:05            32,890 demo2.docx\n",
      "24-02-2022  22:20    <DIR>          destination_folder\n",
      "25-02-2022  16:42             5,140 example_para.jpg\n",
      "26-02-2022  09:14                43 fruits.csv\n",
      "27-02-2022  19:33             6,668 hundred_hundred.png\n",
      "01-03-2022  16:25    <DIR>          memuraideveloper.2.0.5\n",
      "25-02-2022  16:58             4,692 modified_para.jpg\n",
      "24-02-2022  21:45            11,394 my_dir_tree.jpg\n",
      "19-10-2021  11:11            42,898 my_image.jpg\n",
      "26-02-2022  09:39               106 output.json\n",
      "26-02-2022  09:59                78 output.tsv\n",
      "26-02-2022  11:57             9,430 pandas_demo.xlsx\n",
      "25-02-2022  16:01             4,499 paragraph_and_run.jpg\n",
      "27-02-2022  20:08            12,499 pillow_imagedraw.jpg\n",
      "27-02-2022  20:07            10,514 pillow_imagedraw2.jpg\n",
      "21-02-2022  10:36                72 ProgrammingAssignment01.ipynb\n",
      "21-02-2022  10:36                72 ProgrammingAssignment02.ipynb\n",
      "21-02-2022  10:40                72 ProgrammingAssignment03.ipynb\n",
      "21-02-2022  10:40                72 ProgrammingAssignment04.ipynb\n",
      "21-02-2022  10:37                72 ProgrammingAssignment05.ipynb\n",
      "21-02-2022  10:37                72 ProgrammingAssignment06.ipynb\n",
      "21-02-2022  10:38                72 ProgrammingAssignment07.ipynb\n",
      "21-02-2022  10:38                72 ProgrammingAssignment08.ipynb\n",
      "21-02-2022  10:38                72 ProgrammingAssignment09.ipynb\n",
      "21-02-2022  10:39                72 ProgrammingAssignment10.ipynb\n",
      "21-02-2022  10:39                72 ProgrammingAssignment11.ipynb\n",
      "21-02-2022  10:39                72 ProgrammingAssignment12.ipynb\n",
      "21-02-2022  10:44                72 ProgrammingAssignment13.ipynb\n",
      "21-02-2022  10:45                72 ProgrammingAssignment14.ipynb\n",
      "21-02-2022  10:48                72 ProgrammingAssignment15.ipynb\n",
      "21-02-2022  10:49                72 ProgrammingAssignment16.ipynb\n",
      "21-02-2022  10:50                72 ProgrammingAssignment17.ipynb\n",
      "21-02-2022  10:45                72 ProgrammingAssignment18.ipynb\n",
      "21-02-2022  10:45                72 ProgrammingAssignment19.ipynb\n",
      "21-02-2022  10:46                72 ProgrammingAssignment20.ipynb\n",
      "21-02-2022  10:47                72 ProgrammingAssignment21.ipynb\n",
      "21-02-2022  10:47                72 ProgrammingAssignment22.ipynb\n",
      "21-02-2022  10:47                72 ProgrammingAssignment23.ipynb\n",
      "21-02-2022  10:48                72 ProgrammingAssignment24.ipynb\n",
      "21-02-2022  10:48                72 ProgrammingAssignment25.ipynb\n",
      "21-02-2022  10:54                72 PROJECT1.ipynb\n",
      "21-02-2022  10:55             1,084 PROJECT2.ipynb\n",
      "21-02-2022  10:56             1,084 PrOJECT3.ipynb\n",
      "21-02-2022  10:56                72 PROJECT4.ipynb\n",
      "24-02-2022  21:35    <DIR>          source_folder\n",
      "01-03-2022  12:52                44 test.txt\n",
      "01-03-2022  12:54             8,973 test1.jpg\n",
      "01-03-2022  17:34                10 today.txt\n",
      "10-09-2021  18:36        10,006,638 xyz.pdf\n",
      "28-02-2022  15:49                41 zoo.py\n",
      "              81 File(s)     13,156,532 bytes\n",
      "               7 Dir(s)  19,120,431,104 bytes free\n"
     ]
    }
   ],
   "source": [
    "%ls"
   ]
  },
  {
   "cell_type": "code",
   "execution_count": 36,
   "id": "a920509e",
   "metadata": {
    "ExecuteTime": {
     "end_time": "2022-03-01T13:28:42.589088Z",
     "start_time": "2022-03-01T13:28:42.504536Z"
    }
   },
   "outputs": [
    {
     "name": "stdout",
     "output_type": "stream",
     "text": [
      "C:\\Users\\tejuh\\Data_Science_Coursathon\\ANSWERS\n",
      "C:\\Users\\tejuh\\Data_Science_Coursathon\n",
      " Volume in drive C has no label.\n",
      " Volume Serial Number is 665F-CDD0\n",
      "\n",
      " Directory of C:\\Users\\tejuh\\Data_Science_Coursathon\n",
      "\n",
      "01-03-2022  18:58    <DIR>          .\n",
      "01-03-2022  18:58    <DIR>          ..\n",
      "01-03-2022  18:57    <DIR>          ANSWERS\n",
      "01-03-2022  18:56                 0 dummyfile1.txt\n",
      "01-03-2022  18:56                 0 dummyfile2.txt\n",
      "01-03-2022  18:56                 0 dummyfile3.txt\n",
      "01-03-2022  18:56                 0 dummyfile4.txt\n",
      "01-03-2022  18:56                 0 dummyfile5.txt\n",
      "01-03-2022  18:49    <DIR>          QUESTIONS\n",
      "               5 File(s)              0 bytes\n",
      "               4 Dir(s)  19,117,441,024 bytes free\n"
     ]
    }
   ],
   "source": [
    "# 5. Create a list of all of the files in your parent directory (minimum five\n",
    "# files should be available).\n",
    "import os\n",
    "os.chdir(\"C:\\\\Users\\\\tejuh\\\\Data_Science_Coursathon\\\\ANSWERS\")\n",
    "print(os.getcwd())\n",
    "os.chdir('..')\n",
    "print(os.getcwd())\n",
    "%ls"
   ]
  },
  {
   "cell_type": "code",
   "execution_count": null,
   "id": "ea36eb6c",
   "metadata": {},
   "outputs": [],
   "source": [
    "# 6. Use multiprocessing to create three separate processes. Make each one\n",
    "# wait a random number of seconds between one and five, print the current time,\n",
    "# and then exit."
   ]
  },
  {
   "cell_type": "code",
   "execution_count": 50,
   "id": "317f83f9",
   "metadata": {
    "ExecuteTime": {
     "end_time": "2022-03-01T14:09:44.876394Z",
     "start_time": "2022-03-01T14:09:44.475275Z"
    }
   },
   "outputs": [],
   "source": [
    "# import the multiprocessing,random and time modules\n",
    "import multiprocessing\n",
    "import random\n",
    "import time\n",
    "# create a worker function which takes a name as argument and prints hello name\n",
    "# It returns nothing. Inside, it prints out the name of the worker, then use \n",
    "# time.sleep() to simulate doing some long-running process. Finally, it will\n",
    "# print out that it has finished.\n",
    "def worker(name):\n",
    "    print(f'Hello {name}')\n",
    "    worker_time = random.choice(range(1, 5))\n",
    "    time.sleep(worker_time)\n",
    "    print(f'{name} worker finished in {worker_time} seconds')\n",
    "if __name__ == '__main__':\n",
    "    # creating an empty list to hold processes\n",
    "    processes = []\n",
    "    # create 3 worker processes by using multiprocessing.Process()\n",
    "    for i in range(3):\n",
    "        # Tell Process the target function to use and the arguments to pass\n",
    "        process = multiprocessing.Process(target=worker, args=(f'computer_{i}',))\n",
    "        processes.append(process)\n",
    "        #For each process, you call its start() method to start the process.\n",
    "        process.start()\n",
    "    # Finally, loop over list of processes and call its join() method, \n",
    "    # which tells Python to wait for the process to terminate.\n",
    "    for proc in processes:\n",
    "        proc.join()\n",
    "# This script can not run in jupyter notebook so it was run in pycharm \n",
    "# and output is shown below\n",
    "# the order in which processes execute will change each time we run program\n",
    "# due to random module"
   ]
  },
  {
   "attachments": {
    "multi_processing.jpg": {
     "image/jpeg": "[encoded data removed]"
    }
   },
   "cell_type": "markdown",
   "id": "8c217b40",
   "metadata": {},
   "source": [
    "![multi_processing.jpg](attachment:multi_processing.jpg)"
   ]
  },
  {
   "cell_type": "code",
   "execution_count": null,
   "id": "d93b1a4b",
   "metadata": {},
   "outputs": [],
   "source": [
    "# 7. Create a date object of your day of birth."
   ]
  },
  {
   "cell_type": "code",
   "execution_count": 5,
   "id": "0bb633ab",
   "metadata": {
    "ExecuteTime": {
     "end_time": "2022-03-01T14:46:18.043437Z",
     "start_time": "2022-03-01T14:46:18.005651Z"
    }
   },
   "outputs": [
    {
     "name": "stdout",
     "output_type": "stream",
     "text": [
      "1971-10-28 00:00:00\n",
      "<class 'datetime.datetime'>\n"
     ]
    }
   ],
   "source": [
    "import datetime\n",
    "def get_DOB(year,month,day):\n",
    "    date_object = datetime.datetime(year, month, day)\n",
    "    print(date_object)\n",
    "    print(type(date_object))\n",
    "get_DOB(1971,10,28)"
   ]
  },
  {
   "cell_type": "code",
   "execution_count": null,
   "id": "f3a1f2ac",
   "metadata": {},
   "outputs": [],
   "source": [
    "# 8. What day of the week was your day of birth?"
   ]
  },
  {
   "cell_type": "code",
   "execution_count": 6,
   "id": "9c88b5ec",
   "metadata": {
    "ExecuteTime": {
     "end_time": "2022-03-01T14:51:41.297127Z",
     "start_time": "2022-03-01T14:51:41.265871Z"
    }
   },
   "outputs": [
    {
     "name": "stdout",
     "output_type": "stream",
     "text": [
      "Thursday\n"
     ]
    }
   ],
   "source": [
    "import datetime\n",
    "import calendar\n",
    "#\n",
    "def day_on_bdate(date):\n",
    "    bdate_day = datetime.datetime.strptime(date, '%d %m %Y').weekday()\n",
    "    return (calendar.day_name[bdate_day])\n",
    "#\n",
    "# call function above\n",
    "date = '28 10 1971'\n",
    "print(day_on_bdate(date))"
   ]
  },
  {
   "cell_type": "code",
   "execution_count": null,
   "id": "ab40104f",
   "metadata": {},
   "outputs": [],
   "source": [
    "# 9. When will you be (or when were you) 10,000 days old?\n",
    "# 1999/03/15"
   ]
  },
  {
   "cell_type": "code",
   "execution_count": 12,
   "id": "552e983c",
   "metadata": {
    "ExecuteTime": {
     "end_time": "2022-03-01T15:14:55.981995Z",
     "start_time": "2022-03-01T15:14:55.950740Z"
    }
   },
   "outputs": [
    {
     "data": {
      "text/plain": [
       "datetime.datetime(1999, 3, 15, 0, 0)"
      ]
     },
     "execution_count": 12,
     "metadata": {},
     "output_type": "execute_result"
    }
   ],
   "source": [
    "from datetime import datetime, timedelta\n",
    "bdate = datetime(1971,10,28)\n",
    "new_date = bdate + timedelta(days=10000)\n",
    "new_date"
   ]
  }
 ],
 "metadata": {
  "kernelspec": {
   "display_name": "Python 3 (ipykernel)",
   "language": "python",
   "name": "python3"
  },
  "language_info": {
   "codemirror_mode": {
    "name": "ipython",
    "version": 3
   },
   "file_extension": ".py",
   "mimetype": "text/x-python",
   "name": "python",
   "nbconvert_exporter": "python",
   "pygments_lexer": "ipython3",
   "version": "3.9.7"
  },
  "nbTranslate": {
   "displayLangs": [
    "*"
   ],
   "hotkey": "alt-t",
   "langInMainMenu": true,
   "sourceLang": "en",
   "targetLang": "fr",
   "useGoogleTranslate": true
  },
  "toc": {
   "base_numbering": 1,
   "nav_menu": {},
   "number_sections": true,
   "sideBar": true,
   "skip_h1_title": false,
   "title_cell": "Table of Contents",
   "title_sidebar": "Contents",
   "toc_cell": false,
   "toc_position": {},
   "toc_section_display": true,
   "toc_window_display": false
  }
 },
 "nbformat": 4,
 "nbformat_minor": 5
}
