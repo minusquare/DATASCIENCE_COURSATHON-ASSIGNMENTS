{
 "cells": [
  {
   "cell_type": "markdown",
   "id": "a0cec72c",
   "metadata": {},
   "source": [
    "# 1. To what does a relative path refer?"
   ]
  },
  {
   "cell_type": "code",
   "execution_count": null,
   "id": "e4794b99",
   "metadata": {},
   "outputs": [],
   "source": [
    "# ANS 1:\n",
    "# The relative path refers to location of a file/folder with respect to \n",
    "# current working directory"
   ]
  },
  {
   "cell_type": "markdown",
   "id": "3aa54b22",
   "metadata": {},
   "source": [
    "# 2. What does an absolute path start with your operating system?"
   ]
  },
  {
   "cell_type": "code",
   "execution_count": null,
   "id": "3ff1108e",
   "metadata": {},
   "outputs": [],
   "source": [
    "# ANS 2:\n",
    "# In my operating system (Windows) absolute path starts with C:\\\\ i.e C Drive\n",
    "# In Unix type systems (Linux or Mac) it starts with /"
   ]
  },
  {
   "cell_type": "markdown",
   "id": "07528fc5",
   "metadata": {},
   "source": [
    "# 3. What do the functions os.getcwd() and os.chdir() do?"
   ]
  },
  {
   "cell_type": "code",
   "execution_count": null,
   "id": "d5ee434a",
   "metadata": {},
   "outputs": [],
   "source": [
    "# ANS 3:\n",
    "# (A)os.getcwd() outputs absolute or fully qualified loction of current working \n",
    "# directory as a string\n",
    "# (b)os.chdir(path=\"<specified path>\") will make directory specified in path as\n",
    "# current working directory"
   ]
  },
  {
   "cell_type": "code",
   "execution_count": 1,
   "id": "b8a3deeb",
   "metadata": {
    "ExecuteTime": {
     "end_time": "2022-02-24T10:56:30.399469Z",
     "start_time": "2022-02-24T10:56:30.388470Z"
    }
   },
   "outputs": [
    {
     "data": {
      "text/plain": [
       "'C:\\\\Users\\\\tejuh\\\\Data_Science_Coursathon\\\\ANSWERS'"
      ]
     },
     "execution_count": 1,
     "metadata": {},
     "output_type": "execute_result"
    }
   ],
   "source": [
    "import os\n",
    "os.getcwd()   # Outputs 'C:\\\\Users\\\\tejuh\\\\Data_Science_Coursathon\\\\ANSWERS'"
   ]
  },
  {
   "cell_type": "code",
   "execution_count": 3,
   "id": "42b772ad",
   "metadata": {
    "ExecuteTime": {
     "end_time": "2022-02-24T11:03:34.166517Z",
     "start_time": "2022-02-24T11:03:34.133520Z"
    }
   },
   "outputs": [
    {
     "data": {
      "text/plain": [
       "'C:\\\\Users\\\\tejuh\\\\Data_Science_Coursathon\\\\QUESTIONS'"
      ]
     },
     "execution_count": 3,
     "metadata": {},
     "output_type": "execute_result"
    }
   ],
   "source": [
    "import os\n",
    "os.chdir(path=\"C:\\\\Users\\\\tejuh\\\\Data_Science_Coursathon\\\\QUESTIONS\")\n",
    "os.getcwd() "
   ]
  },
  {
   "cell_type": "code",
   "execution_count": 24,
   "id": "68396f3f",
   "metadata": {
    "ExecuteTime": {
     "end_time": "2022-02-24T11:48:37.696549Z",
     "start_time": "2022-02-24T11:48:37.678561Z"
    }
   },
   "outputs": [
    {
     "data": {
      "text/plain": [
       "'C:\\\\Users\\\\tejuh\\\\Data_Science_Coursathon\\\\ANSWERS'"
      ]
     },
     "execution_count": 24,
     "metadata": {},
     "output_type": "execute_result"
    }
   ],
   "source": [
    "# Making back ANSWERS  current working directory\n",
    "import os\n",
    "os.chdir(path=\"C:\\\\Users\\\\tejuh\\\\Data_Science_Coursathon\\\\ANSWERS\")\n",
    "os.getcwd() "
   ]
  },
  {
   "cell_type": "markdown",
   "id": "3848bcf9",
   "metadata": {},
   "source": [
    "# 4. What are the . and .. folders?"
   ]
  },
  {
   "cell_type": "code",
   "execution_count": null,
   "id": "a5880e28",
   "metadata": {},
   "outputs": [],
   "source": [
    "# ANS 4:\n",
    "# (A) . stands for the current working directory\n",
    "# (B) .. stands for one directory up from current working directory(parent directory)"
   ]
  },
  {
   "cell_type": "code",
   "execution_count": 25,
   "id": "aa2a79ff",
   "metadata": {
    "ExecuteTime": {
     "end_time": "2022-02-24T11:48:44.541590Z",
     "start_time": "2022-02-24T11:48:44.505614Z"
    }
   },
   "outputs": [
    {
     "data": {
      "text/plain": [
       "'C:\\\\Users\\\\tejuh\\\\Data_Science_Coursathon\\\\ANSWERS'"
      ]
     },
     "execution_count": 25,
     "metadata": {},
     "output_type": "execute_result"
    }
   ],
   "source": [
    "# Snippet for ANS 4 A\n",
    "import os\n",
    "os.chdir(path='.')\n",
    "shutil.copy(os.getcwd(),'C:\\\\Users\\\\tejuh\\\\Data_Science_Coursathon')\n",
    "# move one dir\n"
   ]
  },
  {
   "cell_type": "code",
   "execution_count": 26,
   "id": "fe735475",
   "metadata": {
    "ExecuteTime": {
     "end_time": "2022-02-24T11:50:34.508106Z",
     "start_time": "2022-02-24T11:50:34.500110Z"
    }
   },
   "outputs": [
    {
     "data": {
      "text/plain": [
       "'C:\\\\Users\\\\tejuh\\\\Data_Science_Coursathon'"
      ]
     },
     "execution_count": 26,
     "metadata": {},
     "output_type": "execute_result"
    }
   ],
   "source": [
    "# Snippet for ANS 4 B\n",
    "import os\n",
    "os.chdir('..')\n",
    "os.getcwd()"
   ]
  },
  {
   "cell_type": "code",
   "execution_count": 28,
   "id": "6b9c5da8",
   "metadata": {
    "ExecuteTime": {
     "end_time": "2022-02-24T12:10:14.501891Z",
     "start_time": "2022-02-24T12:10:14.482898Z"
    }
   },
   "outputs": [
    {
     "data": {
      "text/plain": [
       "'C:\\\\Users\\\\tejuh\\\\Data_Science_Coursathon\\\\ANSWERS'"
      ]
     },
     "execution_count": 28,
     "metadata": {},
     "output_type": "execute_result"
    }
   ],
   "source": [
    "# Making  back ANSWERS  current working directory\n",
    "import os\n",
    "os.chdir(path=\".\")\n",
    "os.getcwd() "
   ]
  },
  {
   "cell_type": "markdown",
   "id": "d03258bb",
   "metadata": {},
   "source": [
    "# 5. In C:\\bacon\\eggs\\spam.txt, which part is the dir name, and which part is the base name?"
   ]
  },
  {
   "cell_type": "code",
   "execution_count": null,
   "id": "28eb7dd5",
   "metadata": {},
   "outputs": [],
   "source": [
    "# ANS 5:\n",
    "# C:\\bacon\\eggs is the directory name while spam.txt is the file name/basename"
   ]
  },
  {
   "cell_type": "markdown",
   "id": "acbb6820",
   "metadata": {},
   "source": [
    "# 6. What are the three “mode” arguments that can be passed to the open() function?"
   ]
  },
  {
   "cell_type": "code",
   "execution_count": null,
   "id": "1f280e0e",
   "metadata": {},
   "outputs": [],
   "source": [
    "# ANS 6:\n",
    "# The open() function opens a file. We can specify mode='r' for read-only mode\n",
    "# , mode = 'w' for write mode where orifginal content is deleted if file already\n",
    "# exists or file will be created if does not exist and 'a' for append mode where\n",
    "# new content will be added at the end of original content"
   ]
  },
  {
   "cell_type": "markdown",
   "id": "58d2f23c",
   "metadata": {},
   "source": [
    "# 7. What happens if an existing file is opened in write mode?"
   ]
  },
  {
   "cell_type": "code",
   "execution_count": null,
   "id": "89aa9740",
   "metadata": {},
   "outputs": [],
   "source": [
    "# ANS 7:\n",
    "# The existing file, if opened in 'w' mode is totally overwritten and all \n",
    "# original content will be erased."
   ]
  },
  {
   "cell_type": "markdown",
   "id": "1ac6478c",
   "metadata": {},
   "source": [
    "# 8. How do you tell the difference between read() and readlines()?"
   ]
  },
  {
   "cell_type": "code",
   "execution_count": null,
   "id": "c42f2d9e",
   "metadata": {},
   "outputs": [],
   "source": [
    "# ANS 8:\n",
    "# read() method returns all the content of file as a single string\n",
    "# readlines() method returns a list of strings, each element of list representing\n",
    "# one line of file. So it reads the contents of the file line by line."
   ]
  },
  {
   "cell_type": "markdown",
   "id": "e3705070",
   "metadata": {},
   "source": [
    "# 9. What data structure does a shelf value resemble?"
   ]
  },
  {
   "cell_type": "code",
   "execution_count": null,
   "id": "402dd4d5",
   "metadata": {},
   "outputs": [],
   "source": [
    "# ANS 9:\n",
    "# A shelf value represents a dictionary value. shelf values has 'keys()' and\n",
    "# 'values()' methods which work just like 'keys()' and 'values()' methods of \n",
    "# a dictionary."
   ]
  }
 ],
 "metadata": {
  "kernelspec": {
   "display_name": "Python 3 (ipykernel)",
   "language": "python",
   "name": "python3"
  },
  "language_info": {
   "codemirror_mode": {
    "name": "ipython",
    "version": 3
   },
   "file_extension": ".py",
   "mimetype": "text/x-python",
   "name": "python",
   "nbconvert_exporter": "python",
   "pygments_lexer": "ipython3",
   "version": "3.9.7"
  },
  "nbTranslate": {
   "displayLangs": [
    "*"
   ],
   "hotkey": "alt-t",
   "langInMainMenu": true,
   "sourceLang": "en",
   "targetLang": "fr",
   "useGoogleTranslate": true
  },
  "toc": {
   "base_numbering": 1,
   "nav_menu": {},
   "number_sections": true,
   "sideBar": true,
   "skip_h1_title": false,
   "title_cell": "Table of Contents",
   "title_sidebar": "Contents",
   "toc_cell": false,
   "toc_position": {},
   "toc_section_display": true,
   "toc_window_display": false
  }
 },
 "nbformat": 4,
 "nbformat_minor": 5
}
