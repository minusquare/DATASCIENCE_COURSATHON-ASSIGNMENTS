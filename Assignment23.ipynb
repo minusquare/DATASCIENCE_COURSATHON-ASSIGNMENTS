{
 "cells": [
  {
   "cell_type": "markdown",
   "id": "9c74d215",
   "metadata": {},
   "source": [
    "# 1. What is the result of the code, and why?\n",
    "ANS 1: 1 2 8\n",
    "On call to func(), a is assigned 1, b is assigned 2 overriding \n",
    "its default value 6.  No argument is passed for c. So, c is assigned 8, the \n",
    "default value."
   ]
  },
  {
   "cell_type": "code",
   "execution_count": 1,
   "id": "58e176c1",
   "metadata": {
    "ExecuteTime": {
     "end_time": "2022-03-02T10:51:58.422685Z",
     "start_time": "2022-03-02T10:51:58.369237Z"
    }
   },
   "outputs": [
    {
     "name": "stdout",
     "output_type": "stream",
     "text": [
      "1 2 8\n"
     ]
    }
   ],
   "source": [
    "def func(a, b=6, c=8):\n",
    "    print(a, b, c)\n",
    "func(1, 2)"
   ]
  },
  {
   "cell_type": "markdown",
   "id": "2dcb290a",
   "metadata": {},
   "source": [
    "# 2. What is the result of this code, and why?\n",
    "ANS 2: 1 2 3\n",
    "On call to func() a is assigned 1 , c is assigned 3 overriding \n",
    "its default value and b is assigned 2. Order of b,c does not matter as they\n",
    "are passed as named arguments"
   ]
  },
  {
   "cell_type": "code",
   "execution_count": 2,
   "id": "c011f8cf",
   "metadata": {
    "ExecuteTime": {
     "end_time": "2022-03-02T10:52:16.062412Z",
     "start_time": "2022-03-02T10:52:16.031158Z"
    }
   },
   "outputs": [
    {
     "name": "stdout",
     "output_type": "stream",
     "text": [
      "1 2 3\n"
     ]
    }
   ],
   "source": [
    "def func(a, b, c=5):\n",
    "    print(a, b, c)\n",
    "func(1, c=3, b=2)"
   ]
  },
  {
   "cell_type": "markdown",
   "id": "63c34294",
   "metadata": {},
   "source": [
    "# 3. How about this code: what is its result, and why?\n",
    "ANS 3 : 1 (2, 3)\n",
    "On call to func() a is assigned 1 but then 2 and 3 are assigned as a tuple to\n",
    "parags due to *"
   ]
  },
  {
   "cell_type": "code",
   "execution_count": 3,
   "id": "9b3d993e",
   "metadata": {
    "ExecuteTime": {
     "end_time": "2022-03-02T10:52:20.825706Z",
     "start_time": "2022-03-02T10:52:20.810080Z"
    }
   },
   "outputs": [
    {
     "name": "stdout",
     "output_type": "stream",
     "text": [
      "1 (2, 3)\n"
     ]
    }
   ],
   "source": [
    "def func(a, *pargs):\n",
    "    print(a, pargs)\n",
    "func(1, 2, 3)"
   ]
  },
  {
   "cell_type": "markdown",
   "id": "eb2a847e",
   "metadata": {},
   "source": [
    "# 4. What does this code print, and why?\n",
    "ANS 4: 1 {'c': 3, 'b': 2}\n",
    "On call to func() a is assigned 1 but then 2 and 3 are passed as key value\n",
    "pairs unlike previous example. So, b is assigned 2 and c is assigned 3 and \n",
    "print() statement prints a as integer and b and c as a dictionary keys with\n",
    "values passed as dictionary values due to **kargs or keyword args"
   ]
  },
  {
   "cell_type": "code",
   "execution_count": 8,
   "id": "963842f1",
   "metadata": {
    "ExecuteTime": {
     "end_time": "2022-03-02T11:07:06.383716Z",
     "start_time": "2022-03-02T11:07:06.368158Z"
    }
   },
   "outputs": [
    {
     "name": "stdout",
     "output_type": "stream",
     "text": [
      "1 {'c': 3, 'b': 2}\n"
     ]
    }
   ],
   "source": [
    "def func(a, **kargs):\n",
    "    print(a, kargs)\n",
    "func(a=1, c=3, b=2)"
   ]
  },
  {
   "cell_type": "markdown",
   "id": "02df2b10",
   "metadata": {},
   "source": [
    "# 5. What gets printed by this, and explain?\n",
    "ANS 5: 1 5 6 5\n",
    "On call to func() a is assigned 1, b is assigned 5 and c is assigned 6,\n",
    "overriding its default value. We are not passing any value for d so it\n",
    "is assigned its default value 5 \n",
    "print() statement prints all a,b,c,d  as integers"
   ]
  },
  {
   "cell_type": "code",
   "execution_count": 9,
   "id": "4c5906b7",
   "metadata": {
    "ExecuteTime": {
     "end_time": "2022-03-02T11:13:11.688263Z",
     "start_time": "2022-03-02T11:13:11.656962Z"
    }
   },
   "outputs": [
    {
     "name": "stdout",
     "output_type": "stream",
     "text": [
      "1 5 6 5\n"
     ]
    }
   ],
   "source": [
    "def func(a, b, c=8, d=5):\n",
    "    print(a, b, c, d)\n",
    "func(1, *(5, 6))"
   ]
  },
  {
   "cell_type": "markdown",
   "id": "ad7ec164",
   "metadata": {},
   "source": [
    "# 6. what is the result of this, and explain?\n",
    "ANS 6: (1, ['x'], {'a': 'y'})\n",
    "#\n",
    "On call func(l,m,n) a is assigned value l i.e a=1  \n",
    "But inside func(), when value of a,is changed a is integer type(immutable) variable.\n",
    "So the change in value is effeective only within func().\n",
    "The 'a' within function is at different memory location that l outside function.\n",
    "So value of l does not change by changing value of a.\n",
    "#\n",
    "On the other hand, b is assigned list m. So b = m = [1] and c is assigned dictionary n. \n",
    "So, c ={'a':0). Inside function, b[0]='x' and c['a']='y', and b shares memory location \n",
    "with m and c shares memory location with n.  As list and dictionary are mutable datatypes\n",
    "the changes made to 'b' and 'c' inside function reflects in 'm' and 'n' outside \n",
    "function also."
   ]
  },
  {
   "cell_type": "code",
   "execution_count": 7,
   "id": "91930f3a",
   "metadata": {
    "ExecuteTime": {
     "end_time": "2022-03-02T10:52:49.388187Z",
     "start_time": "2022-03-02T10:52:49.334743Z"
    }
   },
   "outputs": [
    {
     "data": {
      "text/plain": [
       "(1, ['x'], {'a': 'y'})"
      ]
     },
     "execution_count": 7,
     "metadata": {},
     "output_type": "execute_result"
    }
   ],
   "source": [
    "def func(a, b, c): \n",
    "    a = 2; \n",
    "    b[0] = 'x'; \n",
    "    c['a'] = 'y'\n",
    "#\n",
    "l=1; \n",
    "m=[1]; \n",
    "n={'a':0}\n",
    "func(l, m, n)\n",
    "l, m, n"
   ]
  }
 ],
 "metadata": {
  "kernelspec": {
   "display_name": "Python 3 (ipykernel)",
   "language": "python",
   "name": "python3"
  },
  "language_info": {
   "codemirror_mode": {
    "name": "ipython",
    "version": 3
   },
   "file_extension": ".py",
   "mimetype": "text/x-python",
   "name": "python",
   "nbconvert_exporter": "python",
   "pygments_lexer": "ipython3",
   "version": "3.9.7"
  },
  "nbTranslate": {
   "displayLangs": [
    "*"
   ],
   "hotkey": "alt-t",
   "langInMainMenu": true,
   "sourceLang": "en",
   "targetLang": "fr",
   "useGoogleTranslate": true
  },
  "toc": {
   "base_numbering": 1,
   "nav_menu": {},
   "number_sections": true,
   "sideBar": true,
   "skip_h1_title": false,
   "title_cell": "Table of Contents",
   "title_sidebar": "Contents",
   "toc_cell": false,
   "toc_position": {},
   "toc_section_display": true,
   "toc_window_display": false
  }
 },
 "nbformat": 4,
 "nbformat_minor": 5
}
