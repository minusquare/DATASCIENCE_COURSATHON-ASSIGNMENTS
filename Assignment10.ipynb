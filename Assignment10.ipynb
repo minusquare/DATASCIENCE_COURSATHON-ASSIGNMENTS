{
 "cells": [
  {
   "cell_type": "markdown",
   "id": "25175c70",
   "metadata": {},
   "source": [
    "# 1. How do you distinguish between shutil.copy() and shutil.copytree()?"
   ]
  },
  {
   "cell_type": "code",
   "execution_count": null,
   "id": "cb50b20d",
   "metadata": {},
   "outputs": [],
   "source": [
    "# ANS1: \n",
    "# (A) shutil.copy(source, destination) will copy the file at the path source \n",
    "# to the folder at the path destination. 'source' and 'destination' must be \n",
    "# specified as strings. If If destination is a filename, it will be used as \n",
    "# the new name of the copied file. shutil.copy() returns a string of the path\n",
    "# of copied file.'source' and 'destination' are also strings\n",
    "#\n",
    "# (B) Calling shutil.copytree(source, destination) will copy the folder at \n",
    "# the path 'source', along with all of its files and subfolders, to the folder \n",
    "# at the path 'destination'. 'source' and 'destination' are strings and \n",
    "# function returns a string of the path of copied folder."
   ]
  },
  {
   "cell_type": "code",
   "execution_count": 10,
   "id": "e7e0bde3",
   "metadata": {
    "ExecuteTime": {
     "end_time": "2022-02-24T13:55:13.217299Z",
     "start_time": "2022-02-24T13:55:13.051349Z"
    }
   },
   "outputs": [
    {
     "name": "stdout",
     "output_type": "stream",
     "text": [
      " Volume in drive C has no label.\n",
      " Volume Serial Number is 665F-CDD0\n",
      "\n",
      " Directory of C:\\Users\\tejuh\\Data_Science_Coursathon\\ANSWERS\n",
      "\n",
      "24-02-2022  19:25    <DIR>          .\n",
      "24-02-2022  19:25    <DIR>          ..\n",
      "23-02-2022  14:13    <DIR>          .ipynb_checkpoints\n",
      "21-02-2022  14:57             5,360 Assignment01.ipynb\n",
      "21-02-2022  14:58             8,981 Assignment02.ipynb\n",
      "22-02-2022  08:37            12,370 Assignment03.ipynb\n",
      "22-02-2022  14:22           861,442 Assignment04.ipynb\n",
      "22-02-2022  16:51            12,438 Assignment05.ipynb\n",
      "23-02-2022  14:12            13,249 Assignment06.ipynb\n",
      "22-02-2022  19:22            16,932 Assignment06_DONOT_SUBMIT.ipynb\n",
      "23-02-2022  22:56            31,495 Assignment07.ipynb\n",
      "24-02-2022  18:52            14,571 Assignment08.ipynb\n",
      "24-02-2022  19:23             9,258 Assignment09.ipynb\n",
      "24-02-2022  19:24             5,237 Assignment10.ipynb\n",
      "21-02-2022  10:28                72 Assignment11.ipynb\n",
      "21-02-2022  10:28                72 Assignment12.ipynb\n",
      "21-02-2022  10:29                72 Assignment13.ipynb\n",
      "21-02-2022  10:29                72 Assignment14.ipynb\n",
      "21-02-2022  10:29                72 Assignment15.ipynb\n",
      "21-02-2022  10:30               817 Assignment16.ipynb\n",
      "21-02-2022  10:30                72 Assignment17.ipynb\n",
      "21-02-2022  10:30                72 Assignment18.ipynb\n",
      "21-02-2022  10:31                72 Assignment19.ipynb\n",
      "21-02-2022  10:31                72 Assignment20.ipynb\n",
      "21-02-2022  10:33                72 Assignment21.ipynb\n",
      "21-02-2022  10:34                72 Assignment22.ipynb\n",
      "21-02-2022  10:34                72 Assignment23.ipynb\n",
      "21-02-2022  10:34                72 Assignment24.ipynb\n",
      "21-02-2022  10:35                72 Assignment25.ipynb\n",
      "21-02-2022  10:36                72 ProgrammingAssignment01.ipynb\n",
      "21-02-2022  10:36                72 ProgrammingAssignment02.ipynb\n",
      "21-02-2022  10:40                72 ProgrammingAssignment03.ipynb\n",
      "21-02-2022  10:40                72 ProgrammingAssignment04.ipynb\n",
      "21-02-2022  10:37                72 ProgrammingAssignment05.ipynb\n",
      "21-02-2022  10:37                72 ProgrammingAssignment06.ipynb\n",
      "21-02-2022  10:38                72 ProgrammingAssignment07.ipynb\n",
      "21-02-2022  10:38                72 ProgrammingAssignment08.ipynb\n",
      "21-02-2022  10:38                72 ProgrammingAssignment09.ipynb\n",
      "21-02-2022  10:39                72 ProgrammingAssignment10.ipynb\n",
      "21-02-2022  10:39                72 ProgrammingAssignment11.ipynb\n",
      "21-02-2022  10:39                72 ProgrammingAssignment12.ipynb\n",
      "21-02-2022  10:44                72 ProgrammingAssignment13.ipynb\n",
      "21-02-2022  10:45                72 ProgrammingAssignment14.ipynb\n",
      "21-02-2022  10:48                72 ProgrammingAssignment15.ipynb\n",
      "21-02-2022  10:49                72 ProgrammingAssignment16.ipynb\n",
      "21-02-2022  10:50                72 ProgrammingAssignment17.ipynb\n",
      "21-02-2022  10:45                72 ProgrammingAssignment18.ipynb\n",
      "21-02-2022  10:45                72 ProgrammingAssignment19.ipynb\n",
      "21-02-2022  10:46                72 ProgrammingAssignment20.ipynb\n",
      "21-02-2022  10:47                72 ProgrammingAssignment21.ipynb\n",
      "21-02-2022  10:47                72 ProgrammingAssignment22.ipynb\n",
      "21-02-2022  10:47                72 ProgrammingAssignment23.ipynb\n",
      "21-02-2022  10:48                72 ProgrammingAssignment24.ipynb\n",
      "21-02-2022  10:48                72 ProgrammingAssignment25.ipynb\n",
      "21-02-2022  10:54                72 PROJECT1.ipynb\n",
      "21-02-2022  10:55             1,084 PROJECT2.ipynb\n",
      "21-02-2022  10:56             1,084 PrOJECT3.ipynb\n",
      "21-02-2022  10:56                72 PROJECT4.ipynb\n",
      "24-02-2022  19:25                16 testfile1.txt\n",
      "              56 File(s)        997,286 bytes\n",
      "               3 Dir(s)  21,691,449,344 bytes free\n",
      " Volume in drive C has no label.\n",
      " Volume Serial Number is 665F-CDD0\n",
      "\n",
      " Directory of C:\\Users\\tejuh\\Data_Science_Coursathon\n",
      "\n",
      "24-02-2022  19:25    <DIR>          .\n",
      "24-02-2022  19:25    <DIR>          ..\n",
      "24-02-2022  19:25    <DIR>          ANSWERS\n",
      "24-02-2022  17:41    <DIR>          QUESTIONS\n",
      "24-02-2022  19:25                16 testfile1.txt\n",
      "               1 File(s)             16 bytes\n",
      "               4 Dir(s)  21,691,449,344 bytes free\n"
     ]
    }
   ],
   "source": [
    "# Code snippets for ANS 1 (A)\n",
    "import shutil, os\n",
    "os.chdir(\"C:\\\\Users\\\\tejuh\\\\Data_Science_Coursathon\\\\ANSWERS\")\n",
    "with open ('testfile1.txt', 'w') as f:\n",
    "     f.write(\"Sample Test File\")\n",
    "# Check if file is created in cwd()\n",
    "%ls\n",
    "shutil.copy('C:\\\\Users\\\\tejuh\\\\Data_Science_Coursathon\\\\ANSWERS\\\\testfile1.txt','C:\\\\Users\\\\tejuh\\\\Data_Science_Coursathon')\n",
    "#move one level up\n",
    "os.chdir('..')\n",
    "#Check if file is copied to destination\n",
    "%ls"
   ]
  },
  {
   "cell_type": "code",
   "execution_count": 17,
   "id": "176c3942",
   "metadata": {
    "ExecuteTime": {
     "end_time": "2022-02-24T14:03:55.436622Z",
     "start_time": "2022-02-24T14:03:55.283633Z"
    }
   },
   "outputs": [
    {
     "name": "stdout",
     "output_type": "stream",
     "text": [
      " Volume in drive C has no label.\n",
      " Volume Serial Number is 665F-CDD0\n",
      "\n",
      " Directory of C:\\Users\\tejuh\\Data_Science_Coursathon\\ANSWERS\\test_folder\n",
      "\n",
      "24-02-2022  19:33    <DIR>          .\n",
      "24-02-2022  19:33    <DIR>          ..\n",
      "24-02-2022  19:33                17 testfile2.txt\n",
      "24-02-2022  19:33                17 testfile3.txt\n",
      "               2 File(s)             34 bytes\n",
      "               2 Dir(s)  21,689,221,120 bytes free\n"
     ]
    },
    {
     "data": {
      "text/plain": [
       "'C:\\\\Users\\\\tejuh\\\\Data_Science_Coursathon\\\\test_folder_backup'"
      ]
     },
     "execution_count": 17,
     "metadata": {},
     "output_type": "execute_result"
    }
   ],
   "source": [
    "# Code snippets for ANS 1 (B)\n",
    "import shutil, os\n",
    "os.chdir(\"C:\\\\Users\\\\tejuh\\\\Data_Science_Coursathon\\\\ANSWERS\")\n",
    "os.mkdir(\"test_folder\")\n",
    "os.chdir(\"C:\\\\Users\\\\tejuh\\\\Data_Science_Coursathon\\\\ANSWERS\\\\test_folder\")\n",
    "os.getcwd()\n",
    "with open ('testfile2.txt', 'w') as f:\n",
    "     f.write(\"Sample Test File2\")\n",
    "with open ('testfile3.txt', 'w') as f:\n",
    "     f.write(\"Sample Test File3\")\n",
    "%ls\n",
    "# Will show that 2 files created inside test_folder\n",
    "shutil.copytree(\"C:\\\\Users\\\\tejuh\\\\Data_Science_Coursathon\\\\ANSWERS\\\\test_folder\",\"C:\\\\Users\\\\tejuh\\\\Data_Science_Coursathon\\\\test_folder_backup\")"
   ]
  },
  {
   "cell_type": "markdown",
   "id": "1248ce20",
   "metadata": {},
   "source": [
    "# 2. What function is used to rename files?"
   ]
  },
  {
   "cell_type": "code",
   "execution_count": null,
   "id": "61b7dfe0",
   "metadata": {},
   "outputs": [],
   "source": [
    "# ANS2: \n",
    "# (1) First option is to use \n",
    "# import shutil\n",
    "# shutil.move('test1.txt', 'test2.pqr')\n",
    "# HOWEVER move() can often create in intended consequences. So safeer option\n",
    "# is \n",
    "# import os\n",
    "# os.rename('test1.txt', 'test2.pqr')"
   ]
  },
  {
   "cell_type": "code",
   "execution_count": 1,
   "id": "b4a7fc0b",
   "metadata": {
    "ExecuteTime": {
     "end_time": "2022-02-24T14:24:11.098356Z",
     "start_time": "2022-02-24T14:24:10.889377Z"
    }
   },
   "outputs": [
    {
     "name": "stdout",
     "output_type": "stream",
     "text": [
      " Volume in drive C has no label.\n",
      " Volume Serial Number is 665F-CDD0\n",
      "\n",
      " Directory of C:\\Users\\tejuh\\Data_Science_Coursathon\\ANSWERS\n",
      "\n",
      "24-02-2022  19:54    <DIR>          .\n",
      "24-02-2022  19:54    <DIR>          ..\n",
      "23-02-2022  14:13    <DIR>          .ipynb_checkpoints\n",
      "21-02-2022  14:57             5,360 Assignment01.ipynb\n",
      "21-02-2022  14:58             8,981 Assignment02.ipynb\n",
      "22-02-2022  08:37            12,370 Assignment03.ipynb\n",
      "22-02-2022  14:22           861,442 Assignment04.ipynb\n",
      "22-02-2022  16:51            12,438 Assignment05.ipynb\n",
      "23-02-2022  14:12            13,249 Assignment06.ipynb\n",
      "22-02-2022  19:22            16,932 Assignment06_DONOT_SUBMIT.ipynb\n",
      "23-02-2022  22:56            31,495 Assignment07.ipynb\n",
      "24-02-2022  18:52            14,571 Assignment08.ipynb\n",
      "24-02-2022  19:23             9,258 Assignment09.ipynb\n",
      "24-02-2022  19:54            12,684 Assignment10.ipynb\n",
      "21-02-2022  10:28                72 Assignment11.ipynb\n",
      "21-02-2022  10:28                72 Assignment12.ipynb\n",
      "21-02-2022  10:29                72 Assignment13.ipynb\n",
      "21-02-2022  10:29                72 Assignment14.ipynb\n",
      "21-02-2022  10:29                72 Assignment15.ipynb\n",
      "21-02-2022  10:30               817 Assignment16.ipynb\n",
      "21-02-2022  10:30                72 Assignment17.ipynb\n",
      "21-02-2022  10:30                72 Assignment18.ipynb\n",
      "21-02-2022  10:31                72 Assignment19.ipynb\n",
      "21-02-2022  10:31                72 Assignment20.ipynb\n",
      "21-02-2022  10:33                72 Assignment21.ipynb\n",
      "21-02-2022  10:34                72 Assignment22.ipynb\n",
      "21-02-2022  10:34                72 Assignment23.ipynb\n",
      "21-02-2022  10:34                72 Assignment24.ipynb\n",
      "21-02-2022  10:35                72 Assignment25.ipynb\n",
      "21-02-2022  10:36                72 ProgrammingAssignment01.ipynb\n",
      "21-02-2022  10:36                72 ProgrammingAssignment02.ipynb\n",
      "21-02-2022  10:40                72 ProgrammingAssignment03.ipynb\n",
      "21-02-2022  10:40                72 ProgrammingAssignment04.ipynb\n",
      "21-02-2022  10:37                72 ProgrammingAssignment05.ipynb\n",
      "21-02-2022  10:37                72 ProgrammingAssignment06.ipynb\n",
      "21-02-2022  10:38                72 ProgrammingAssignment07.ipynb\n",
      "21-02-2022  10:38                72 ProgrammingAssignment08.ipynb\n",
      "21-02-2022  10:38                72 ProgrammingAssignment09.ipynb\n",
      "21-02-2022  10:39                72 ProgrammingAssignment10.ipynb\n",
      "21-02-2022  10:39                72 ProgrammingAssignment11.ipynb\n",
      "21-02-2022  10:39                72 ProgrammingAssignment12.ipynb\n",
      "21-02-2022  10:44                72 ProgrammingAssignment13.ipynb\n",
      "21-02-2022  10:45                72 ProgrammingAssignment14.ipynb\n",
      "21-02-2022  10:48                72 ProgrammingAssignment15.ipynb\n",
      "21-02-2022  10:49                72 ProgrammingAssignment16.ipynb\n",
      "21-02-2022  10:50                72 ProgrammingAssignment17.ipynb\n",
      "21-02-2022  10:45                72 ProgrammingAssignment18.ipynb\n",
      "21-02-2022  10:45                72 ProgrammingAssignment19.ipynb\n",
      "21-02-2022  10:46                72 ProgrammingAssignment20.ipynb\n",
      "21-02-2022  10:47                72 ProgrammingAssignment21.ipynb\n",
      "21-02-2022  10:47                72 ProgrammingAssignment22.ipynb\n",
      "21-02-2022  10:47                72 ProgrammingAssignment23.ipynb\n",
      "21-02-2022  10:48                72 ProgrammingAssignment24.ipynb\n",
      "21-02-2022  10:48                72 ProgrammingAssignment25.ipynb\n",
      "21-02-2022  10:54                72 PROJECT1.ipynb\n",
      "21-02-2022  10:55             1,084 PROJECT2.ipynb\n",
      "21-02-2022  10:56             1,084 PrOJECT3.ipynb\n",
      "21-02-2022  10:56                72 PROJECT4.ipynb\n",
      "24-02-2022  19:54                17 test1.txt\n",
      "              56 File(s)      1,004,734 bytes\n",
      "               3 Dir(s)  21,696,245,760 bytes free\n",
      " Volume in drive C has no label.\n",
      " Volume Serial Number is 665F-CDD0\n",
      "\n",
      " Directory of C:\\Users\\tejuh\\Data_Science_Coursathon\\ANSWERS\n",
      "\n",
      "24-02-2022  19:54    <DIR>          .\n",
      "24-02-2022  19:54    <DIR>          ..\n",
      "23-02-2022  14:13    <DIR>          .ipynb_checkpoints\n",
      "21-02-2022  14:57             5,360 Assignment01.ipynb\n",
      "21-02-2022  14:58             8,981 Assignment02.ipynb\n",
      "22-02-2022  08:37            12,370 Assignment03.ipynb\n",
      "22-02-2022  14:22           861,442 Assignment04.ipynb\n",
      "22-02-2022  16:51            12,438 Assignment05.ipynb\n",
      "23-02-2022  14:12            13,249 Assignment06.ipynb\n",
      "22-02-2022  19:22            16,932 Assignment06_DONOT_SUBMIT.ipynb\n",
      "23-02-2022  22:56            31,495 Assignment07.ipynb\n",
      "24-02-2022  18:52            14,571 Assignment08.ipynb\n",
      "24-02-2022  19:23             9,258 Assignment09.ipynb\n",
      "24-02-2022  19:54            12,684 Assignment10.ipynb\n",
      "21-02-2022  10:28                72 Assignment11.ipynb\n",
      "21-02-2022  10:28                72 Assignment12.ipynb\n",
      "21-02-2022  10:29                72 Assignment13.ipynb\n",
      "21-02-2022  10:29                72 Assignment14.ipynb\n",
      "21-02-2022  10:29                72 Assignment15.ipynb\n",
      "21-02-2022  10:30               817 Assignment16.ipynb\n",
      "21-02-2022  10:30                72 Assignment17.ipynb\n",
      "21-02-2022  10:30                72 Assignment18.ipynb\n",
      "21-02-2022  10:31                72 Assignment19.ipynb\n",
      "21-02-2022  10:31                72 Assignment20.ipynb\n",
      "21-02-2022  10:33                72 Assignment21.ipynb\n",
      "21-02-2022  10:34                72 Assignment22.ipynb\n",
      "21-02-2022  10:34                72 Assignment23.ipynb\n",
      "21-02-2022  10:34                72 Assignment24.ipynb\n",
      "21-02-2022  10:35                72 Assignment25.ipynb\n",
      "21-02-2022  10:36                72 ProgrammingAssignment01.ipynb\n",
      "21-02-2022  10:36                72 ProgrammingAssignment02.ipynb\n",
      "21-02-2022  10:40                72 ProgrammingAssignment03.ipynb\n",
      "21-02-2022  10:40                72 ProgrammingAssignment04.ipynb\n",
      "21-02-2022  10:37                72 ProgrammingAssignment05.ipynb\n",
      "21-02-2022  10:37                72 ProgrammingAssignment06.ipynb\n",
      "21-02-2022  10:38                72 ProgrammingAssignment07.ipynb\n",
      "21-02-2022  10:38                72 ProgrammingAssignment08.ipynb\n",
      "21-02-2022  10:38                72 ProgrammingAssignment09.ipynb\n",
      "21-02-2022  10:39                72 ProgrammingAssignment10.ipynb\n",
      "21-02-2022  10:39                72 ProgrammingAssignment11.ipynb\n",
      "21-02-2022  10:39                72 ProgrammingAssignment12.ipynb\n",
      "21-02-2022  10:44                72 ProgrammingAssignment13.ipynb\n",
      "21-02-2022  10:45                72 ProgrammingAssignment14.ipynb\n",
      "21-02-2022  10:48                72 ProgrammingAssignment15.ipynb\n",
      "21-02-2022  10:49                72 ProgrammingAssignment16.ipynb\n",
      "21-02-2022  10:50                72 ProgrammingAssignment17.ipynb\n",
      "21-02-2022  10:45                72 ProgrammingAssignment18.ipynb\n",
      "21-02-2022  10:45                72 ProgrammingAssignment19.ipynb\n",
      "21-02-2022  10:46                72 ProgrammingAssignment20.ipynb\n",
      "21-02-2022  10:47                72 ProgrammingAssignment21.ipynb\n",
      "21-02-2022  10:47                72 ProgrammingAssignment22.ipynb\n",
      "21-02-2022  10:47                72 ProgrammingAssignment23.ipynb\n",
      "21-02-2022  10:48                72 ProgrammingAssignment24.ipynb\n",
      "21-02-2022  10:48                72 ProgrammingAssignment25.ipynb\n",
      "21-02-2022  10:54                72 PROJECT1.ipynb\n",
      "21-02-2022  10:55             1,084 PROJECT2.ipynb\n",
      "21-02-2022  10:56             1,084 PrOJECT3.ipynb\n",
      "21-02-2022  10:56                72 PROJECT4.ipynb\n",
      "24-02-2022  19:54                17 test2.pqr\n",
      "              56 File(s)      1,004,734 bytes\n",
      "               3 Dir(s)  21,696,245,760 bytes free\n"
     ]
    }
   ],
   "source": [
    "import os\n",
    "os.chdir(\"C:\\\\Users\\\\tejuh\\\\Data_Science_Coursathon\\\\ANSWERS\")\n",
    "os.getcwd()\n",
    "with open ('test1.txt', 'w') as f:\n",
    "     f.write(\"Sample Test File2\")\n",
    "%ls\n",
    "os.rename('test1.txt', 'test2.pqr')\n",
    "%ls"
   ]
  },
  {
   "cell_type": "markdown",
   "id": "b194fa93",
   "metadata": {},
   "source": [
    "# 3. What is the difference between the delete functions in the send2trash and shutil modules?"
   ]
  },
  {
   "cell_type": "code",
   "execution_count": null,
   "id": "74474948",
   "metadata": {},
   "outputs": [],
   "source": [
    "# ANS3: \n",
    "# # The send2trash modules's send2trash() function will send the file to recycle-bin\n",
    "# # So, the file can be recovered. \n",
    "#\n",
    "# There is no delete() function of shutil module. One can use rmtree() to remove\n",
    "# a directory and all files within it.\n",
    "#\n",
    "# However one can use os.remove() to remove/delete a file permanently\n"
   ]
  },
  {
   "cell_type": "code",
   "execution_count": null,
   "id": "d8b40dd3",
   "metadata": {},
   "outputs": [],
   "source": [
    "#!pip install send2trash\n",
    "import send2trash,os\n",
    "os.chdir(\"C:\\\\Users\\\\tejuh\\\\Data_Science_Coursathon\\\\ANSWERS\")\n",
    "with open ('trashTestfile.txt', 'w') as f:\n",
    "     f.write(\"Sample Test File\")\n",
    "# Check if file is created in cwd()\n",
    "%ls\n",
    "send2trash.send2trash('trashTestfile.txt')\n",
    "%ls\n",
    "# File is deleted but  one can find file in recycle bin"
   ]
  },
  {
   "cell_type": "code",
   "execution_count": 7,
   "id": "df30bc08",
   "metadata": {
    "ExecuteTime": {
     "end_time": "2022-02-24T15:11:02.251753Z",
     "start_time": "2022-02-24T15:11:02.146765Z"
    }
   },
   "outputs": [
    {
     "name": "stdout",
     "output_type": "stream",
     "text": [
      " Volume in drive C has no label.\n",
      " Volume Serial Number is 665F-CDD0\n",
      "\n",
      " Directory of C:\\Users\\tejuh\\Data_Science_Coursathon\\ANSWERS\n",
      "\n",
      "24-02-2022  20:41    <DIR>          .\n",
      "24-02-2022  20:41    <DIR>          ..\n",
      "23-02-2022  14:13    <DIR>          .ipynb_checkpoints\n",
      "21-02-2022  14:57             5,360 Assignment01.ipynb\n",
      "21-02-2022  14:58             8,981 Assignment02.ipynb\n",
      "22-02-2022  08:37            12,370 Assignment03.ipynb\n",
      "22-02-2022  14:22           861,442 Assignment04.ipynb\n",
      "22-02-2022  16:51            12,438 Assignment05.ipynb\n",
      "23-02-2022  14:12            13,249 Assignment06.ipynb\n",
      "22-02-2022  19:22            16,932 Assignment06_DONOT_SUBMIT.ipynb\n",
      "23-02-2022  22:56            31,495 Assignment07.ipynb\n",
      "24-02-2022  18:52            14,571 Assignment08.ipynb\n",
      "24-02-2022  19:23             9,258 Assignment09.ipynb\n",
      "24-02-2022  20:40            33,620 Assignment10.ipynb\n",
      "21-02-2022  10:28                72 Assignment11.ipynb\n",
      "21-02-2022  10:28                72 Assignment12.ipynb\n",
      "21-02-2022  10:29                72 Assignment13.ipynb\n",
      "21-02-2022  10:29                72 Assignment14.ipynb\n",
      "21-02-2022  10:29                72 Assignment15.ipynb\n",
      "21-02-2022  10:30               817 Assignment16.ipynb\n",
      "21-02-2022  10:30                72 Assignment17.ipynb\n",
      "21-02-2022  10:30                72 Assignment18.ipynb\n",
      "21-02-2022  10:31                72 Assignment19.ipynb\n",
      "21-02-2022  10:31                72 Assignment20.ipynb\n",
      "21-02-2022  10:33                72 Assignment21.ipynb\n",
      "21-02-2022  10:34                72 Assignment22.ipynb\n",
      "21-02-2022  10:34                72 Assignment23.ipynb\n",
      "21-02-2022  10:34                72 Assignment24.ipynb\n",
      "21-02-2022  10:35                72 Assignment25.ipynb\n",
      "21-02-2022  10:36                72 ProgrammingAssignment01.ipynb\n",
      "21-02-2022  10:36                72 ProgrammingAssignment02.ipynb\n",
      "21-02-2022  10:40                72 ProgrammingAssignment03.ipynb\n",
      "21-02-2022  10:40                72 ProgrammingAssignment04.ipynb\n",
      "21-02-2022  10:37                72 ProgrammingAssignment05.ipynb\n",
      "21-02-2022  10:37                72 ProgrammingAssignment06.ipynb\n",
      "21-02-2022  10:38                72 ProgrammingAssignment07.ipynb\n",
      "21-02-2022  10:38                72 ProgrammingAssignment08.ipynb\n",
      "21-02-2022  10:38                72 ProgrammingAssignment09.ipynb\n",
      "21-02-2022  10:39                72 ProgrammingAssignment10.ipynb\n",
      "21-02-2022  10:39                72 ProgrammingAssignment11.ipynb\n",
      "21-02-2022  10:39                72 ProgrammingAssignment12.ipynb\n",
      "21-02-2022  10:44                72 ProgrammingAssignment13.ipynb\n",
      "21-02-2022  10:45                72 ProgrammingAssignment14.ipynb\n",
      "21-02-2022  10:48                72 ProgrammingAssignment15.ipynb\n",
      "21-02-2022  10:49                72 ProgrammingAssignment16.ipynb\n",
      "21-02-2022  10:50                72 ProgrammingAssignment17.ipynb\n",
      "21-02-2022  10:45                72 ProgrammingAssignment18.ipynb\n",
      "21-02-2022  10:45                72 ProgrammingAssignment19.ipynb\n",
      "21-02-2022  10:46                72 ProgrammingAssignment20.ipynb\n",
      "21-02-2022  10:47                72 ProgrammingAssignment21.ipynb\n",
      "21-02-2022  10:47                72 ProgrammingAssignment22.ipynb\n",
      "21-02-2022  10:47                72 ProgrammingAssignment23.ipynb\n",
      "21-02-2022  10:48                72 ProgrammingAssignment24.ipynb\n",
      "21-02-2022  10:48                72 ProgrammingAssignment25.ipynb\n",
      "21-02-2022  10:54                72 PROJECT1.ipynb\n",
      "21-02-2022  10:55             1,084 PROJECT2.ipynb\n",
      "21-02-2022  10:56             1,084 PrOJECT3.ipynb\n",
      "21-02-2022  10:56                72 PROJECT4.ipynb\n",
      "24-02-2022  20:41                16 trashTestfile.txt\n",
      "              56 File(s)      1,025,669 bytes\n",
      "               3 Dir(s)  21,707,984,896 bytes free\n"
     ]
    }
   ],
   "source": [
    "import os\n",
    "os.chdir(\"C:\\\\Users\\\\tejuh\\\\Data_Science_Coursathon\\\\ANSWERS\")\n",
    "with open ('trashTestfile.txt', 'w') as f:\n",
    "     f.write(\"Sample Test File\")\n",
    "# Check if file is created in cwd()\n",
    "%ls\n",
    "os.remove('trashTestfile.txt')\n",
    "%ls\n",
    "# File is deleted but Here also one can find file in recycle bin"
   ]
  },
  {
   "cell_type": "markdown",
   "id": "874b1f6a",
   "metadata": {},
   "source": [
    "# 4.ZipFile objects have a close() method just like File objects’ close() method. What ZipFile method is equivalent to File objects’ open() method?"
   ]
  },
  {
   "cell_type": "code",
   "execution_count": null,
   "id": "b7b26405",
   "metadata": {},
   "outputs": [],
   "source": [
    "# ANS4: \n",
    "# file.open() and zipfile.ZipFile() are equivalent. Both take name of file\n",
    "# to open as a string and a mode 'r' for read-only OR 'w' for 'write' OR\n",
    "# 'a' for append."
   ]
  },
  {
   "cell_type": "code",
   "execution_count": null,
   "id": "ded732a8",
   "metadata": {},
   "outputs": [],
   "source": [
    "#!pip install zipfile39\n",
    "import zipfile\n",
    "zipfile.ZipFile(\"abc.zip\",'w')\n",
    "%ls\n",
    "# A file abc.zip will be created in current working directory"
   ]
  },
  {
   "cell_type": "markdown",
   "id": "78a03633",
   "metadata": {},
   "source": [
    "# 5. Create a programme that searches a folder tree for files with a certain file extension (such as .pdf or .jpg). Copy these files from whatever location they are in to a new folder."
   ]
  },
  {
   "attachments": {
    "my_dir_tree.jpg": {
     "image/jpeg": "[encoded data removed]"
    }
   },
   "cell_type": "markdown",
   "id": "b2d4d4e7",
   "metadata": {},
   "source": [
    "![my_dir_tree.jpg](attachment:my_dir_tree.jpg)"
   ]
  },
  {
   "cell_type": "code",
   "execution_count": 38,
   "id": "f6daf0b9",
   "metadata": {
    "ExecuteTime": {
     "end_time": "2022-02-24T16:50:44.635528Z",
     "start_time": "2022-02-24T16:50:44.410510Z"
    }
   },
   "outputs": [
    {
     "name": "stdout",
     "output_type": "stream",
     "text": [
      " Volume in drive C has no label.\n",
      " Volume Serial Number is 665F-CDD0\n",
      "\n",
      " Directory of C:\\Users\\tejuh\\Data_Science_Coursathon\\ANSWERS\\destination_folder\n",
      "\n",
      "24-02-2022  22:20    <DIR>          .\n",
      "24-02-2022  22:20    <DIR>          ..\n",
      "24-02-2022  22:20                26 testabc.txt\n",
      "24-02-2022  22:20                33 testabc2.txt\n",
      "24-02-2022  22:20                35 testdef1.txt\n",
      "24-02-2022  22:20                35 testdef2.txt\n",
      "24-02-2022  22:20                40 testghi.txt\n",
      "24-02-2022  22:20                41 testghi2.txt\n",
      "               6 File(s)            210 bytes\n",
      "               2 Dir(s)  21,714,354,176 bytes free\n",
      "\n",
      "================================================================\n",
      " Volume in drive C has no label.\n",
      " Volume Serial Number is 665F-CDD0\n",
      "\n",
      " Directory of C:\\Users\\tejuh\\Data_Science_Coursathon\\ANSWERS\\destination_folder\n",
      "\n",
      "24-02-2022  22:20    <DIR>          .\n",
      "24-02-2022  22:20    <DIR>          ..\n",
      "               0 File(s)              0 bytes\n",
      "               2 Dir(s)  21,714,354,176 bytes free\n"
     ]
    }
   ],
   "source": [
    "# ANS: \n",
    "import os,shutil,send2trash\n",
    "# We get cwd = C:\\Users\\tejuh\\Data_Science_Coursathon\\ANSWERS\n",
    "# I created a directory tree as shown in figure above\n",
    "# In each of folders abc,def,ghi there are two .txt files\n",
    "# destination_folder is currently empty\n",
    "# Now defining the required function\n",
    "execution_dir = \"C:\\\\Users\\\\tejuh\\\\Data_Science_Coursathon\\\\ANSWERS\"\n",
    "def recursive_move(src,dest):       #src =source_folder, dst=destination_folder\n",
    "    for folderName, subfolders, filenames in os.walk(src):\n",
    "        for filename in filenames:\n",
    "            if filename.endswith('.txt'):\n",
    "                shutil.copy(os.path.join(folderName, filename),dest)\n",
    "\n",
    "source = \"C:\\\\Users\\\\tejuh\\\\Data_Science_Coursathon\\\\ANSWERS\\\\source_folder\"\n",
    "destination = \"C:\\\\Users\\\\tejuh\\\\Data_Science_Coursathon\\\\ANSWERS\\\\destination_folder\"\n",
    "recursive_move(source,destination)\n",
    "# Change to destination folder and check if copy is successful\n",
    "os.chdir(destination)\n",
    "%ls\n",
    "# output shows that files successfully copied to destination folder\n",
    "# removing contents of destination folder but keep the folder\n",
    "filelist = [ f for f in os.listdir(destination) if f.endswith(\".txt\") ]\n",
    "for f in filelist:\n",
    "    os.remove(os.path.join(destination, f))\n",
    "# Check if destination_folder is again empty for next run\n",
    "print(\"\\n================================================================\")\n",
    "%ls"
   ]
  }
 ],
 "metadata": {
  "kernelspec": {
   "display_name": "Python 3 (ipykernel)",
   "language": "python",
   "name": "python3"
  },
  "language_info": {
   "codemirror_mode": {
    "name": "ipython",
    "version": 3
   },
   "file_extension": ".py",
   "mimetype": "text/x-python",
   "name": "python",
   "nbconvert_exporter": "python",
   "pygments_lexer": "ipython3",
   "version": "3.9.7"
  },
  "nbTranslate": {
   "displayLangs": [
    "*"
   ],
   "hotkey": "alt-t",
   "langInMainMenu": true,
   "sourceLang": "en",
   "targetLang": "fr",
   "useGoogleTranslate": true
  },
  "toc": {
   "base_numbering": 1,
   "nav_menu": {},
   "number_sections": true,
   "sideBar": true,
   "skip_h1_title": false,
   "title_cell": "Table of Contents",
   "title_sidebar": "Contents",
   "toc_cell": false,
   "toc_position": {},
   "toc_section_display": true,
   "toc_window_display": false
  }
 },
 "nbformat": 4,
 "nbformat_minor": 5
}
