{
 "cells": [
  {
   "cell_type": "markdown",
   "id": "adc9569e",
   "metadata": {},
   "source": [
    "# 1. Assign the value 7 to the variable guess_me. Then, \n",
    "# write the conditional tests (if, else, and elif) to print the string 'too low' if guess_me is less than 7, 'too high' if greater than 7, and 'just right' if equal to 7."
   ]
  },
  {
   "cell_type": "code",
   "execution_count": 22,
   "id": "3e598cea",
   "metadata": {
    "ExecuteTime": {
     "end_time": "2022-02-28T10:11:39.465722Z",
     "start_time": "2022-02-28T10:11:39.434528Z"
    }
   },
   "outputs": [
    {
     "name": "stdout",
     "output_type": "stream",
     "text": [
      "just right\n"
     ]
    }
   ],
   "source": [
    "# ANS 1\n",
    "guess_me = 7\n",
    "if guess_me < 7:\n",
    "    print(\"too low.\")\n",
    "elif guess_me> 7:\n",
    "    print(\"too high\")\n",
    "else:\n",
    "    print(\"just right\")"
   ]
  },
  {
   "cell_type": "markdown",
   "id": "19e4906b",
   "metadata": {
    "ExecuteTime": {
     "end_time": "2022-02-28T08:59:23.049332Z",
     "start_time": "2022-02-28T08:59:23.033863Z"
    }
   },
   "source": [
    "# 2. Assign the value 7 to the variable guess_me and the value 1 to the variable start. Write a while loop that compares start with guess_me. Print too low if start is less than guess me. If start equals guess_me, print 'found it!' and exit the loop. If start is greater than guess_me, print 'oops' and exit the loop. Increment start at the end of the loop."
   ]
  },
  {
   "cell_type": "code",
   "execution_count": 7,
   "id": "4ed026a0",
   "metadata": {
    "ExecuteTime": {
     "end_time": "2022-02-28T09:15:45.986180Z",
     "start_time": "2022-02-28T09:15:45.954945Z"
    }
   },
   "outputs": [
    {
     "name": "stdout",
     "output_type": "stream",
     "text": [
      "too low\n",
      "too low\n",
      "too low\n",
      "too low\n",
      "too low\n",
      "too low\n",
      "found it\n",
      "oops\n"
     ]
    }
   ],
   "source": [
    "# ANS 2\n",
    "guess_me = 7\n",
    "start = 1\n",
    "while True:\n",
    "    if start<guess_me:\n",
    "        print(\"too low\")\n",
    "    elif start>guess_me:\n",
    "        print(\"oops\")\n",
    "        break\n",
    "    else:\n",
    "        print(\"found it\")\n",
    "    start+=1\n",
    "    "
   ]
  },
  {
   "cell_type": "markdown",
   "id": "550dbac1",
   "metadata": {},
   "source": [
    "# 3. Print the following values of the list [3, 2, 1, 0] using a for loop."
   ]
  },
  {
   "cell_type": "code",
   "execution_count": 9,
   "id": "c6013d8e",
   "metadata": {
    "ExecuteTime": {
     "end_time": "2022-02-28T09:17:58.362162Z",
     "start_time": "2022-02-28T09:17:58.330919Z"
    }
   },
   "outputs": [
    {
     "name": "stdout",
     "output_type": "stream",
     "text": [
      "3\n",
      "2\n",
      "1\n",
      "0\n"
     ]
    }
   ],
   "source": [
    "# ANS 3\n",
    "l = [3,2,1,0]\n",
    "for i in l:\n",
    "    print(i)"
   ]
  },
  {
   "cell_type": "markdown",
   "id": "d2c63c23",
   "metadata": {},
   "source": [
    "# 4. Use a list comprehension to make a list of the even numbers in range(10)"
   ]
  },
  {
   "cell_type": "code",
   "execution_count": 10,
   "id": "6ae39a46",
   "metadata": {
    "ExecuteTime": {
     "end_time": "2022-02-28T09:20:09.158584Z",
     "start_time": "2022-02-28T09:20:09.142962Z"
    }
   },
   "outputs": [
    {
     "name": "stdout",
     "output_type": "stream",
     "text": [
      "[0, 2, 4, 6, 8]\n"
     ]
    }
   ],
   "source": [
    "# ANS 4\n",
    "even_numbers = [x for x in range(10)if x%2==0]\n",
    "print(even_numbers)"
   ]
  },
  {
   "cell_type": "markdown",
   "id": "845e1da5",
   "metadata": {},
   "source": [
    "# 5. Use a dictionary comprehension to create the dictionary squares. Use range(10) to return the keys, and use the square of each key as its value."
   ]
  },
  {
   "cell_type": "code",
   "execution_count": 11,
   "id": "e8bcfa67",
   "metadata": {
    "ExecuteTime": {
     "end_time": "2022-02-28T09:23:51.337761Z",
     "start_time": "2022-02-28T09:23:51.322146Z"
    }
   },
   "outputs": [
    {
     "name": "stdout",
     "output_type": "stream",
     "text": [
      "{0: 0, 1: 1, 2: 4, 3: 9, 4: 16, 5: 25, 6: 36, 7: 49, 8: 64, 9: 81}\n"
     ]
    }
   ],
   "source": [
    "# ANS 5\n",
    "squares = {x:x ** 2 for x in range(10)}\n",
    "print(squares)"
   ]
  },
  {
   "cell_type": "markdown",
   "id": "6545a014",
   "metadata": {},
   "source": [
    "# 6. Construct the set odd from the odd numbers in the range using a set comprehension (10)."
   ]
  },
  {
   "cell_type": "code",
   "execution_count": 12,
   "id": "c052fef2",
   "metadata": {
    "ExecuteTime": {
     "end_time": "2022-02-28T09:33:39.858848Z",
     "start_time": "2022-02-28T09:33:39.827540Z"
    }
   },
   "outputs": [
    {
     "name": "stdout",
     "output_type": "stream",
     "text": [
      "{1, 3, 5, 7, 9}\n"
     ]
    }
   ],
   "source": [
    "# ANS 6\n",
    "odd = {num for num in range(10) if num % 2 == 1}\n",
    "print(odd)"
   ]
  },
  {
   "cell_type": "markdown",
   "id": "d9c58347",
   "metadata": {},
   "source": [
    "# 7. Use a generator comprehension to return the string 'Got ' and a number for the numbers in range(10). Iterate through this by using a for loop."
   ]
  },
  {
   "cell_type": "code",
   "execution_count": 13,
   "id": "fb52e6ca",
   "metadata": {
    "ExecuteTime": {
     "end_time": "2022-02-28T09:37:08.276275Z",
     "start_time": "2022-02-28T09:37:08.245045Z"
    }
   },
   "outputs": [
    {
     "name": "stdout",
     "output_type": "stream",
     "text": [
      "Got 0\n",
      "Got 1\n",
      "Got 2\n",
      "Got 3\n",
      "Got 4\n",
      "Got 5\n",
      "Got 6\n",
      "Got 7\n",
      "Got 8\n",
      "Got 9\n"
     ]
    }
   ],
   "source": [
    "# ANS 7\n",
    "string_creator = ('Got ' + str(num) for num in range(10))\n",
    "for i in string_creator:\n",
    "    print(i)"
   ]
  },
  {
   "cell_type": "markdown",
   "id": "d9b4e07a",
   "metadata": {},
   "source": [
    "# 8. Define a function called good that returns the list ['Harry', 'Ron', 'Hermione']."
   ]
  },
  {
   "cell_type": "code",
   "execution_count": 15,
   "id": "9e5f1d80",
   "metadata": {
    "ExecuteTime": {
     "end_time": "2022-02-28T09:39:35.510977Z",
     "start_time": "2022-02-28T09:39:35.473131Z"
    }
   },
   "outputs": [
    {
     "name": "stdout",
     "output_type": "stream",
     "text": [
      "['Harry', 'Ron', 'Hermione']\n"
     ]
    }
   ],
   "source": [
    "# ANS 8\n",
    "def good():\n",
    "    l=['Harry','Ron','Hermione']\n",
    "    return(l)\n",
    "#\n",
    "print(good())  "
   ]
  },
  {
   "cell_type": "markdown",
   "id": "9cbc8d60",
   "metadata": {
    "ExecuteTime": {
     "end_time": "2022-02-28T09:01:55.625317Z",
     "start_time": "2022-02-28T09:01:55.609693Z"
    }
   },
   "source": [
    "# 9. Define a generator function called get_odds that returns the odd numbers from range(10). Use a for loop to find and print the third value returned."
   ]
  },
  {
   "cell_type": "code",
   "execution_count": 19,
   "id": "a1617571",
   "metadata": {
    "ExecuteTime": {
     "end_time": "2022-02-28T09:50:14.553606Z",
     "start_time": "2022-02-28T09:50:14.537966Z"
    }
   },
   "outputs": [
    {
     "name": "stdout",
     "output_type": "stream",
     "text": [
      "5\n"
     ]
    }
   ],
   "source": [
    "# ANS 9\n",
    "get_odds = (num for num in range(10) if  num %2 ==1)\n",
    "i= 0\n",
    "for num in get_odds:\n",
    "    if i==2:\n",
    "        print(num)\n",
    "        break\n",
    "    i+=1"
   ]
  },
  {
   "cell_type": "markdown",
   "id": "9e4a2726",
   "metadata": {},
   "source": [
    "# 10. Define an exception called OopsException. Raise this exception to see what happens. Then write the code to catch this exception and print 'Caught an oops'.\n",
    "\n",
    "    "
   ]
  },
  {
   "cell_type": "code",
   "execution_count": 20,
   "id": "5b256745",
   "metadata": {
    "ExecuteTime": {
     "end_time": "2022-02-28T09:59:19.242481Z",
     "start_time": "2022-02-28T09:59:19.211253Z"
    }
   },
   "outputs": [
    {
     "name": "stdout",
     "output_type": "stream",
     "text": [
      "Caught an oops\n"
     ]
    }
   ],
   "source": [
    "# ANS 10\n",
    "class OopsException(Exception):\n",
    "    pass\n",
    "\n",
    "def raise_exception(num):\n",
    "    if num<0:\n",
    "        raise OopsException(num)\n",
    "    \n",
    "try:\n",
    "    raise_exception(-1)\n",
    "except OopsException as e:\n",
    "    print('Caught an oops')\n",
    "    "
   ]
  },
  {
   "cell_type": "markdown",
   "id": "67287fc8",
   "metadata": {},
   "source": [
    "# 11. Use zip() to make a dictionary called movies that pairs these lists: titles = ['Creature of Habit', 'Crewel Fate'] and plots = ['A nun turns into a monster', 'A haunted yarn shop']."
   ]
  },
  {
   "cell_type": "code",
   "execution_count": 21,
   "id": "1a5f70eb",
   "metadata": {
    "ExecuteTime": {
     "end_time": "2022-02-28T10:02:20.042745Z",
     "start_time": "2022-02-28T10:02:20.011490Z"
    }
   },
   "outputs": [
    {
     "name": "stdout",
     "output_type": "stream",
     "text": [
      "{'Creature of Habit': 'A nun turns into a monster', 'Crewel Fate': 'A haunted yarn shop'}\n"
     ]
    }
   ],
   "source": [
    "# ANS 11\n",
    "titles = ['Creature of Habit', 'Crewel Fate']\n",
    "plots = ['A nun turns into a monster', 'A haunted yarn shop']\n",
    "# create empty dictionary to hold result\n",
    "movies = {}\n",
    "# use zip to bind correponding elements of two lists titles and plots \n",
    "# as key,value pairs and \n",
    "for title, plot in zip(titles, plots):\n",
    "    movies[title] = plot\n",
    "print(movies) "
   ]
  }
 ],
 "metadata": {
  "kernelspec": {
   "display_name": "Python 3 (ipykernel)",
   "language": "python",
   "name": "python3"
  },
  "language_info": {
   "codemirror_mode": {
    "name": "ipython",
    "version": 3
   },
   "file_extension": ".py",
   "mimetype": "text/x-python",
   "name": "python",
   "nbconvert_exporter": "python",
   "pygments_lexer": "ipython3",
   "version": "3.9.7"
  },
  "nbTranslate": {
   "displayLangs": [
    "*"
   ],
   "hotkey": "alt-t",
   "langInMainMenu": true,
   "sourceLang": "en",
   "targetLang": "fr",
   "useGoogleTranslate": true
  },
  "toc": {
   "base_numbering": 1,
   "nav_menu": {},
   "number_sections": true,
   "sideBar": true,
   "skip_h1_title": false,
   "title_cell": "Table of Contents",
   "title_sidebar": "Contents",
   "toc_cell": false,
   "toc_position": {},
   "toc_section_display": true,
   "toc_window_display": false
  }
 },
 "nbformat": 4,
 "nbformat_minor": 5
}
