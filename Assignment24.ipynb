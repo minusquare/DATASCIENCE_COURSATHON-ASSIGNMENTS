{
 "cells": [
  {
   "cell_type": "markdown",
   "id": "1bfb00ad",
   "metadata": {},
   "source": [
    "# 1. \n",
    "What is the relationship between def statements and lambda expressions ?"
   ]
  },
  {
   "cell_type": "markdown",
   "id": "09e70a6b",
   "metadata": {
    "ExecuteTime": {
     "end_time": "2022-03-02T13:34:21.318295Z",
     "start_time": "2022-03-02T13:34:21.287048Z"
    }
   },
   "source": [
    "# ANS 1:\n",
    "(1) lambda is an expression whereas def is a statement. Since lambda is an \n",
    "    expression, the body of a lambda can consist of only a single expression\n",
    "    (no statements allowed). On the other hand a def statement has no \n",
    "    value, and creates a function object and binds it to a name.Body of \n",
    "    def statement can contain as many statements as we need. They can perform\n",
    "    can perform any python task E.g.,multiple conditions, nested conditions or\n",
    "    loops of any level, printing, importing libraries, raising Exceptions, etc. \n",
    "(2) lambda returns a function object without name which can be assigned to\n",
    "    any variable. On the other hand a def statement does not return anything\n",
    "    ( if not explicitly returned). They creates a function object and binds it\n",
    "    to a name.\n",
    "(3) lambda can be used only in the block they were created. def functions can\n",
    "    be called and used anywhere we want.\n",
    "(4) lambda functions can't be pickled because they have no (unique) name \n",
    "    associated with them. Therefore, they can't be used with multiprocessing.\n",
    "    def functions have no such problem.\n",
    "(5) The def functions must be declared in the namespace The lambda functions \n",
    "    can be used without any declaration in the namespace\n",
    "    HOWEVER ONE MUST NOTE THAT THESE DIFFERENCES MATTER ONLY FROM PROGRAMMING \n",
    "    POINT OF VIEW. INTRINSICALLY, IN PYTHON BOTH ARE SAME AS CODE BELOW SHOWS."
   ]
  },
  {
   "cell_type": "code",
   "execution_count": 5,
   "id": "65758d1e",
   "metadata": {
    "ExecuteTime": {
     "end_time": "2022-03-02T13:59:42.299609Z",
     "start_time": "2022-03-02T13:59:42.268365Z"
    }
   },
   "outputs": [
    {
     "name": "stdout",
     "output_type": "stream",
     "text": [
      "<function a at 0x000002BCF82EFF70>\n",
      "<function <lambda> at 0x000002BCF8971A60>\n",
      "<class 'function'>\n",
      "<class 'function'>\n"
     ]
    }
   ],
   "source": [
    "def a():\n",
    "    return 1\n",
    "b = lambda: 1\n",
    "print(a)\n",
    "print(b)\n",
    "# However the name difference is trivial and not imp in any way. Both are \n",
    "# funtions only\n",
    "print(type(a))\n",
    "print(type(b))"
   ]
  },
  {
   "cell_type": "markdown",
   "id": "ef92e7e9",
   "metadata": {},
   "source": [
    "# 2. What is the benefit of lambda?"
   ]
  },
  {
   "cell_type": "markdown",
   "id": "f212e755",
   "metadata": {},
   "source": [
    "# ANS 2.\n",
    "(A) The code is simple and clear. It is more readable because it places the\n",
    "implementation of the function right into the spot where it is called,\n",
    "thus keeping the natural top-to-bottom flow of code unchanged. On the other hand,\n",
    "functions break the natural flow of code and transfer control to a completely\n",
    "different location. This can reduce the readability as it is like reading a book\n",
    "that is riddled with many forward and backward references.\n",
    "(B) So long as we avoid writing a very long and complex lambda, it is more\n",
    "pythonic way too write code. E.g. Python supports a style of programming \n",
    "called functional programming where you can pass functions to other functions \n",
    "to do stuff. Example. code shown below:\n",
    "(C) No additional variables are added."
   ]
  },
  {
   "cell_type": "code",
   "execution_count": 11,
   "id": "067644ef",
   "metadata": {
    "ExecuteTime": {
     "end_time": "2022-03-02T14:25:46.006932Z",
     "start_time": "2022-03-02T14:25:45.991344Z"
    }
   },
   "outputs": [
    {
     "name": "stdout",
     "output_type": "stream",
     "text": [
      "3\n",
      "6\n",
      "9\n"
     ]
    }
   ],
   "source": [
    "mult3 = filter(lambda x: x % 3 == 0, [1, 2, 3, 4, 5, 6, 7, 8, 9])\n",
    "for num in mult3:\n",
    "    print(num)\n",
    "# sets mult3 to [3, 6, 9], those elements of original list that are multiples \n",
    "# of 3. This is shorter (and, one could argue, clearer) than def function below."
   ]
  },
  {
   "cell_type": "code",
   "execution_count": 12,
   "id": "8fb64304",
   "metadata": {
    "ExecuteTime": {
     "end_time": "2022-03-02T14:28:07.490206Z",
     "start_time": "2022-03-02T14:28:07.452379Z"
    }
   },
   "outputs": [
    {
     "name": "stdout",
     "output_type": "stream",
     "text": [
      "3\n",
      "6\n",
      "9\n"
     ]
    }
   ],
   "source": [
    "def filterfunc(x):\n",
    "    return x % 3 == 0\n",
    "mult3 = filter(filterfunc, [1, 2, 3, 4, 5, 6, 7, 8, 9])\n",
    "for num in mult3:\n",
    "    print(num)"
   ]
  },
  {
   "cell_type": "markdown",
   "id": "333585a7",
   "metadata": {},
   "source": [
    "# 3.\n",
    "Compare and contrast map, filter, and reduce."
   ]
  },
  {
   "cell_type": "markdown",
   "id": "a352606a",
   "metadata": {},
   "source": [
    "# ANS 3:\n",
    "(A)The map() function iterates through all items in the given iterable and \n",
    "executes the function we passed as an argument on each of them.\n",
    "The syntax is: map(function, iterable(s))\n",
    "(B)filter() also takes a function object and an iterable and creates a new list.\n",
    "filter() forms a new list that contains only elements for which the function \n",
    "we passed returns True.\n",
    "The syntax is: filter(function, iterable(s))\n",
    "(C) reduce() works differently than map() and filter(). It does not return a\n",
    "new list based on the function and iterable we've passed. Instead, it returns \n",
    "a single value.Also, in Python 3 reduce() isn't a built-in function anymore, \n",
    "and it can be found in the functools module.\n",
    "The syntax is:reduce(function, sequence[, initial])\n",
    "# SEE CODE EXAMPLES BELOW\n"
   ]
  },
  {
   "cell_type": "code",
   "execution_count": 1,
   "id": "717618ab",
   "metadata": {
    "ExecuteTime": {
     "end_time": "2022-03-02T15:22:46.061443Z",
     "start_time": "2022-03-02T15:22:45.992228Z"
    }
   },
   "outputs": [
    {
     "name": "stdout",
     "output_type": "stream",
     "text": [
      "[True, False, True, False, True]\n"
     ]
    }
   ],
   "source": [
    "# Example for map()\n",
    "students = [\"Anish\", \"Rajesh\", \"Ami\", \"Dhiraaj\", \"Aarti\"]\n",
    "results= list(map(lambda s: s[0] == \"A\", students))\n",
    "print(results)"
   ]
  },
  {
   "cell_type": "code",
   "execution_count": 3,
   "id": "102e7609",
   "metadata": {
    "ExecuteTime": {
     "end_time": "2022-03-02T15:23:57.187120Z",
     "start_time": "2022-03-02T15:23:57.171493Z"
    }
   },
   "outputs": [
    {
     "name": "stdout",
     "output_type": "stream",
     "text": [
      "['Apple', 'Apricot']\n"
     ]
    }
   ],
   "source": [
    "# example for filter\n",
    "fruits = [\"Apple\", \"Banana\", \"Pear\", \"Apricot\", \"Orange\"]\n",
    "filter_object = list(filter(lambda s: s[0] == \"A\", fruits)) \n",
    "print(filter_object)"
   ]
  },
  {
   "cell_type": "code",
   "execution_count": 4,
   "id": "3d52ea25",
   "metadata": {
    "ExecuteTime": {
     "end_time": "2022-03-02T15:24:28.547042Z",
     "start_time": "2022-03-02T15:24:28.531383Z"
    }
   },
   "outputs": [
    {
     "name": "stdout",
     "output_type": "stream",
     "text": [
      "11\n"
     ]
    }
   ],
   "source": [
    "# Example for reduce\n",
    "from functools import reduce\n",
    "\n",
    "def add(x, y):\n",
    "    return x + y\n",
    "\n",
    "list = [3, 5, 1, 2]\n",
    "print(reduce(add, list))"
   ]
  },
  {
   "cell_type": "markdown",
   "id": "ee461b7e",
   "metadata": {},
   "source": [
    "# 4. What are function annotations, and how are they used?\n",
    "ANS: Function annotations are arbitrary python expressions, associated with \n",
    "various part of functions. They are evaluated at compile time and have no life\n",
    "in python’s runtime environment. Python does not attach any meaning to them. They\n",
    "take life when interpreted by third party libraries, for example, mypy.\n",
    "# Purpose of function annotations: \n",
    "(A)Python supports dynamic typing and hence no module is provided for type \n",
    "checking. Annotations like:\n",
    "[def foo(a:”int”, b:”float”=5.0)  -> ”int”]\n",
    "can be used to collect information about type of parameters and return type of\n",
    "the function to keep track of the type change occurring in the function.\n",
    "(B)String based annotations can be used by the libraries to provide better help\n",
    "messages at compile time regarding the functionalities of various methods, \n",
    "classes and modules.\n",
    "# How are they used?\n",
    "# Annotations for simple parameters : \n",
    "The argument name is followed by ‘:’ which is then followed by the expression. \n",
    "def foobar(a: expression, b: expression = 5):\n",
    "# Annotations for excess parameters :\n",
    "Excess parameters for e.g. *args and **kwargs, allow arbitrary number of arguments\n",
    "to be passed in a function call\n",
    "def foobar(*args: expression, *kwargs: expression):\n",
    "# Annotations for nested parameters :\n",
    "def foobar((a: expression, b: expression), (c: expression, d: expression)):\n",
    "# Annotations for return type : \n",
    "Here the ‘->’ is followed by expression which is further followed by ‘:’.\n",
    "def foobar(a: expression)->expression:"
   ]
  },
  {
   "cell_type": "markdown",
   "id": "f8b7e6be",
   "metadata": {},
   "source": [
    "# 5. \n",
    "What are recursive functions, and how are they used?"
   ]
  },
  {
   "cell_type": "markdown",
   "id": "9a747c05",
   "metadata": {},
   "source": [
    "# Recursive functions:\n",
    "These are functions, which, somewhere during their execution, call themselves.\n",
    "Recursion is a powerful concept. E.g.Python program to print Fibonacci series"
   ]
  },
  {
   "cell_type": "code",
   "execution_count": 5,
   "id": "b5122fe8",
   "metadata": {
    "ExecuteTime": {
     "end_time": "2022-03-02T16:15:11.427630Z",
     "start_time": "2022-03-02T16:15:11.380718Z"
    }
   },
   "outputs": [
    {
     "name": "stdout",
     "output_type": "stream",
     "text": [
      "[1, 1, 2, 3, 5]\n"
     ]
    }
   ],
   "source": [
    "def fib(n:'int', output:'list'=[])-> 'list':\n",
    "    if n == 0:\n",
    "        return output\n",
    "    else:\n",
    "        if len(output)< 2:\n",
    "            output.append(1)\n",
    "            fib(n-1, output)\n",
    "        else:\n",
    "            last = output[-1]\n",
    "            second_last = output[-2]\n",
    "            output.append(last + second_last)\n",
    "            fib(n-1, output)\n",
    "        return output\n",
    "print(fib(5))"
   ]
  },
  {
   "cell_type": "markdown",
   "id": "661bb915",
   "metadata": {},
   "source": [
    "# 6. \n",
    "What are some general design guidelines for coding functions?"
   ]
  },
  {
   "cell_type": "markdown",
   "id": "0b4a4f45",
   "metadata": {},
   "source": [
    "# ANS 6:\n",
    "def func(positional, keyword=value, *args, **kwargs):\n",
    "    pass\n",
    "Positional arguments are mandatory and have no default values.\n",
    "Keyword arguments are optional and have default values.\n",
    "An arbitrary argument list *args is optional and has no default values.\n",
    "An arbitrary keyword argument dictionary **kwargs is optional and has no default\n",
    "values.\n",
    "# Positional arguments\n",
    "Use these when there are only a few function arguments, which are fully part of \n",
    "the function’s meaning, with a natural order. \n",
    "# Keyword arguments\n",
    "When a function has more than two or three positional parameters, its signature \n",
    "is more difficult to remember, and using keyword arguments with default values \n",
    "is helpful\n",
    "# Arbitrary argument list\n",
    "Defined with the *args construct, it denotes an extensible number of positional arguments. \n",
    "In the function body, args will be a tuple of all the remaining positional arguments\n",
    "# Other guidelines\n",
    "(A) Python functions must be easy to read (meaning the name and arguments need no\n",
    "explanation) and easy to change (meaning adding a new keyword argument won’t \n",
    "break other parts of the code)\n",
    "(B) Implementation of python function must be easy to explain\n",
    "(C) When a function grows in complexity, it often has multiple return statements.\n",
    "However, to keep a clear intent and sustain readability, it is best to return\n",
    "meaningful values from as few points in the body as possible.\n",
    "(D) Still, when possible, keep a single exit point—it’s difficult to debug functions\n",
    "when you first have to identify which return statement is responsible for your result.\n",
    "Forcing the function to exit in just one place also helps to factor out some code\n",
    "paths, as multiple exit points probably are a hint that such a refactoring is needed\n",
    "(E) It is better to include docstring giving details of how function works,\n",
    " and if possible a simple usage example etc.\n",
    "(F) Function name is usually a verb_phrase explaining what the function does?\n",
    "(G) Use two blank lines for top level functions\n",
    "(H)code has maximum lengths of 79 characters, can use backslash to break line\n",
    "(I) Avoid writing functions that don’t have an explicit return statement with a meaningful\n",
    "return value often preform actions that have side effects. A side effect can be, for \n",
    "example, printing something to the screen, modifying a global variable, updating the \n",
    "state of an object, writing some text to a file, and so on. Additionally, functions\n",
    "with an explicit return statement that return a meaningful value are easier to test \n",
    "than functions that modify or update global variables."
   ]
  },
  {
   "cell_type": "markdown",
   "id": "50302e2a",
   "metadata": {},
   "source": [
    "# 7. \n",
    "Name three or more ways that functions can communicate results to a caller."
   ]
  },
  {
   "cell_type": "markdown",
   "id": "19c8395c",
   "metadata": {},
   "source": [
    "# ANS 7:\n",
    "Even though the official documentation states that a function “returns some \n",
    "'value' to the caller,functions can return any Python object to caller code\n",
    "Everything in Python is an object. So,functions can return numeric values\n",
    "(int, float, and complex values), collections and sequences of objects \n",
    "(list, tuple, dictionary, or set objects), user-defined objects, classes, \n",
    "functions, and even modules or packages.\n",
    "\n",
    "# Some ways in which function can return results to caller\n",
    "(A)A common practice is to use the result of an expression as a return value in a\n",
    "return statement. Expressions are different from statements like conditionals or\n",
    "loops. list comprehensions are  considered expressions and can be used in return\n",
    "statements.\n",
    "(B)If no return statement is specified or if return keyword is followed by nothing\n",
    "then None type object is returned.\n",
    "(C) A return statement can also return multiple values.\n",
    "(D) A common way of writing functions with multiple return statements is to use\n",
    "conditional statements that allow you to provide different return statements \n",
    "depending on the result of evaluating some conditions\n",
    "(E)For a function that returns multiple values in a single return statement, we\n",
    "can use a collections.namedtuple object to make functions more readable. namedtuple\n",
    "is a collection class that returns a subclass of tuple that has fields or attributes. \n",
    "To use named tupe we need to know just two args:\n",
    "# typename \n",
    "holds the name of the tuple-like class that we’re creating. It needs to be a string.\n",
    "# field_name\n",
    "holds the names of the fields or attributes of the tuple-like class. It can be a\n",
    "sequence of strings such as [\"x\", \"y\"] or a single string with each name separated\n",
    "by whitespace or commas, such as \"x y\" or \"x, y\". \n",
    "(F) \n",
    "In Python, functions are first-class objects. A first-class object is an object that\n",
    "can be assigned to a variable, passed as an argument to a function, or used as a \n",
    "return value in a function. So, you can use a function object as a return value in\n",
    "any return statement.In Python, functions are first-class objects. A first-class \n",
    "object is an object that can be assigned to a variable, passed as an argument to a\n",
    "function, or used as a return value in a function. So, you can use a function object\n",
    "as a return value in any return statement. E.g. closure functions or decorator functions\n",
    "in python.\n",
    "(G)The Python return statement can also return user-defined objects. A common use\n",
    "case for this capability is the factory pattern.\n",
    "(H) When we use a return statement inside a try statement with a finally clause,\n",
    "that finally clause is always executed before the return statement. This ensures\n",
    "that the code in the finally clause will always run.\n",
    "(I) A Python function with a yield statement in its body is a generator function.\n",
    "When we call a generator function, it returns a generator iterator. So, we can\n",
    "say that a generator function is a generator factory.\n",
    "# REF: https://realpython.com/python-return-statement/"
   ]
  },
  {
   "cell_type": "code",
   "execution_count": 6,
   "id": "c33ce6a2",
   "metadata": {
    "ExecuteTime": {
     "end_time": "2022-03-02T17:38:13.246698Z",
     "start_time": "2022-03-02T17:38:13.215412Z"
    }
   },
   "outputs": [
    {
     "data": {
      "text/plain": [
       "[2, 4, 6]"
      ]
     },
     "execution_count": 6,
     "metadata": {},
     "output_type": "execute_result"
    }
   ],
   "source": [
    "def get_even(numbers):\n",
    "    return [num for num in numbers if not num % 2]\n",
    "get_even([1, 2, 3, 4, 5, 6])"
   ]
  },
  {
   "cell_type": "code",
   "execution_count": 8,
   "id": "ff75dcad",
   "metadata": {
    "ExecuteTime": {
     "end_time": "2022-03-02T17:44:28.387390Z",
     "start_time": "2022-03-02T17:44:28.356174Z"
    }
   },
   "outputs": [
    {
     "name": "stdout",
     "output_type": "stream",
     "text": [
      "None\n"
     ]
    }
   ],
   "source": [
    "def add_one(x):\n",
    "        # No return statement at all\n",
    "        result = x + 1\n",
    "value = add_one(5)\n",
    "print(value)"
   ]
  },
  {
   "cell_type": "code",
   "execution_count": 10,
   "id": "9796d385",
   "metadata": {
    "ExecuteTime": {
     "end_time": "2022-03-02T17:48:47.602609Z",
     "start_time": "2022-03-02T17:48:47.571313Z"
    }
   },
   "outputs": [
    {
     "name": "stdout",
     "output_type": "stream",
     "text": [
      "6.5\n",
      "7.0\n",
      "7\n"
     ]
    }
   ],
   "source": [
    "import statistics as st \n",
    "def describe(sample):\n",
    "    return st.mean(sample), st.median(sample), st.mode(sample)\n",
    "sample = [10, 2, 4, 7, 9, 3, 9, 8, 6, 7]\n",
    "mean, median, mode = describe(sample)\n",
    "print(mean)\n",
    "print(median)\n",
    "print(mode)"
   ]
  },
  {
   "cell_type": "code",
   "execution_count": 11,
   "id": "18082c5c",
   "metadata": {
    "ExecuteTime": {
     "end_time": "2022-03-02T17:58:50.320076Z",
     "start_time": "2022-03-02T17:58:50.288859Z"
    }
   },
   "outputs": [
    {
     "name": "stdout",
     "output_type": "stream",
     "text": [
      "15\n",
      "15\n"
     ]
    }
   ],
   "source": [
    "# A function that returns absolute value no matter positive or negaitve values\n",
    "# are passed to it.\n",
    "def my_abs(number):\n",
    "    if number > 0:\n",
    "         return number\n",
    "    elif number < 0:\n",
    "        return -number\n",
    "\n",
    "\n",
    "print(my_abs(-15))\n",
    "print(my_abs(15))"
   ]
  },
  {
   "cell_type": "code",
   "execution_count": 12,
   "id": "bc91e988",
   "metadata": {
    "ExecuteTime": {
     "end_time": "2022-03-02T18:09:40.378141Z",
     "start_time": "2022-03-02T18:09:40.340388Z"
    }
   },
   "outputs": [
    {
     "data": {
      "text/plain": [
       "Desc(mean=6.5, median=7.0, mode=7)"
      ]
     },
     "execution_count": 12,
     "metadata": {},
     "output_type": "execute_result"
    }
   ],
   "source": [
    "import statistics as st\n",
    "from collections import namedtuple\n",
    "\n",
    "def describe(sample):\n",
    "    Desc = namedtuple(\"Desc\", [\"mean\", \"median\", \"mode\"])\n",
    "    return Desc(\n",
    "        st.mean(sample),\n",
    "        st.median(sample),\n",
    "        st.mode(sample),\n",
    "    )\n",
    "sample = [10, 2, 4, 7, 9, 3, 9, 8, 6, 7]\n",
    "stat_desc = describe(sample)\n",
    "stat_desc"
   ]
  },
  {
   "cell_type": "code",
   "execution_count": null,
   "id": "b4d3d9b2",
   "metadata": {},
   "outputs": [],
   "source": [
    "def by_factor(factor):\n",
    "    def multiply(number):\n",
    "        return factor * number\n",
    "    return multiply\n",
    "double = by_factor(2)\n",
    "print(double(3))\n",
    "print(double(4))\n",
    "#\n",
    "triple = by_factor(3)\n",
    "print(triple(3))\n",
    "print(triple(4))\n"
   ]
  },
  {
   "cell_type": "code",
   "execution_count": 13,
   "id": "7a3afd96",
   "metadata": {
    "ExecuteTime": {
     "end_time": "2022-03-02T18:23:00.238558Z",
     "start_time": "2022-03-02T18:23:00.200744Z"
    }
   },
   "outputs": [
    {
     "name": "stdout",
     "output_type": "stream",
     "text": [
      "Run this before returning\n",
      "Run this before returning\n"
     ]
    },
    {
     "data": {
      "text/plain": [
       "'one'"
      ]
     },
     "execution_count": 13,
     "metadata": {},
     "output_type": "execute_result"
    }
   ],
   "source": [
    "def func(value):\n",
    "    try:\n",
    "        return float(value)\n",
    "    except ValueError:\n",
    "        return str(value)\n",
    "    finally:\n",
    "        print(\"Run this before returning\")\n",
    "func(9)\n",
    "func(\"one\")"
   ]
  },
  {
   "cell_type": "code",
   "execution_count": 14,
   "id": "f2b9c3d6",
   "metadata": {
    "ExecuteTime": {
     "end_time": "2022-03-02T18:27:32.547886Z",
     "start_time": "2022-03-02T18:27:32.231389Z"
    }
   },
   "outputs": [
    {
     "name": "stdout",
     "output_type": "stream",
     "text": [
      "1\n",
      "2\n"
     ]
    },
    {
     "ename": "StopIteration",
     "evalue": "3",
     "output_type": "error",
     "traceback": [
      "\u001b[1;31m---------------------------------------------------------------------------\u001b[0m",
      "\u001b[1;31mStopIteration\u001b[0m                             Traceback (most recent call last)",
      "\u001b[1;32m~\\AppData\\Local\\Temp/ipykernel_22344/4179337277.py\u001b[0m in \u001b[0;36m<module>\u001b[1;34m\u001b[0m\n\u001b[0;32m      7\u001b[0m \u001b[0mprint\u001b[0m\u001b[1;33m(\u001b[0m\u001b[0mnext\u001b[0m\u001b[1;33m(\u001b[0m\u001b[0mg\u001b[0m\u001b[1;33m)\u001b[0m\u001b[1;33m)\u001b[0m\u001b[1;33m\u001b[0m\u001b[1;33m\u001b[0m\u001b[0m\n\u001b[0;32m      8\u001b[0m \u001b[0mprint\u001b[0m\u001b[1;33m(\u001b[0m\u001b[0mnext\u001b[0m\u001b[1;33m(\u001b[0m\u001b[0mg\u001b[0m\u001b[1;33m)\u001b[0m\u001b[1;33m)\u001b[0m\u001b[1;33m\u001b[0m\u001b[1;33m\u001b[0m\u001b[0m\n\u001b[1;32m----> 9\u001b[1;33m \u001b[0mprint\u001b[0m\u001b[1;33m(\u001b[0m\u001b[0mnext\u001b[0m\u001b[1;33m(\u001b[0m\u001b[0mg\u001b[0m\u001b[1;33m)\u001b[0m\u001b[1;33m)\u001b[0m\u001b[1;33m\u001b[0m\u001b[1;33m\u001b[0m\u001b[0m\n\u001b[0m",
      "\u001b[1;31mStopIteration\u001b[0m: 3"
     ]
    }
   ],
   "source": [
    "def gen():\n",
    "    yield 1\n",
    "    yield 2\n",
    "    return 3\n",
    "g = gen()\n",
    "g\n",
    "print(next(g))\n",
    "print(next(g))\n",
    "print(next(g))"
   ]
  }
 ],
 "metadata": {
  "kernelspec": {
   "display_name": "Python 3 (ipykernel)",
   "language": "python",
   "name": "python3"
  },
  "language_info": {
   "codemirror_mode": {
    "name": "ipython",
    "version": 3
   },
   "file_extension": ".py",
   "mimetype": "text/x-python",
   "name": "python",
   "nbconvert_exporter": "python",
   "pygments_lexer": "ipython3",
   "version": "3.9.7"
  },
  "nbTranslate": {
   "displayLangs": [
    "*"
   ],
   "hotkey": "alt-t",
   "langInMainMenu": true,
   "sourceLang": "en",
   "targetLang": "fr",
   "useGoogleTranslate": true
  },
  "toc": {
   "base_numbering": 1,
   "nav_menu": {},
   "number_sections": true,
   "sideBar": true,
   "skip_h1_title": false,
   "title_cell": "Table of Contents",
   "title_sidebar": "Contents",
   "toc_cell": false,
   "toc_position": {},
   "toc_section_display": true,
   "toc_window_display": false
  }
 },
 "nbformat": 4,
 "nbformat_minor": 5
}
