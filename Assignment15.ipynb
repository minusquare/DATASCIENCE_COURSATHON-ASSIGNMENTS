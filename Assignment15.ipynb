{
 "cells": [
  {
   "cell_type": "markdown",
   "id": "a8239acd",
   "metadata": {},
   "source": [
    "# 1.How many seconds are in an hour? Use the interactive interpreter as a calculator and multiply the number of seconds in a minute (60) by the number of minutes in an hour (also 60)."
   ]
  },
  {
   "cell_type": "code",
   "execution_count": 7,
   "id": "dd6fc889",
   "metadata": {
    "ExecuteTime": {
     "end_time": "2022-02-28T04:12:10.353551Z",
     "start_time": "2022-02-28T04:12:10.315707Z"
    }
   },
   "outputs": [
    {
     "data": {
      "text/plain": [
       "3600"
      ]
     },
     "execution_count": 7,
     "metadata": {},
     "output_type": "execute_result"
    }
   ],
   "source": [
    "# ANS 1\n",
    "# 3600 seconds in an hour\n",
    "seconds_per_minute = 60\n",
    "minutes_per_hour = 60\n",
    "seconds_per_hour = seconds_per_minute * minutes_per_hour\n",
    "seconds_per_hour"
   ]
  },
  {
   "cell_type": "markdown",
   "id": "dc8ae587",
   "metadata": {},
   "source": [
    "# 2. Assign the result from the previous task (seconds in an hour) to a variable called seconds_per_hour."
   ]
  },
  {
   "cell_type": "code",
   "execution_count": 4,
   "id": "596a941d",
   "metadata": {
    "ExecuteTime": {
     "end_time": "2022-02-28T04:02:25.352083Z",
     "start_time": "2022-02-28T04:02:25.336497Z"
    }
   },
   "outputs": [
    {
     "data": {
      "text/plain": [
       "3600"
      ]
     },
     "execution_count": 4,
     "metadata": {},
     "output_type": "execute_result"
    }
   ],
   "source": [
    "# ANS 1\n",
    "# Already done above"
   ]
  },
  {
   "cell_type": "markdown",
   "id": "2162c1e2",
   "metadata": {},
   "source": [
    "# 3. How many seconds do you think there are in a day? Make use of the variables seconds per hour and minutes per hour."
   ]
  },
  {
   "cell_type": "code",
   "execution_count": 9,
   "id": "ddaeb3d0",
   "metadata": {
    "ExecuteTime": {
     "end_time": "2022-02-28T04:19:41.051163Z",
     "start_time": "2022-02-28T04:19:41.019894Z"
    }
   },
   "outputs": [
    {
     "name": "stdout",
     "output_type": "stream",
     "text": [
      "86400\n",
      "86400\n"
     ]
    }
   ],
   "source": [
    "# ANS 3 \n",
    "# 86400 seconds per day\n",
    "hours_per_day =24\n",
    "minutes_per_hour = 60\n",
    "seconds_per_day = seconds_per_hour * hours_per_day\n",
    "print(seconds_per_day)\n",
    "seconds_per_day2 = minutes_per_hour * hours_per_day * seconds_per_minute\n",
    "print(seconds_per_day2)"
   ]
  },
  {
   "cell_type": "markdown",
   "id": "f04712f4",
   "metadata": {},
   "source": [
    "# 4. Calculate seconds per day again, but this time save the result in a variable called seconds_per_day."
   ]
  },
  {
   "cell_type": "code",
   "execution_count": 10,
   "id": "b0de070e",
   "metadata": {
    "ExecuteTime": {
     "end_time": "2022-02-28T04:20:09.639438Z",
     "start_time": "2022-02-28T04:20:09.617283Z"
    }
   },
   "outputs": [],
   "source": [
    "# ANS 4\n",
    "# ALREADY DONE ABOVE"
   ]
  },
  {
   "cell_type": "markdown",
   "id": "2a269f25",
   "metadata": {},
   "source": [
    "# 5. Divide seconds_per_day by seconds_per_hour. Use floating-point (/) division."
   ]
  },
  {
   "cell_type": "code",
   "execution_count": 11,
   "id": "8918e67b",
   "metadata": {
    "ExecuteTime": {
     "end_time": "2022-02-28T04:21:53.515011Z",
     "start_time": "2022-02-28T04:21:53.499351Z"
    }
   },
   "outputs": [
    {
     "data": {
      "text/plain": [
       "24.0"
      ]
     },
     "execution_count": 11,
     "metadata": {},
     "output_type": "execute_result"
    }
   ],
   "source": [
    "# ANS 5: 24.0\n",
    "hours_per_day = seconds_per_day / seconds_per_hour\n",
    "hours_per_day"
   ]
  },
  {
   "cell_type": "markdown",
   "id": "b02cffa6",
   "metadata": {},
   "source": [
    "# 6. Divide seconds_per_day by seconds_per_hour, using integer (//) division. Did this number agree with the floating-point value from the previous question, aside from the final .0?"
   ]
  },
  {
   "cell_type": "code",
   "execution_count": 12,
   "id": "5425e33d",
   "metadata": {
    "ExecuteTime": {
     "end_time": "2022-02-28T04:22:19.175381Z",
     "start_time": "2022-02-28T04:22:19.144113Z"
    }
   },
   "outputs": [
    {
     "data": {
      "text/plain": [
       "24"
      ]
     },
     "execution_count": 12,
     "metadata": {},
     "output_type": "execute_result"
    }
   ],
   "source": [
    "# ANS 6: 24\n",
    "hours_per_day2 = seconds_per_day // seconds_per_hour\n",
    "hours_per_day2"
   ]
  },
  {
   "cell_type": "markdown",
   "id": "6e68ce64",
   "metadata": {},
   "source": [
    "# 7. Write a generator, genPrimes, that returns the sequence of prime numbers on successive calls to its next() method: 2, 3, 5, 7, 11, ..."
   ]
  },
  {
   "cell_type": "code",
   "execution_count": 27,
   "id": "8e3efa84",
   "metadata": {
    "ExecuteTime": {
     "end_time": "2022-02-28T04:53:36.046386Z",
     "start_time": "2022-02-28T04:53:36.024159Z"
    }
   },
   "outputs": [
    {
     "name": "stdout",
     "output_type": "stream",
     "text": [
      "2\n",
      "3\n",
      "5\n",
      "7\n",
      "11\n",
      "13\n",
      "17\n",
      "19\n",
      "23\n"
     ]
    }
   ],
   "source": [
    "# ANS 7 The required function is shown below\n",
    "def genPrimes():\n",
    "    prime_list = []\n",
    "    n = 2\n",
    "    last = n\n",
    "    \n",
    "    while True:\n",
    "        for p in prime_list:\n",
    "            if n % p == 0:\n",
    "                n += 1\n",
    "                break\n",
    "\n",
    "        else:\n",
    "            prime_list.append(n)\n",
    "            last = n\n",
    "            n += 1\n",
    "            yield last\n",
    "#\n",
    "x = genPrimes()\n",
    "print(next(x))\n",
    "print(next(x))\n",
    "print(next(x))\n",
    "print(next(x))\n",
    "print(next(x))\n",
    "print(next(x))\n",
    "print(next(x))\n",
    "print(next(x))\n",
    "print(next(x))"
   ]
  }
 ],
 "metadata": {
  "kernelspec": {
   "display_name": "Python 3 (ipykernel)",
   "language": "python",
   "name": "python3"
  },
  "language_info": {
   "codemirror_mode": {
    "name": "ipython",
    "version": 3
   },
   "file_extension": ".py",
   "mimetype": "text/x-python",
   "name": "python",
   "nbconvert_exporter": "python",
   "pygments_lexer": "ipython3",
   "version": "3.9.7"
  },
  "nbTranslate": {
   "displayLangs": [
    "*"
   ],
   "hotkey": "alt-t",
   "langInMainMenu": true,
   "sourceLang": "en",
   "targetLang": "fr",
   "useGoogleTranslate": true
  },
  "toc": {
   "base_numbering": 1,
   "nav_menu": {},
   "number_sections": true,
   "sideBar": true,
   "skip_h1_title": false,
   "title_cell": "Table of Contents",
   "title_sidebar": "Contents",
   "toc_cell": false,
   "toc_position": {},
   "toc_section_display": true,
   "toc_window_display": false
  }
 },
 "nbformat": 4,
 "nbformat_minor": 5
}
